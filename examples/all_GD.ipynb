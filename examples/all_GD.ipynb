{
 "cells": [
  {
   "cell_type": "markdown",
   "metadata": {},
   "source": [
    "# Quantum state tomography (QST) with Gradient descent (GD) "
   ]
  },
  {
   "cell_type": "markdown",
   "metadata": {},
   "source": [
    "This notebook is a demonstration of using the different GD methods to do QST. For that demonstration we will show the case of 3 qubits."
   ]
  },
  {
   "cell_type": "markdown",
   "metadata": {},
   "source": [
    "## Note 1:\n",
    "\n",
    "For the GD methods it is necesary the library Jax (https://github.com/google/jax). Also QuTip is a very important library."
   ]
  },
  {
   "cell_type": "code",
   "execution_count": 30,
   "metadata": {
    "ExecuteTime": {
     "end_time": "2025-04-17T15:15:22.487326Z",
     "start_time": "2025-04-17T15:15:22.483034Z"
    }
   },
   "outputs": [],
   "source": [
    "# To call the libraries for the GD-QST\n",
    "import sys\n",
    "sys.path.insert(0, '..')\n",
    "# You have to change the path of the library \n",
    "import os\n",
    "os.environ[\"XLA_FLAGS\"] = \"--xla_cpu_multi_thread_eigen=true:intra_op_parallelism_threads=8\"  # set 8 to your number of cores\n",
    "\n",
    "from qutip import * \n",
    "from itertools import *\n",
    "import numpy as np\n",
    "import matplotlib.pyplot as plt \n",
    "import qutip as qtp\n",
    "#from qutip import basis, tensor\n",
    "\n",
    "# Libraries for the different methods of doing QST with GD\n",
    "from qst_tec.gdchol_triangular import gd_chol_triangular, cholesky_f, rho_cons\n",
    "from qst_tec.gdchol_rank import gd_chol_rank\n",
    "from qst_tec.gdmanifold import gd_manifold, mix_rho, Nkets, softmax, expect_prob_ket\n",
    "from qst_tec.gdmanifold_adaptive import gd_manifold_adaptive, mix_rho, Nkets, softmax, expect_prob_ket\n",
    "from qst_tec.gdproj import gd_project\n",
    "from qst_tec.least_square import least_square_qst\n",
    "from qst_tec.compressed_sensing import compressed_sensing_qst\n",
    "\n",
    "import jax\n",
    "import jax.numpy as jnp\n",
    "import jax.numpy.linalg  as nlg\n",
    "from jax import grad\n",
    "from jax import jit\n",
    "from jax.example_libraries import optimizers\n",
    "from jax import config\n",
    "config.update(\"jax_enable_x64\", True) # We want float64 for better precision\n",
    "import optax\n",
    "\n",
    "from tqdm import tqdm   # For the progressbars\n",
    "import time"
   ]
  },
  {
   "cell_type": "markdown",
   "metadata": {},
   "source": [
    "### First we will define the number of qubits and the measurement operators. We will use the Pauli matrices."
   ]
  },
  {
   "cell_type": "code",
   "execution_count": 31,
   "metadata": {
    "ExecuteTime": {
     "end_time": "2025-04-17T15:16:44.198217Z",
     "start_time": "2025-04-17T15:16:44.189272Z"
    }
   },
   "outputs": [
    {
     "name": "stdout",
     "output_type": "stream",
     "text": [
      "[Quantum object: dims=[[8], [8]], shape=(8, 8), type='oper', dtype=CSR, isherm=True\n",
      "Qobj data =\n",
      "[[0. 1. 0. 0. 0. 0. 0. 0.]\n",
      " [1. 0. 0. 0. 0. 0. 0. 0.]\n",
      " [0. 0. 0. 1. 0. 0. 0. 0.]\n",
      " [0. 0. 1. 0. 0. 0. 0. 0.]\n",
      " [0. 0. 0. 0. 0. 1. 0. 0.]\n",
      " [0. 0. 0. 0. 1. 0. 0. 0.]\n",
      " [0. 0. 0. 0. 0. 0. 0. 1.]\n",
      " [0. 0. 0. 0. 0. 0. 1. 0.]], Quantum object: dims=[[8], [8]], shape=(8, 8), type='oper', dtype=CSR, isherm=True\n",
      "Qobj data =\n",
      "[[0.+0.j 0.-1.j 0.+0.j 0.+0.j 0.+0.j 0.+0.j 0.+0.j 0.+0.j]\n",
      " [0.+1.j 0.+0.j 0.+0.j 0.+0.j 0.+0.j 0.+0.j 0.+0.j 0.+0.j]\n",
      " [0.+0.j 0.+0.j 0.+0.j 0.-1.j 0.+0.j 0.+0.j 0.+0.j 0.+0.j]\n",
      " [0.+0.j 0.+0.j 0.+1.j 0.+0.j 0.+0.j 0.+0.j 0.+0.j 0.+0.j]\n",
      " [0.+0.j 0.+0.j 0.+0.j 0.+0.j 0.+0.j 0.-1.j 0.+0.j 0.+0.j]\n",
      " [0.+0.j 0.+0.j 0.+0.j 0.+0.j 0.+1.j 0.+0.j 0.+0.j 0.+0.j]\n",
      " [0.+0.j 0.+0.j 0.+0.j 0.+0.j 0.+0.j 0.+0.j 0.+0.j 0.-1.j]\n",
      " [0.+0.j 0.+0.j 0.+0.j 0.+0.j 0.+0.j 0.+0.j 0.+1.j 0.+0.j]]]\n"
     ]
    }
   ],
   "source": [
    "number_qubits: int = 3\n",
    "dimension: int = 2**number_qubits\n",
    "HS: int = dimension\n",
    "\n",
    "# Creating the Measurement operators (Pauli matrices)\n",
    "\n",
    "pauli = [qeye(2), sigmax(), sigmay(), sigmaz()]\n",
    "pauli_sys = [tensor(*op) for op in product(pauli, repeat=number_qubits)] # using itertools\n",
    "\n",
    "\n",
    "Measu_ope = [Qobj(pauli_sys[i], dims=([[2**number_qubits], [2**number_qubits]])) for i in range(len(pauli_sys))]\n",
    "\n",
    "print(Measu_ope[1:3])\n",
    "\n",
    "\n",
    "#-----------------------------------------------------------------------\n",
    "# It is necesary to transform the measurement operators from a numpy \n",
    "# type to a jax type (jax.np), that because of the jax grad \n",
    "\n",
    "ops_np = [op.full() for op in Measu_ope] # transforming from qutip object to numpy\n",
    "ops_jnp = jnp.asarray(ops_np) # transforming from numpy to jax.np"
   ]
  },
  {
   "cell_type": "markdown",
   "metadata": {},
   "source": [
    "## The ansatz"
   ]
  },
  {
   "cell_type": "markdown",
   "metadata": {},
   "source": [
    "For each one of the GD methods the creation of the ansatz is different, for the specific shape and structure of the ansatz go to the paper or check the other notebooks that shows the ansatz of each case.  "
   ]
  },
  {
   "cell_type": "code",
   "execution_count": 32,
   "metadata": {
    "ExecuteTime": {
     "end_time": "2025-04-17T15:16:50.962311Z",
     "start_time": "2025-04-17T15:16:50.955196Z"
    }
   },
   "outputs": [],
   "source": [
    "\n",
    "def ansatz(kn: int):\n",
    "    \"\"\"\n",
    "    Creates the proper ansatz structure for the different GD methods\n",
    "    \n",
    "    Args: \n",
    "        kn (int) : rank number\n",
    "    \n",
    "    Output:\n",
    "        T_rank : Ansatz GD-Cholesky rank\n",
    "        T_triangular : Ansatz GD-Cholesky triangular\n",
    "        column_ket_pro : Ansatz GD-manifold\n",
    "        ket_f, prob1_array_jnp : Ansatz GD-projective \n",
    "        \n",
    "    \"\"\"\n",
    "    \n",
    "    # T_rank  = arbitrary r x p matrix ansatz for Cholesky\n",
    "    real_part = np.random.rand(kn, dimension)  # Random numbers from a uniform distribution over [0, 1)\n",
    "    imaginary_part = np.random.rand(kn, dimension)  # Same for the imaginary part\n",
    "    guess = real_part + 1j * imaginary_part\n",
    "    T_rank = jnp.asarray(guess)\n",
    "\n",
    "    # T_triangular Lower traingular matrix ansatz for Cholesky\n",
    "    T_triangular = jnp.asarray(rho_cons(np.random.rand(dimension, dimension) + 1j*np.random.rand(dimension, dimension)))\n",
    "\n",
    "    ketl1 = Nkets(kn, HS)   # generate kn random kets with hilbert space HS\n",
    "    ketl1_np = [a.full() for a in ketl1]\n",
    "    ketl2 = [a.full().flatten() for a in ketl1]\n",
    "    ketl2_np = np.asarray(ketl2)\n",
    "    ketl2_jnp = jnp.asarray(ketl2)\n",
    "    ketl1_jnp = jnp.asarray(ketl1_np)\n",
    "    prob1_array = np.random.rand(kn) # create the second list for the random probabilities\n",
    "    prob1_array = softmax(prob1_array)\n",
    "    prob1_array_jnp = jnp.asarray(prob1_array)\n",
    "    mixed_density = 0\n",
    "    for i in range(len(ketl1)): # to create the density matrix\n",
    "        density_i = ketl1[i]*ketl1[i].dag()\n",
    "        mixed_density += prob1_array[i]*density_i\n",
    "    \n",
    "    rho_ran = mixed_density\n",
    "    rho_ran_np = rho_ran.full()\n",
    "\n",
    "    # --- kets for GD proj -------------------------------------\n",
    "    ket_f = ketl1_jnp.flatten()\n",
    "    ket_f = ket_f[:, jnp.newaxis]\n",
    "\n",
    "    # --- column ket for GD manifold ------------------------\n",
    "    prob_sqrt = jnp.sqrt(prob1_array_jnp) \n",
    "    prob1_array_reshaped = prob_sqrt[:, jnp.newaxis]\n",
    "    ket_prob_o = prob1_array_reshaped * ketl2_jnp \n",
    "    ket_prob = ket_prob_o.flatten()\n",
    "    column_ket_pro = ket_prob[:, np.newaxis]\n",
    "\n",
    "    return T_rank, T_triangular, column_ket_pro, ket_f, prob1_array_jnp"
   ]
  },
  {
   "cell_type": "markdown",
   "metadata": {},
   "source": [
    "## Implementing GD\n",
    "\n",
    "For the case of a random density matrix for 3 qubits as the original density matrix (the one we want to reconstruct) created with QuTip $\\rho_{random}$"
   ]
  },
  {
   "cell_type": "code",
   "execution_count": 33,
   "metadata": {
    "ExecuteTime": {
     "end_time": "2025-04-17T15:17:59.904986Z",
     "start_time": "2025-04-17T15:16:55.211376Z"
    }
   },
   "outputs": [
    {
     "name": "stderr",
     "output_type": "stream",
     "text": [
      "100%|██████████| 300/300 [00:00<00:00, 434.66it/s]/300 [00:00<00:00, 524.70it/s]\n",
      "Fidelity GD-chol-rank 0.9998: 100%|██████████| 300/300 [00:00<00:00, 431.09it/s]\n",
      "100%|██████████| 300/300 [00:00<00:00, 447.96it/s]▉| 299/300 [00:00<00:00, 504.62it/s]\n",
      "Fidelity GD-chol-triangular 0.9888: 100%|██████████| 300/300 [00:00<00:00, 446.85it/s]\n",
      "100%|██████████| 300/300 [00:00<00:00, 342.43it/s]300 [00:00<00:00, 415.29it/s]\n",
      "Fidelity GD-manifold 0.9996: 100%|██████████| 300/300 [00:00<00:00, 341.10it/s]\n",
      "100%|██████████| 300/300 [00:00<00:00, 316.90it/s]██▉| 299/300 [00:00<00:00, 365.93it/s]\n",
      "Fidelity GD-manifold-adaptive 0.9976: 100%|██████████| 300/300 [00:00<00:00, 316.17it/s]\n",
      "100%|██████████| 300/300 [00:01<00:00, 226.33it/s]9/300 [00:01<00:00, 292.54it/s]\n",
      "Fidelity GD-projection 0.9999: 100%|██████████| 300/300 [00:01<00:00, 225.88it/s]\n",
      "100%|██████████| 300/300 [00:00<00:00, 499.25it/s]/300 [00:00<00:00, 528.52it/s]\n",
      "Fidelity GD-chol-rank 0.9999: 100%|██████████| 300/300 [00:00<00:00, 497.76it/s]\n",
      "100%|██████████| 300/300 [00:00<00:00, 520.57it/s]▉| 299/300 [00:00<00:00, 572.79it/s]\n",
      "Fidelity GD-chol-triangular 0.9946: 100%|██████████| 300/300 [00:00<00:00, 518.98it/s]\n",
      "100%|██████████| 300/300 [00:00<00:00, 355.80it/s]300 [00:00<00:00, 426.59it/s]\n",
      "Fidelity GD-manifold 0.9995: 100%|██████████| 300/300 [00:00<00:00, 354.75it/s]\n",
      "100%|██████████| 300/300 [00:00<00:00, 368.83it/s]██▉| 299/300 [00:00<00:00, 424.35it/s]\n",
      "Fidelity GD-manifold-adaptive 0.9969: 100%|██████████| 300/300 [00:00<00:00, 367.54it/s]\n",
      "100%|██████████| 300/300 [00:01<00:00, 220.86it/s]9/300 [00:01<00:00, 295.35it/s]\n",
      "Fidelity GD-projection 1.0000: 100%|██████████| 300/300 [00:01<00:00, 220.25it/s]\n",
      "100%|██████████| 300/300 [00:00<00:00, 498.15it/s]/300 [00:00<00:00, 527.55it/s]\n",
      "Fidelity GD-chol-rank 0.9996: 100%|██████████| 300/300 [00:00<00:00, 496.93it/s]\n",
      "100%|██████████| 300/300 [00:00<00:00, 498.27it/s]▉| 299/300 [00:00<00:00, 527.60it/s]\n",
      "Fidelity GD-chol-triangular 0.9870: 100%|██████████| 300/300 [00:00<00:00, 496.83it/s]\n",
      "100%|██████████| 300/300 [00:00<00:00, 370.40it/s]300 [00:00<00:00, 454.07it/s]\n",
      "Fidelity GD-manifold 0.9996: 100%|██████████| 300/300 [00:00<00:00, 369.16it/s]\n",
      "100%|██████████| 300/300 [00:00<00:00, 370.15it/s]██▉| 299/300 [00:00<00:00, 453.65it/s]\n",
      "Fidelity GD-manifold-adaptive 0.9977: 100%|██████████| 300/300 [00:00<00:00, 368.76it/s]\n",
      "100%|██████████| 300/300 [00:01<00:00, 235.04it/s]9/300 [00:01<00:00, 295.57it/s]\n",
      "Fidelity GD-projection 0.9999: 100%|██████████| 300/300 [00:01<00:00, 234.26it/s]\n",
      "100%|██████████| 300/300 [00:00<00:00, 505.67it/s]/300 [00:00<00:00, 544.86it/s]\n",
      "Fidelity GD-chol-rank 1.0000: 100%|██████████| 300/300 [00:00<00:00, 504.30it/s]\n",
      "100%|██████████| 300/300 [00:00<00:00, 516.61it/s]▉| 299/300 [00:00<00:00, 583.72it/s]\n",
      "Fidelity GD-chol-triangular 0.9978: 100%|██████████| 300/300 [00:00<00:00, 514.97it/s]\n",
      "100%|██████████| 300/300 [00:00<00:00, 384.08it/s]300 [00:00<00:00, 443.15it/s]\n",
      "Fidelity GD-manifold 0.9996: 100%|██████████| 300/300 [00:00<00:00, 382.73it/s]\n",
      "100%|██████████| 300/300 [00:00<00:00, 362.23it/s]██▉| 299/300 [00:00<00:00, 445.17it/s]\n",
      "Fidelity GD-manifold-adaptive 0.9963: 100%|██████████| 300/300 [00:00<00:00, 360.96it/s]\n",
      "100%|██████████| 300/300 [00:01<00:00, 217.91it/s]9/300 [00:01<00:00, 277.90it/s]\n",
      "Fidelity GD-projection 0.9997: 100%|██████████| 300/300 [00:01<00:00, 217.33it/s]\n",
      "100%|██████████| 300/300 [00:00<00:00, 497.51it/s]/300 [00:00<00:00, 525.37it/s]\n",
      "Fidelity GD-chol-rank 1.0000: 100%|██████████| 300/300 [00:00<00:00, 496.25it/s]\n",
      "100%|██████████| 300/300 [00:00<00:00, 487.65it/s]▉| 299/300 [00:00<00:00, 551.40it/s]\n",
      "Fidelity GD-chol-triangular 0.9939: 100%|██████████| 300/300 [00:00<00:00, 486.44it/s]\n",
      "100%|██████████| 300/300 [00:00<00:00, 370.49it/s]300 [00:00<00:00, 458.07it/s]\n",
      "Fidelity GD-manifold 0.9995: 100%|██████████| 300/300 [00:00<00:00, 369.06it/s]\n",
      "100%|██████████| 300/300 [00:00<00:00, 362.11it/s]██▉| 299/300 [00:00<00:00, 440.57it/s]\n",
      "Fidelity GD-manifold-adaptive 0.9976: 100%|██████████| 300/300 [00:00<00:00, 360.93it/s]\n",
      "100%|██████████| 300/300 [00:01<00:00, 231.73it/s]9/300 [00:01<00:00, 297.70it/s]\n",
      "Fidelity GD-projection 0.9997: 100%|██████████| 300/300 [00:01<00:00, 228.92it/s]\n",
      "100%|██████████| 300/300 [00:00<00:00, 503.76it/s]/300 [00:00<00:00, 592.08it/s]\n",
      "Fidelity GD-chol-rank 1.0000: 100%|██████████| 300/300 [00:00<00:00, 502.32it/s]\n",
      "100%|██████████| 300/300 [00:00<00:00, 498.30it/s]▉| 299/300 [00:00<00:00, 524.82it/s]\n",
      "Fidelity GD-chol-triangular 0.9875: 100%|██████████| 300/300 [00:00<00:00, 497.16it/s]\n",
      "100%|██████████| 300/300 [00:00<00:00, 375.88it/s]300 [00:00<00:00, 425.39it/s]\n",
      "Fidelity GD-manifold 0.9997: 100%|██████████| 300/300 [00:00<00:00, 374.70it/s]\n",
      "100%|██████████| 300/300 [00:00<00:00, 347.77it/s]██▉| 299/300 [00:00<00:00, 425.28it/s]\n",
      "Fidelity GD-manifold-adaptive 0.9972: 100%|██████████| 300/300 [00:00<00:00, 346.71it/s]\n",
      "100%|██████████| 300/300 [00:01<00:00, 222.45it/s]9/300 [00:01<00:00, 266.02it/s]\n",
      "Fidelity GD-projection 1.0000: 100%|██████████| 300/300 [00:01<00:00, 221.94it/s]\n",
      "100%|██████████| 300/300 [00:00<00:00, 458.96it/s]/300 [00:00<00:00, 506.15it/s]\n",
      "Fidelity GD-chol-rank 1.0000: 100%|██████████| 300/300 [00:00<00:00, 457.85it/s]\n",
      "100%|██████████| 300/300 [00:00<00:00, 488.73it/s]▉| 299/300 [00:00<00:00, 520.46it/s]\n",
      "Fidelity GD-chol-triangular 0.9615: 100%|██████████| 300/300 [00:00<00:00, 487.28it/s]\n",
      "100%|██████████| 300/300 [00:00<00:00, 369.90it/s]300 [00:00<00:00, 455.79it/s]\n",
      "Fidelity GD-manifold 0.9997: 100%|██████████| 300/300 [00:00<00:00, 362.66it/s]\n",
      "100%|██████████| 300/300 [00:00<00:00, 351.28it/s]██▉| 299/300 [00:00<00:00, 455.33it/s]\n",
      "Fidelity GD-manifold-adaptive 0.9967: 100%|██████████| 300/300 [00:00<00:00, 343.63it/s]\n",
      "100%|██████████| 300/300 [00:01<00:00, 203.65it/s]9/300 [00:01<00:00, 245.52it/s]\n",
      "Fidelity GD-projection 1.0000: 100%|██████████| 300/300 [00:01<00:00, 203.18it/s]\n",
      "100%|██████████| 300/300 [00:00<00:00, 419.49it/s]/300 [00:00<00:00, 442.22it/s]\n",
      "Fidelity GD-chol-rank 0.9999: 100%|██████████| 300/300 [00:00<00:00, 418.34it/s]\n",
      "100%|██████████| 300/300 [00:00<00:00, 402.14it/s]▉| 299/300 [00:00<00:00, 460.28it/s]\n",
      "Fidelity GD-chol-triangular 0.9862: 100%|██████████| 300/300 [00:00<00:00, 401.31it/s]\n",
      "100%|██████████| 300/300 [00:00<00:00, 316.15it/s]300 [00:00<00:00, 387.83it/s]\n",
      "Fidelity GD-manifold 0.9995: 100%|██████████| 300/300 [00:00<00:00, 315.30it/s]\n",
      "100%|██████████| 300/300 [00:00<00:00, 310.59it/s]███| 300/300 [00:00<00:00, 371.05it/s]\n",
      "Fidelity GD-manifold-adaptive 0.9967: 100%|██████████| 300/300 [00:00<00:00, 309.46it/s]\n",
      "100%|██████████| 300/300 [00:01<00:00, 200.94it/s]9/300 [00:01<00:00, 257.16it/s]\n",
      "Fidelity GD-projection 1.0000: 100%|██████████| 300/300 [00:01<00:00, 200.49it/s]\n",
      "100%|██████████| 300/300 [00:00<00:00, 437.72it/s]/300 [00:00<00:00, 499.76it/s]\n",
      "Fidelity GD-chol-rank 1.0000: 100%|██████████| 300/300 [00:00<00:00, 436.17it/s]\n",
      "100%|██████████| 300/300 [00:00<00:00, 427.46it/s]▉| 299/300 [00:00<00:00, 510.47it/s]\n",
      "Fidelity GD-chol-triangular 0.9958: 100%|██████████| 300/300 [00:00<00:00, 423.33it/s]\n",
      "100%|██████████| 300/300 [00:01<00:00, 291.80it/s]300 [00:01<00:00, 316.26it/s]\n",
      "Fidelity GD-manifold 0.9996: 100%|██████████| 300/300 [00:01<00:00, 291.05it/s]\n",
      "100%|██████████| 300/300 [00:01<00:00, 275.44it/s]██▉| 299/300 [00:01<00:00, 311.99it/s]\n",
      "Fidelity GD-manifold-adaptive 0.9972: 100%|██████████| 300/300 [00:01<00:00, 274.67it/s]\n",
      "100%|██████████| 300/300 [00:01<00:00, 186.89it/s]9/300 [00:01<00:00, 230.05it/s]\n",
      "Fidelity GD-projection 1.0000: 100%|██████████| 300/300 [00:01<00:00, 186.49it/s]\n",
      "100%|██████████| 300/300 [00:00<00:00, 376.91it/s]/300 [00:00<00:00, 420.99it/s]\n",
      "Fidelity GD-chol-rank 1.0000: 100%|██████████| 300/300 [00:00<00:00, 375.94it/s]\n",
      "100%|██████████| 300/300 [00:00<00:00, 395.91it/s]▉| 299/300 [00:00<00:00, 446.28it/s]\n",
      "Fidelity GD-chol-triangular 0.9891: 100%|██████████| 300/300 [00:00<00:00, 394.29it/s]\n",
      "100%|██████████| 300/300 [00:01<00:00, 288.25it/s]300 [00:01<00:00, 355.55it/s]\n",
      "Fidelity GD-manifold 0.9997: 100%|██████████| 300/300 [00:01<00:00, 287.18it/s]\n",
      "100%|██████████| 300/300 [00:01<00:00, 292.36it/s]██▉| 299/300 [00:01<00:00, 337.27it/s]\n",
      "Fidelity GD-manifold-adaptive 0.9967: 100%|██████████| 300/300 [00:01<00:00, 291.46it/s]\n",
      "100%|██████████| 300/300 [00:01<00:00, 188.82it/s]9/300 [00:01<00:00, 237.70it/s]\n",
      "Fidelity GD-projection 1.0000: 100%|██████████| 300/300 [00:01<00:00, 185.02it/s]\n"
     ]
    }
   ],
   "source": [
    "# List to save the values of fidelity and time for the GD methods\n",
    "\n",
    "fid_list_chol_rank, fid_list_chol_triangular, fid_list_mani, fid_list_mani_adaptive, fid_list_proj = [], [], [], [], []\n",
    "time_list_chol_rank, time_list_chol_triangular, time_list_mani, time_list_mani_adaptive, time_list_proj = [], [], [], [], []\n",
    "\n",
    "\n",
    "max_itera: int = 300\n",
    "batch_s = round(0.5*len(ops_jnp)) # The batch size, taking a group of measurement operators \n",
    "\n",
    "# The for is to run all the methods multiple times, and then have an average \n",
    "for i in range(10):  \n",
    "\n",
    "    # creating the original densirty matrix, this with a random rho from QuTip\n",
    "    rho_or = rand_dm(2**number_qubits)\n",
    "    data = qtp.expect(Measu_ope,rho_or)\n",
    "\n",
    "    ##-----------------GD-QST starts ---------------\n",
    "    # define rank of ansatz\n",
    "    rank = 2**number_qubits # maximum rank is 2**N\n",
    "    T_rank, T_triangular, column_ket_pro, ket_f, prob1_array_jnp = ansatz(rank)\n",
    "\n",
    "    # ..........................................................................\n",
    "    # GD-QST-Cholesky-Rank \n",
    "    \n",
    "    rho_gd_chol_rank, f_gd_chol_rank, t_gd_chol_rank, _ = gd_chol_rank(data, rho_or, ops_jnp, T_rank, max_itera, batch_s, \n",
    "                                                            lr=0.5, decay= 0.999,lamb=0, tqdm_off=False)\n",
    "    fid_list_chol_rank.append(f_gd_chol_rank)\n",
    "    time_list_chol_rank.append(t_gd_chol_rank)\n",
    "\n",
    "    #...........................................................................\n",
    "    # GD-QST-Cholesky-triangular\n",
    "    rho_gd_chol_triangular, f_gd_chol_triangular, t_gd_chol_triangular, _ = gd_chol_triangular(data, rho_or, ops_jnp, T_triangular, max_itera, batch_s, \n",
    "                                                            lr=0.5, decay= 0.999,lamb=0, tqdm_off=False)\n",
    "    fid_list_chol_triangular.append(f_gd_chol_triangular)\n",
    "    time_list_chol_triangular.append(t_gd_chol_triangular)\n",
    "\n",
    "    # ...........................................................................\n",
    "    # GD-QST-manifold\n",
    "    rho_gd_mani, f_gd_mani, t_gd_mani, loss_gd_mani = gd_manifold(data, rho_or, ops_jnp, column_ket_pro, max_itera, batch_s, \n",
    "                                                           lr=0.1, decay=0.997, lamb=0, tqdm_off=False)   \n",
    "    fid_list_mani.append(f_gd_mani)\n",
    "    time_list_mani.append(t_gd_mani)\n",
    "             \n",
    "    # ...........................................................................                                  \n",
    "    # GD-QST-manifold-adaptive\n",
    "    rho_gd_mani_adaptive, f_gd_mani_adaptive, t_gd_mani_adaptive, _ = gd_manifold_adaptive(data, rho_or, ops_jnp, column_ket_pro, max_itera, batch_s, \n",
    "                                                            lr=1e-1, boost = 1.08, decay = 0.99, lamb = 0, tqdm_off=False)\n",
    "    fid_list_mani_adaptive.append(f_gd_mani_adaptive)\n",
    "    time_list_mani_adaptive.append(t_gd_mani_adaptive)\n",
    "    \n",
    "    # ...........................................................................\n",
    "    # GD-QST-projection\n",
    "    rho_gd_proj, f_gd_proj, t_gd_proj, loss_gd_proj = gd_project(data, rho_or, ops_jnp, ket_f, prob1_array_jnp, max_itera, batch_s,\n",
    "                                                             lr=1e-1, decay=0.099, lamb=0, tqdm_off=False)\n",
    "    fid_list_proj.append(f_gd_proj)\n",
    "    time_list_proj.append(t_gd_proj)"
   ]
  },
  {
   "cell_type": "markdown",
   "metadata": {},
   "source": [
    "Calculation of the mean value of fidelity and standard deviation. Also for the case of the time of each method."
   ]
  },
  {
   "cell_type": "code",
   "execution_count": 34,
   "metadata": {
    "ExecuteTime": {
     "end_time": "2025-04-18T01:43:41.062256Z",
     "start_time": "2025-04-18T01:43:41.052615Z"
    }
   },
   "outputs": [],
   "source": [
    "fid_list_chol_rank = np.array(fid_list_chol_rank)\n",
    "fid_list_chol_triangular = np.array(fid_list_chol_triangular)\n",
    "fid_list_mani = np.array(fid_list_mani)\n",
    "fid_list_mani_adaptive = np.array(fid_list_mani_adaptive)\n",
    "fid_list_proj = np.array(fid_list_proj)\n",
    "\n",
    "\n",
    "# Compute mean fidelity\n",
    "mean_fid_chol_rank = np.mean(fid_list_chol_rank, axis=0)\n",
    "mean_fid_chol_triangular = np.mean(fid_list_chol_triangular, axis=0)\n",
    "mean_fid_mani = np.mean(fid_list_mani, axis=0)\n",
    "mean_fid_mani_adaptive = np.mean(fid_list_mani_adaptive, axis=0)\n",
    "mean_fid_proj = np.mean(fid_list_proj, axis=0)\n",
    "\n",
    "# Compute standard deviation in the mean fidelity\n",
    "std_fid_chol_rank = np.std(fid_list_chol_rank, axis=0)\n",
    "std_fid_chol_triangular = np.std(fid_list_chol_triangular, axis=0)\n",
    "std_fid_mani = np.std(fid_list_mani, axis=0)\n",
    "std_fid_mani_adaptive = np.std(fid_list_mani_adaptive, axis=0)\n",
    "std_fid_proj = np.std(fid_list_proj, axis=0)\n",
    "\n",
    "\n",
    "########################### Average time ###################\n",
    "\n",
    "time_list_chol_rank = np.array(time_list_chol_rank)\n",
    "time_list_chol_triangular = np.array(time_list_chol_triangular)\n",
    "time_list_mani = np.array(time_list_mani)\n",
    "time_list_mani_adaptive = np.array(time_list_mani_adaptive)\n",
    "time_list_proj = np.array(time_list_proj)\n",
    "\n",
    "# Compute mean fidelity\n",
    "mean_time_chol_rank = np.mean(time_list_chol_rank, axis=0)\n",
    "mean_time_chol_triangular = np.mean(time_list_chol_triangular, axis=0)\n",
    "mean_time_mani = np.mean(time_list_mani, axis=0)\n",
    "mean_time_mani_adaptive = np.mean(time_list_mani_adaptive, axis=0)\n",
    "mean_time_proj = np.mean(time_list_proj, axis=0)\n",
    "\n",
    "# Compute standard deviation in the mean fidelity\n",
    "std_time_chol_rank = np.std(time_list_chol_rank, axis=0)\n",
    "std_time_chol_triangular = np.std(time_list_chol_triangular, axis=0)\n",
    "std_time_mani = np.std(time_list_mani, axis=0)\n",
    "std_time_mani_adaptive = np.std(time_list_mani_adaptive, axis=0)\n",
    "std_time_proj = np.std(time_list_proj, axis=0)\n"
   ]
  },
  {
   "cell_type": "markdown",
   "metadata": {},
   "source": [
    "### Plotting the results"
   ]
  },
  {
   "cell_type": "code",
   "execution_count": 35,
   "metadata": {
    "ExecuteTime": {
     "end_time": "2025-04-18T01:43:45.112332Z",
     "start_time": "2025-04-18T01:43:44.695513Z"
    }
   },
   "outputs": [
    {
     "data": {
      "image/png": "[encoded data removed]",
      "text/plain": [
       "<Figure size 1000x400 with 2 Axes>"
      ]
     },
     "metadata": {},
     "output_type": "display_data"
    }
   ],
   "source": [
    "fig, (ax1,ax2) = plt.subplots(1,2, figsize=(10,4))\n",
    "\n",
    "\n",
    "###-------------Fidelity Vs iterations -------------#######\n",
    "\n",
    "ax1.set_title(\"Iterations vs Fidelity\", fontsize=12)\n",
    "\n",
    "iterations = np.arange(1,len(f_gd_chol_rank)+1)   # total number of iterations\n",
    "\n",
    "ax1.plot(iterations, mean_fid_chol_rank, color='red',label=\"chol_rank\")\n",
    "ax1.fill_between(iterations, mean_fid_chol_rank - std_fid_chol_rank, mean_fid_chol_rank + std_fid_chol_rank, alpha=0.2, color='red')\n",
    "\n",
    "ax1.plot(iterations, mean_fid_chol_triangular, color='blue',label=\"chol_triangular\")\n",
    "ax1.fill_between(iterations, mean_fid_chol_triangular - std_fid_chol_triangular, mean_fid_chol_triangular + std_fid_chol_triangular, alpha=0.2, color='blue')\n",
    "\n",
    "ax1.plot(iterations, mean_fid_mani, color='green',label=\"manifold\")\n",
    "ax1.fill_between(iterations, mean_fid_mani - std_fid_mani, mean_fid_mani + std_fid_mani, alpha=0.2, color='green')\n",
    "\n",
    "ax1.plot(iterations, mean_fid_mani_adaptive, color='purple',label=\"manifold_adaptive\")\n",
    "ax1.fill_between(iterations, mean_fid_mani_adaptive - std_fid_mani_adaptive, mean_fid_mani_adaptive + std_fid_mani_adaptive, alpha=0.2, color='purple')\n",
    "\n",
    "ax1.plot(iterations, mean_fid_proj, color='orange',label=\"projective\")\n",
    "ax1.fill_between(iterations, mean_fid_proj - std_fid_proj, mean_fid_proj + std_fid_proj, alpha=0.2, color='orange')\n",
    "\n",
    "ax1.legend(loc='lower right')\n",
    "ax1.set_xlabel(\"Iterations\")\n",
    "ax1.set_ylabel(\"Fidelity\")\n",
    "\n",
    "\n",
    "###-------------Fidelity Vs time -------------#######\n",
    "\n",
    "ax2.set_title(\"Time vs Fidelity\", fontsize=12)\n",
    "\n",
    "ax2.plot(mean_time_chol_rank, mean_fid_chol_rank, color='red',label=\"chol_rank\")\n",
    "ax2.fill_between(mean_time_chol_rank, mean_fid_chol_rank - std_fid_chol_rank, mean_fid_chol_rank + std_fid_chol_rank, alpha=0.2, color='red')\n",
    "\n",
    "ax2.plot(mean_time_chol_triangular, mean_fid_chol_triangular, color='blue',label=\"chol_triangular\")\n",
    "ax2.fill_between(mean_time_chol_triangular, mean_fid_chol_triangular - std_fid_chol_triangular, mean_fid_chol_triangular + std_fid_chol_triangular, alpha=0.2, color='blue')\n",
    "\n",
    "ax2.plot(mean_time_mani, mean_fid_mani, color='green',label=\"manifold\")\n",
    "ax2.fill_between(mean_time_mani, mean_fid_mani - std_fid_mani, mean_fid_mani + std_fid_mani, alpha=0.2, color='green')\n",
    "\n",
    "ax2.plot(mean_time_mani_adaptive, mean_fid_mani_adaptive, color='purple',label=\"manifold_adaptive\")\n",
    "ax2.fill_between(mean_time_mani_adaptive, mean_fid_mani_adaptive - std_fid_mani_adaptive, mean_fid_mani_adaptive + std_fid_mani_adaptive, alpha=0.2, color='purple')\n",
    "\n",
    "ax2.plot(mean_time_proj, mean_fid_proj, color='orange',label=\"projective\")\n",
    "ax2.fill_between(mean_time_proj, mean_fid_proj - std_fid_proj, mean_fid_proj + std_fid_proj, alpha=0.2, color='orange')\n",
    "\n",
    "\n",
    "ax2.legend(loc='lower right')\n",
    "ax2.set_xlabel(\"Time (sec)\")\n",
    "ax2.set_ylabel(\"Fidelity\")\n",
    "\n",
    "plt.show()\n"
   ]
  },
  {
   "cell_type": "code",
   "execution_count": 36,
   "metadata": {
    "ExecuteTime": {
     "end_time": "2025-04-18T01:43:50.412560Z",
     "start_time": "2025-04-18T01:43:50.408212Z"
    }
   },
   "outputs": [
    {
     "name": "stdout",
     "output_type": "stream",
     "text": [
      "max fidelity (chol_rank) and time in seconds : [0.9999996045827543, 0.5336246013641357]\n",
      "max fidelity (chol_triangular): [0.9890832515155388, 0.5317785739898682]\n",
      "max fidelity (chol_manifold): [0.9997362735090111, 0.7570416450500488]\n",
      "max fidelity (chol_manifold_adaptive): [0.9981961603274198, 0.5637930870056153]\n",
      "max fidelity (chol_proj): [0.9999925451316253, 1.296843457221985]\n"
     ]
    }
   ],
   "source": [
    "print('max fidelity (chol_rank) and time in seconds :', [np.max(f_gd_chol_rank), mean_time_chol_rank[np.argmax(mean_fid_chol_rank)]])\n",
    "print('max fidelity (chol_triangular):', [np.max(f_gd_chol_triangular), mean_time_chol_triangular[np.argmax(mean_fid_chol_triangular)]])\n",
    "print('max fidelity (chol_manifold):', [np.max(f_gd_mani), mean_time_mani[np.argmax(mean_fid_mani)]])\n",
    "print('max fidelity (chol_manifold_adaptive):', [np.max(f_gd_mani_adaptive), mean_time_mani_adaptive[np.argmax(mean_fid_mani_adaptive)]])\n",
    "print('max fidelity (chol_proj):', [np.max(f_gd_proj), mean_time_proj[np.argmax(mean_fid_proj)]])\n"
   ]
  },
  {
   "cell_type": "markdown",
   "metadata": {},
   "source": [
    "## GHZ state\n",
    "Now let's reconstruct a GHZ state\n",
    "$$ \\frac{|000\\rangle + |111\\rangle}{\\sqrt{2}}$$"
   ]
  },
  {
   "cell_type": "code",
   "execution_count": 37,
   "metadata": {
    "ExecuteTime": {
     "end_time": "2025-04-18T01:43:52.465352Z",
     "start_time": "2025-04-18T01:43:52.460389Z"
    }
   },
   "outputs": [
    {
     "name": "stdout",
     "output_type": "stream",
     "text": [
      "Quantum object: dims=[[8], [1]], shape=(8, 1), type='ket', dtype=Dense\n",
      "Qobj data =\n",
      "[[0.70710678]\n",
      " [0.        ]\n",
      " [0.        ]\n",
      " [0.        ]\n",
      " [0.        ]\n",
      " [0.        ]\n",
      " [0.        ]\n",
      " [0.70710678]]\n"
     ]
    }
   ],
   "source": [
    "# Define the basis states |0> and |1> for a single qubit\n",
    "zero = qtp.basis(2, 0)  # |0>\n",
    "one = qtp.basis(2, 1)   # |1>\n",
    "\n",
    "# Construct the |000> and |111> states for 3 qubits\n",
    "state_000 = qtp.tensor(zero, zero, zero)  # |000>\n",
    "state_111 = qtp.tensor(one, one, one)     # |111>\n",
    "\n",
    "# Create the GHZ state: (|000> + |111>) / sqrt(2)\n",
    "ghz_state = (state_000 + state_111).unit()\n",
    "ghz_state = qtp.Qobj(ghz_state.full(), dims=[[8], [1]])  # Reshape the GHZ state to have dimensions [8]\n",
    "# This reshape is necessary for the function qtp.expect. It will depend of the version of QuTip\n",
    " \n",
    "print(ghz_state)"
   ]
  },
  {
   "cell_type": "code",
   "execution_count": 38,
   "metadata": {
    "ExecuteTime": {
     "end_time": "2025-04-18T01:44:29.536196Z",
     "start_time": "2025-04-18T01:43:55.250002Z"
    }
   },
   "outputs": [
    {
     "name": "stderr",
     "output_type": "stream",
     "text": [
      "100%|██████████| 300/300 [00:00<00:00, 463.87it/s]/300 [00:00<00:00, 539.12it/s]\n",
      "Fidelity GD-chol-rank 1.0000: 100%|██████████| 300/300 [00:00<00:00, 461.95it/s]\n",
      "100%|██████████| 300/300 [00:00<00:00, 487.84it/s]▉| 299/300 [00:00<00:00, 520.89it/s]\n",
      "Fidelity GD-chol-triangular 0.9992: 100%|██████████| 300/300 [00:00<00:00, 486.44it/s]\n",
      "100%|██████████| 300/300 [00:00<00:00, 552.73it/s]300 [00:00<00:00, 582.45it/s]\n",
      "Fidelity GD-manifold 0.9999: 100%|██████████| 300/300 [00:00<00:00, 551.04it/s]\n",
      "100%|██████████| 300/300 [00:00<00:00, 521.17it/s]██▉| 299/300 [00:00<00:00, 535.98it/s]\n",
      "Fidelity GD-manifold-adaptive 0.9996: 100%|██████████| 300/300 [00:00<00:00, 519.54it/s]\n",
      "100%|██████████| 300/300 [00:00<00:00, 475.14it/s]9/300 [00:00<00:00, 520.56it/s]\n",
      "Fidelity GD-projection 1.0000: 100%|██████████| 300/300 [00:00<00:00, 473.70it/s]\n",
      "100%|██████████| 300/300 [00:00<00:00, 529.32it/s]/300 [00:00<00:00, 591.86it/s]\n",
      "Fidelity GD-chol-rank 1.0000: 100%|██████████| 300/300 [00:00<00:00, 528.03it/s]\n",
      "100%|██████████| 300/300 [00:00<00:00, 498.40it/s]▉| 299/300 [00:00<00:00, 554.10it/s]\n",
      "Fidelity GD-chol-triangular 0.9995: 100%|██████████| 300/300 [00:00<00:00, 497.11it/s]\n",
      "100%|██████████| 300/300 [00:00<00:00, 526.72it/s]300 [00:00<00:00, 566.05it/s]\n",
      "Fidelity GD-manifold 0.9998: 100%|██████████| 300/300 [00:00<00:00, 524.96it/s]\n",
      "100%|██████████| 300/300 [00:00<00:00, 485.91it/s]██▉| 299/300 [00:00<00:00, 547.32it/s]\n",
      "Fidelity GD-manifold-adaptive 0.9975: 100%|██████████| 300/300 [00:00<00:00, 484.53it/s]\n",
      "100%|██████████| 300/300 [00:00<00:00, 466.49it/s]9/300 [00:00<00:00, 495.16it/s]\n",
      "Fidelity GD-projection 1.0000: 100%|██████████| 300/300 [00:00<00:00, 465.19it/s]\n",
      "100%|██████████| 300/300 [00:00<00:00, 462.46it/s]/300 [00:00<00:00, 458.55it/s]\n",
      "Fidelity GD-chol-rank 1.0000: 100%|██████████| 300/300 [00:00<00:00, 461.48it/s]\n",
      "100%|██████████| 300/300 [00:00<00:00, 477.58it/s]▉| 299/300 [00:00<00:00, 476.43it/s]\n",
      "Fidelity GD-chol-triangular 0.9993: 100%|██████████| 300/300 [00:00<00:00, 475.94it/s]\n",
      "100%|██████████| 300/300 [00:00<00:00, 513.67it/s]300 [00:00<00:00, 568.15it/s]\n",
      "Fidelity GD-manifold 0.9999: 100%|██████████| 300/300 [00:00<00:00, 512.22it/s]\n",
      "100%|██████████| 300/300 [00:00<00:00, 527.35it/s]██▉| 299/300 [00:00<00:00, 566.28it/s]\n",
      "Fidelity GD-manifold-adaptive 0.9982: 100%|██████████| 300/300 [00:00<00:00, 525.98it/s]\n",
      "100%|██████████| 300/300 [00:00<00:00, 493.67it/s]9/300 [00:00<00:00, 570.57it/s]\n",
      "Fidelity GD-projection 1.0000: 100%|██████████| 300/300 [00:00<00:00, 492.27it/s]\n",
      "100%|██████████| 300/300 [00:00<00:00, 501.53it/s]/300 [00:00<00:00, 518.90it/s]\n",
      "Fidelity GD-chol-rank 1.0000: 100%|██████████| 300/300 [00:00<00:00, 499.94it/s]\n",
      "100%|██████████| 300/300 [00:00<00:00, 479.13it/s]▉| 299/300 [00:00<00:00, 575.56it/s]\n",
      "Fidelity GD-chol-triangular 0.9996: 100%|██████████| 300/300 [00:00<00:00, 477.39it/s]\n",
      "100%|██████████| 300/300 [00:00<00:00, 553.83it/s]300 [00:00<00:00, 603.12it/s]\n",
      "Fidelity GD-manifold 0.9996: 100%|██████████| 300/300 [00:00<00:00, 552.40it/s]\n",
      "100%|██████████| 300/300 [00:00<00:00, 530.12it/s]██▉| 299/300 [00:00<00:00, 560.18it/s]\n",
      "Fidelity GD-manifold-adaptive 0.9987: 100%|██████████| 300/300 [00:00<00:00, 528.74it/s]\n",
      "100%|██████████| 300/300 [00:00<00:00, 490.38it/s]9/300 [00:00<00:00, 545.81it/s]\n",
      "Fidelity GD-projection 1.0000: 100%|██████████| 300/300 [00:00<00:00, 488.48it/s]\n",
      "100%|██████████| 300/300 [00:00<00:00, 505.21it/s]/300 [00:00<00:00, 540.41it/s]\n",
      "Fidelity GD-chol-rank 1.0000: 100%|██████████| 300/300 [00:00<00:00, 503.89it/s]\n",
      "100%|██████████| 300/300 [00:00<00:00, 448.83it/s]▉| 299/300 [00:00<00:00, 511.08it/s]\n",
      "Fidelity GD-chol-triangular 0.9993: 100%|██████████| 300/300 [00:00<00:00, 447.49it/s]\n",
      "100%|██████████| 300/300 [00:00<00:00, 504.58it/s]300 [00:00<00:00, 534.11it/s]\n",
      "Fidelity GD-manifold 0.9998: 100%|██████████| 300/300 [00:00<00:00, 503.16it/s]\n",
      "100%|██████████| 300/300 [00:00<00:00, 433.59it/s]██▉| 299/300 [00:00<00:00, 435.16it/s]\n",
      "Fidelity GD-manifold-adaptive 0.9989: 100%|██████████| 300/300 [00:00<00:00, 432.45it/s]\n",
      "100%|██████████| 300/300 [00:00<00:00, 451.82it/s]9/300 [00:00<00:00, 483.33it/s]\n",
      "Fidelity GD-projection 1.0000: 100%|██████████| 300/300 [00:00<00:00, 450.73it/s]\n",
      "100%|██████████| 300/300 [00:00<00:00, 453.71it/s]/300 [00:00<00:00, 502.39it/s]\n",
      "Fidelity GD-chol-rank 1.0000: 100%|██████████| 300/300 [00:00<00:00, 452.50it/s]\n",
      "100%|██████████| 300/300 [00:00<00:00, 413.10it/s]▉| 299/300 [00:00<00:00, 498.86it/s]\n",
      "Fidelity GD-chol-triangular 0.9992: 100%|██████████| 300/300 [00:00<00:00, 412.12it/s]\n",
      "100%|██████████| 300/300 [00:00<00:00, 429.59it/s]300 [00:00<00:00, 494.88it/s]\n",
      "Fidelity GD-manifold 0.9998: 100%|██████████| 300/300 [00:00<00:00, 428.68it/s]\n",
      "100%|██████████| 300/300 [00:00<00:00, 422.93it/s]██▉| 299/300 [00:00<00:00, 425.46it/s]\n",
      "Fidelity GD-manifold-adaptive 0.9992: 100%|██████████| 300/300 [00:00<00:00, 421.88it/s]\n",
      "100%|██████████| 300/300 [00:00<00:00, 410.95it/s]9/300 [00:00<00:00, 464.29it/s]\n",
      "Fidelity GD-projection 1.0000: 100%|██████████| 300/300 [00:00<00:00, 409.83it/s]\n",
      "100%|██████████| 300/300 [00:00<00:00, 428.38it/s]/300 [00:00<00:00, 456.82it/s]\n",
      "Fidelity GD-chol-rank 1.0000: 100%|██████████| 300/300 [00:00<00:00, 427.30it/s]\n",
      "100%|██████████| 300/300 [00:00<00:00, 426.87it/s]▉| 299/300 [00:00<00:00, 461.42it/s]\n",
      "Fidelity GD-chol-triangular 0.9994: 100%|██████████| 300/300 [00:00<00:00, 426.02it/s]\n",
      "100%|██████████| 300/300 [00:00<00:00, 477.05it/s]300 [00:00<00:00, 516.50it/s]\n",
      "Fidelity GD-manifold 0.9998: 100%|██████████| 300/300 [00:00<00:00, 475.95it/s]\n",
      "100%|██████████| 300/300 [00:00<00:00, 472.66it/s]██▉| 299/300 [00:00<00:00, 508.11it/s]\n",
      "Fidelity GD-manifold-adaptive 0.9982: 100%|██████████| 300/300 [00:00<00:00, 471.36it/s]\n",
      "100%|██████████| 300/300 [00:00<00:00, 433.21it/s]9/300 [00:00<00:00, 520.43it/s]\n",
      "Fidelity GD-projection 1.0000: 100%|██████████| 300/300 [00:00<00:00, 431.95it/s]\n",
      "100%|██████████| 300/300 [00:00<00:00, 439.43it/s]/300 [00:00<00:00, 490.49it/s]\n",
      "Fidelity GD-chol-rank 1.0000: 100%|██████████| 300/300 [00:00<00:00, 438.23it/s]\n",
      "100%|██████████| 300/300 [00:00<00:00, 431.97it/s]▉| 299/300 [00:00<00:00, 524.31it/s]\n",
      "Fidelity GD-chol-triangular 0.9986: 100%|██████████| 300/300 [00:00<00:00, 430.37it/s]\n",
      "100%|██████████| 300/300 [00:00<00:00, 475.24it/s]300 [00:00<00:00, 511.93it/s]\n",
      "Fidelity GD-manifold 0.9996: 100%|██████████| 300/300 [00:00<00:00, 474.17it/s]\n",
      "100%|██████████| 300/300 [00:00<00:00, 477.56it/s]███| 300/300 [00:00<00:00, 526.96it/s]\n",
      "Fidelity GD-manifold-adaptive 0.9997: 100%|██████████| 300/300 [00:00<00:00, 476.03it/s]\n",
      "100%|██████████| 300/300 [00:00<00:00, 437.94it/s]9/300 [00:00<00:00, 513.25it/s]\n",
      "Fidelity GD-projection 1.0000: 100%|██████████| 300/300 [00:00<00:00, 436.15it/s]\n",
      "100%|██████████| 300/300 [00:00<00:00, 430.98it/s]/300 [00:00<00:00, 474.63it/s]\n",
      "Fidelity GD-chol-rank 1.0000: 100%|██████████| 300/300 [00:00<00:00, 429.91it/s]\n",
      "100%|██████████| 300/300 [00:00<00:00, 437.17it/s]▉| 299/300 [00:00<00:00, 476.07it/s]\n",
      "Fidelity GD-chol-triangular 0.9994: 100%|██████████| 300/300 [00:00<00:00, 436.16it/s]\n",
      "100%|██████████| 300/300 [00:00<00:00, 473.34it/s]300 [00:00<00:00, 520.98it/s]\n",
      "Fidelity GD-manifold 0.9992: 100%|██████████| 300/300 [00:00<00:00, 472.16it/s]\n",
      "100%|██████████| 300/300 [00:00<00:00, 468.09it/s]██▉| 299/300 [00:00<00:00, 511.37it/s]\n",
      "Fidelity GD-manifold-adaptive 0.9976: 100%|██████████| 300/300 [00:00<00:00, 466.96it/s]\n",
      "100%|██████████| 300/300 [00:00<00:00, 396.10it/s]9/300 [00:00<00:00, 490.33it/s]\n",
      "Fidelity GD-projection 1.0000: 100%|██████████| 300/300 [00:00<00:00, 395.25it/s]\n",
      "100%|██████████| 300/300 [00:00<00:00, 435.49it/s]/300 [00:00<00:00, 475.88it/s]\n",
      "Fidelity GD-chol-rank 1.0000: 100%|██████████| 300/300 [00:00<00:00, 434.44it/s]\n",
      "100%|██████████| 300/300 [00:00<00:00, 433.48it/s]▉| 299/300 [00:00<00:00, 472.82it/s]\n",
      "Fidelity GD-chol-triangular 0.9992: 100%|██████████| 300/300 [00:00<00:00, 432.40it/s]\n",
      "100%|██████████| 300/300 [00:00<00:00, 410.43it/s]300 [00:00<00:00, 408.61it/s]\n",
      "Fidelity GD-manifold 0.9997: 100%|██████████| 300/300 [00:00<00:00, 409.42it/s]\n",
      "100%|██████████| 300/300 [00:00<00:00, 406.38it/s]██▉| 299/300 [00:00<00:00, 464.89it/s]\n",
      "Fidelity GD-manifold-adaptive 0.9992: 100%|██████████| 300/300 [00:00<00:00, 405.50it/s]\n",
      "100%|██████████| 300/300 [00:00<00:00, 405.67it/s]9/300 [00:00<00:00, 453.76it/s]\n",
      "Fidelity GD-projection 1.0000: 100%|██████████| 300/300 [00:00<00:00, 404.47it/s]\n"
     ]
    }
   ],
   "source": [
    "# List to save the values of fidelity and time for the GD methods\n",
    "\n",
    "fid_list_chol_rank, fid_list_chol_triangular, fid_list_mani, fid_list_mani_adaptive, fid_list_proj = [], [], [], [], []\n",
    "time_list_chol_rank, time_list_chol_triangular, time_list_mani, time_list_mani_adaptive, time_list_proj = [], [], [], [], []\n",
    "\n",
    "\n",
    "max_itera: int = 300\n",
    "batch_s = round(0.5*len(ops_jnp)) # The batch size, taking a group of measurement operators \n",
    "\n",
    "# The for is to run all the methods multiple times, and then have an average \n",
    "for i in range(10):  \n",
    "\n",
    "    # measuring the \n",
    "    rho_or = ghz_state\n",
    "    data = qtp.expect(Measu_ope,rho_or)\n",
    "\n",
    "    ##-----------------GD-QST starts ---------------\n",
    "    # define rank of ansatz\n",
    "    rank = 1 # maximum rank is 2**N\n",
    "    T_rank, T_triangular, column_ket_pro, ket_f, prob1_array_jnp = ansatz(rank)\n",
    "\n",
    "    # ..........................................................................\n",
    "    # GD-QST-Cholesky-Rank \n",
    "    \n",
    "    rho_gd_chol_rank, f_gd_chol_rank, t_gd_chol_rank, _ = gd_chol_rank(data, rho_or, ops_jnp, T_rank, max_itera, batch_s, \n",
    "                                                            lr=0.5, decay= 0.999,lamb=0, tqdm_off=False)\n",
    "    fid_list_chol_rank.append(f_gd_chol_rank)\n",
    "    time_list_chol_rank.append(t_gd_chol_rank)\n",
    "\n",
    "    #...........................................................................\n",
    "    # GD-QST-Cholesky-triangular\n",
    "    rho_gd_chol_triangular, f_gd_chol_triangular, t_gd_chol_triangular, _ = gd_chol_triangular(data, rho_or, ops_jnp, T_triangular, max_itera, batch_s, \n",
    "                                                            lr=0.5, decay= 0.999,lamb=0, tqdm_off=False)\n",
    "    fid_list_chol_triangular.append(f_gd_chol_triangular)\n",
    "    time_list_chol_triangular.append(t_gd_chol_triangular)\n",
    "\n",
    "    # ...........................................................................\n",
    "    # GD-QST-manifold\n",
    "    rho_gd_mani, f_gd_mani, t_gd_mani, loss_gd_mani = gd_manifold(data, rho_or, ops_jnp, column_ket_pro, max_itera, batch_s, \n",
    "                                                           lr=0.1, decay=0.997, lamb=0, tqdm_off=False)   \n",
    "    fid_list_mani.append(f_gd_mani)\n",
    "    time_list_mani.append(t_gd_mani)\n",
    "             \n",
    "    # ...........................................................................                                  \n",
    "    # GD-QST-manifold-adaptive\n",
    "    rho_gd_mani_adaptive, f_gd_mani_adaptive, t_gd_mani_adaptive, _ = gd_manifold_adaptive(data, rho_or, ops_jnp, column_ket_pro, max_itera, batch_s, \n",
    "                                                            lr=1e-1, boost = 1.08, decay = 0.99, lamb = 0, tqdm_off=False)\n",
    "    fid_list_mani_adaptive.append(f_gd_mani_adaptive)\n",
    "    time_list_mani_adaptive.append(t_gd_mani_adaptive)\n",
    "    \n",
    "    # ...........................................................................\n",
    "    # GD-QST-projection\n",
    "    rho_gd_proj, f_gd_proj, t_gd_proj, loss_gd_proj = gd_project(data, rho_or, ops_jnp, ket_f, prob1_array_jnp, max_itera, batch_s,\n",
    "                                                             lr=1e-1, decay=0.099, lamb=0, tqdm_off=False)\n",
    "    fid_list_proj.append(f_gd_proj)\n",
    "    time_list_proj.append(t_gd_proj)"
   ]
  },
  {
   "cell_type": "code",
   "execution_count": 39,
   "metadata": {
    "ExecuteTime": {
     "end_time": "2025-04-18T01:58:48.342126Z",
     "start_time": "2025-04-18T01:58:48.327871Z"
    }
   },
   "outputs": [],
   "source": [
    "fid_list_chol_rank = np.array(fid_list_chol_rank)\n",
    "fid_list_chol_triangular = np.array(fid_list_chol_triangular)\n",
    "fid_list_mani = np.array(fid_list_mani)\n",
    "fid_list_mani_adaptive = np.array(fid_list_mani_adaptive)\n",
    "fid_list_proj = np.array(fid_list_proj)\n",
    "\n",
    "\n",
    "# Compute mean fidelity\n",
    "mean_fid_chol_rank = np.mean(fid_list_chol_rank, axis=0)\n",
    "mean_fid_chol_triangular = np.mean(fid_list_chol_triangular, axis=0)\n",
    "mean_fid_mani = np.mean(fid_list_mani, axis=0)\n",
    "mean_fid_mani_adaptive = np.mean(fid_list_mani_adaptive, axis=0)\n",
    "mean_fid_proj = np.mean(fid_list_proj, axis=0)\n",
    "\n",
    "# Compute standard deviation in the mean fidelity\n",
    "std_fid_chol_rank = np.std(fid_list_chol_rank, axis=0)\n",
    "std_fid_chol_triangular = np.std(fid_list_chol_triangular, axis=0)\n",
    "std_fid_mani = np.std(fid_list_mani, axis=0)\n",
    "std_fid_mani_adaptive = np.std(fid_list_mani_adaptive, axis=0)\n",
    "std_fid_proj = np.std(fid_list_proj, axis=0)\n",
    "\n",
    "\n",
    "########################### Average time ###################\n",
    "\n",
    "time_list_chol_rank = np.array(time_list_chol_rank)\n",
    "time_list_chol_triangular = np.array(time_list_chol_triangular)\n",
    "time_list_mani = np.array(time_list_mani)\n",
    "time_list_mani_adaptive = np.array(time_list_mani_adaptive)\n",
    "time_list_proj = np.array(time_list_proj)\n",
    "\n",
    "# Compute mean fidelity\n",
    "mean_time_chol_rank = np.mean(time_list_chol_rank, axis=0)\n",
    "mean_time_chol_triangular = np.mean(time_list_chol_triangular, axis=0)\n",
    "mean_time_mani = np.mean(time_list_mani, axis=0)\n",
    "mean_time_mani_adaptive = np.mean(time_list_mani_adaptive, axis=0)\n",
    "mean_time_proj = np.mean(time_list_proj, axis=0)\n",
    "\n",
    "# Compute standard deviation in the mean fidelity\n",
    "std_time_chol_rank = np.std(time_list_chol_rank, axis=0)\n",
    "std_time_chol_triangular = np.std(time_list_chol_triangular, axis=0)\n",
    "std_time_mani = np.std(time_list_mani, axis=0)\n",
    "std_time_mani_adaptive = np.std(time_list_mani_adaptive, axis=0)\n",
    "std_time_proj = np.std(time_list_proj, axis=0)"
   ]
  },
  {
   "cell_type": "code",
   "execution_count": 40,
   "metadata": {
    "ExecuteTime": {
     "end_time": "2025-04-18T01:58:51.312983Z",
     "start_time": "2025-04-18T01:58:50.983774Z"
    }
   },
   "outputs": [
    {
     "data": {
      "image/png": "[encoded data removed]",
      "text/plain": [
       "<Figure size 1000x400 with 2 Axes>"
      ]
     },
     "metadata": {},
     "output_type": "display_data"
    }
   ],
   "source": [
    "fig, (ax1,ax2) = plt.subplots(1,2, figsize=(10,4))\n",
    "\n",
    "\n",
    "###-------------Fidelity Vs iterations -------------#######\n",
    "\n",
    "ax1.set_title(\"Iterations vs Fidelity\", fontsize=12)\n",
    "\n",
    "iterations = np.arange(1,len(f_gd_chol_rank)+1)   # total number of iterations\n",
    "\n",
    "ax1.plot(iterations, mean_fid_chol_rank, color='red',label=\"chol_rank\")\n",
    "ax1.fill_between(iterations, mean_fid_chol_rank - std_fid_chol_rank, mean_fid_chol_rank + std_fid_chol_rank, alpha=0.2, color='red')\n",
    "\n",
    "ax1.plot(iterations, mean_fid_chol_triangular, color='blue',label=\"chol_triangular\")\n",
    "ax1.fill_between(iterations, mean_fid_chol_triangular - std_fid_chol_triangular, mean_fid_chol_triangular + std_fid_chol_triangular, alpha=0.2, color='blue')\n",
    "\n",
    "ax1.plot(iterations, mean_fid_mani, color='green',label=\"manifold\")\n",
    "ax1.fill_between(iterations, mean_fid_mani - std_fid_mani, mean_fid_mani + std_fid_mani, alpha=0.2, color='green')\n",
    "\n",
    "ax1.plot(iterations, mean_fid_mani_adaptive, color='purple',label=\"manifold_adaptive\")\n",
    "ax1.fill_between(iterations, mean_fid_mani_adaptive - std_fid_mani_adaptive, mean_fid_mani_adaptive + std_fid_mani_adaptive, alpha=0.2, color='purple')\n",
    "\n",
    "ax1.plot(iterations, mean_fid_proj, color='orange',label=\"projective\")\n",
    "ax1.fill_between(iterations, mean_fid_proj - std_fid_proj, mean_fid_proj + std_fid_proj, alpha=0.2, color='orange')\n",
    "\n",
    "ax1.legend(loc='lower right')\n",
    "ax1.set_xlabel(\"Iterations\")\n",
    "ax1.set_ylabel(\"Fidelity\")\n",
    "\n",
    "\n",
    "###-------------Fidelity Vs time -------------#######\n",
    "\n",
    "ax2.set_title(\"Time vs Fidelity\", fontsize=12)\n",
    "\n",
    "ax2.plot(mean_time_chol_rank, mean_fid_chol_rank, color='red',label=\"chol_rank\")\n",
    "ax2.fill_between(mean_time_chol_rank, mean_fid_chol_rank - std_fid_chol_rank, mean_fid_chol_rank + std_fid_chol_rank, alpha=0.2, color='red')\n",
    "\n",
    "ax2.plot(mean_time_chol_triangular, mean_fid_chol_triangular, color='blue',label=\"chol_triangular\")\n",
    "ax2.fill_between(mean_time_chol_triangular, mean_fid_chol_triangular - std_fid_chol_triangular, mean_fid_chol_triangular + std_fid_chol_triangular, alpha=0.2, color='blue')\n",
    "\n",
    "ax2.plot(mean_time_mani, mean_fid_mani, color='green',label=\"manifold\")\n",
    "ax2.fill_between(mean_time_mani, mean_fid_mani - std_fid_mani, mean_fid_mani + std_fid_mani, alpha=0.2, color='green')\n",
    "\n",
    "ax2.plot(mean_time_mani_adaptive, mean_fid_mani_adaptive, color='purple',label=\"manifold_adaptive\")\n",
    "ax2.fill_between(mean_time_mani_adaptive, mean_fid_mani_adaptive - std_fid_mani_adaptive, mean_fid_mani_adaptive + std_fid_mani_adaptive, alpha=0.2, color='purple')\n",
    "\n",
    "ax2.plot(mean_time_proj, mean_fid_proj, color='orange',label=\"projective\")\n",
    "ax2.fill_between(mean_time_proj, mean_fid_proj - std_fid_proj, mean_fid_proj + std_fid_proj, alpha=0.2, color='orange')\n",
    "\n",
    "\n",
    "ax2.legend(loc='lower right')\n",
    "ax2.set_xlabel(\"Time (sec)\")\n",
    "ax2.set_ylabel(\"Fidelity\")\n",
    "\n",
    "plt.show()\n"
   ]
  },
  {
   "cell_type": "code",
   "execution_count": 41,
   "metadata": {
    "ExecuteTime": {
     "end_time": "2025-04-18T01:59:11.658490Z",
     "start_time": "2025-04-18T01:59:11.654441Z"
    }
   },
   "outputs": [
    {
     "name": "stdout",
     "output_type": "stream",
     "text": [
      "max fidelity (chol_rank) and time in seconds : [1.0000000035699559, 0.5170266389846802]\n",
      "max fidelity (chol_triangular): [0.9992320718682717, 0.5414580583572388]\n",
      "max fidelity (chol_manifold): [0.9999805053680441, 0.4466613531112671]\n",
      "max fidelity (chol_manifold_adaptive): [0.9998588471318085, 0.2985163927078247]\n",
      "max fidelity (chol_proj): [0.9999999999448667, 0.5342290878295899]\n"
     ]
    }
   ],
   "source": [
    "print('max fidelity (chol_rank) and time in seconds :', [np.max(f_gd_chol_rank), mean_time_chol_rank[np.argmax(mean_fid_chol_rank)]])\n",
    "print('max fidelity (chol_triangular):', [np.max(f_gd_chol_triangular), mean_time_chol_triangular[np.argmax(mean_fid_chol_triangular)]])\n",
    "print('max fidelity (chol_manifold):', [np.max(f_gd_mani), mean_time_mani[np.argmax(mean_fid_mani)]])\n",
    "print('max fidelity (chol_manifold_adaptive):', [np.max(f_gd_mani_adaptive), mean_time_mani_adaptive[np.argmax(mean_fid_mani_adaptive)]])\n",
    "print('max fidelity (chol_proj):', [np.max(f_gd_proj), mean_time_proj[np.argmax(mean_fid_proj)]])\n"
   ]
  },
  {
   "cell_type": "code",
   "execution_count": null,
   "metadata": {
    "ExecuteTime": {
     "end_time": "2025-03-15T08:20:14.040151Z",
     "start_time": "2025-03-15T08:20:14.038277Z"
    }
   },
   "outputs": [],
   "source": []
  },
  {
   "cell_type": "code",
   "execution_count": null,
   "metadata": {
    "ExecuteTime": {
     "end_time": "2025-03-15T08:33:59.161093Z",
     "start_time": "2025-03-15T08:33:59.159098Z"
    }
   },
   "outputs": [],
   "source": []
  },
  {
   "cell_type": "code",
   "execution_count": null,
   "metadata": {},
   "outputs": [],
   "source": []
  }
 ],
 "metadata": {
  "kernelspec": {
   "display_name": "my_gd_qst_env",
   "language": "python",
   "name": "python3"
  },
  "language_info": {
   "codemirror_mode": {
    "name": "ipython",
    "version": 3
   },
   "file_extension": ".py",
   "mimetype": "text/x-python",
   "name": "python",
   "nbconvert_exporter": "python",
   "pygments_lexer": "ipython3",
   "version": "3.10.13"
  }
 },
 "nbformat": 4,
 "nbformat_minor": 4
}
