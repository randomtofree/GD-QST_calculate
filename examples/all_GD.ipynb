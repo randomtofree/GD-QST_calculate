{
 "cells": [
  {
   "cell_type": "markdown",
   "metadata": {},
   "source": [
    "# Quantum state tomography (QST) with Gradient descent (GD) "
   ]
  },
  {
   "cell_type": "markdown",
   "metadata": {},
   "source": [
    "This notebook is a demonstration of using the different GD methods to do QST. For that demonstration we will show the case of 3 qubits."
   ]
  },
  {
   "cell_type": "markdown",
   "metadata": {},
   "source": [
    "## Note 1:\n",
    "\n",
    "For the GD methods it is necesary the library Jax (https://github.com/google/jax). Also QuTip is a very important library."
   ]
  },
  {
   "cell_type": "code",
   "execution_count": 1,
   "metadata": {
    "ExecuteTime": {
     "end_time": "2025-04-17T15:15:22.487326Z",
     "start_time": "2025-04-17T15:15:22.483034Z"
    }
   },
   "outputs": [
    {
     "name": "stderr",
     "output_type": "stream",
     "text": [
      "/opt/anaconda3/envs/my_gd_qst_env/lib/python3.10/site-packages/tqdm/auto.py:21: TqdmWarning: IProgress not found. Please update jupyter and ipywidgets. See https://ipywidgets.readthedocs.io/en/stable/user_install.html\n",
      "  from .autonotebook import tqdm as notebook_tqdm\n"
     ]
    }
   ],
   "source": [
    "# To call the libraries for the GD-QST\n",
    "import sys\n",
    "sys.path.insert(0, '..')\n",
    "# You have to change the path of the library \n",
    "import os\n",
    "os.environ[\"XLA_FLAGS\"] = \"--xla_cpu_multi_thread_eigen=true:intra_op_parallelism_threads=8\"  # set 8 to your number of cores\n",
    "\n",
    "from qutip import * \n",
    "from itertools import *\n",
    "import numpy as np\n",
    "import matplotlib.pyplot as plt \n",
    "import qutip as qtp\n",
    "#from qutip import basis, tensor\n",
    "\n",
    "# Libraries for the different methods of doing QST with GD\n",
    "from qst_tec.gdchol_triangular import gd_chol_triangular, cholesky_f, rho_cons\n",
    "from qst_tec.gdchol_rank import gd_chol_rank\n",
    "from qst_tec.gdmanifold import gd_manifold, mix_rho, Nkets, softmax, expect_prob_ket\n",
    "from qst_tec.gdmanifold_adaptive import gd_manifold_adaptive, mix_rho, Nkets, softmax, expect_prob_ket\n",
    "from qst_tec.gdproj import gd_project\n",
    "from qst_tec.least_square import least_square_qst\n",
    "from qst_tec.compressed_sensing import compressed_sensing_qst\n",
    "\n",
    "import jax\n",
    "import jax.numpy as jnp\n",
    "import jax.numpy.linalg  as nlg\n",
    "from jax import grad\n",
    "from jax import jit\n",
    "from jax.example_libraries import optimizers\n",
    "from jax import config\n",
    "config.update(\"jax_enable_x64\", True) # We want float64 for better precision\n",
    "import optax\n",
    "\n",
    "from tqdm import tqdm   # For the progressbars\n",
    "import time"
   ]
  },
  {
   "cell_type": "markdown",
   "metadata": {},
   "source": [
    "### First we will define the number of qubits and the measurement operators. We will use the Pauli matrices."
   ]
  },
  {
   "cell_type": "code",
   "execution_count": 2,
   "metadata": {
    "ExecuteTime": {
     "end_time": "2025-04-17T15:16:44.198217Z",
     "start_time": "2025-04-17T15:16:44.189272Z"
    }
   },
   "outputs": [
    {
     "name": "stdout",
     "output_type": "stream",
     "text": [
      "[Quantum object: dims=[[8], [8]], shape=(8, 8), type='oper', dtype=CSR, isherm=True\n",
      "Qobj data =\n",
      "[[0. 1. 0. 0. 0. 0. 0. 0.]\n",
      " [1. 0. 0. 0. 0. 0. 0. 0.]\n",
      " [0. 0. 0. 1. 0. 0. 0. 0.]\n",
      " [0. 0. 1. 0. 0. 0. 0. 0.]\n",
      " [0. 0. 0. 0. 0. 1. 0. 0.]\n",
      " [0. 0. 0. 0. 1. 0. 0. 0.]\n",
      " [0. 0. 0. 0. 0. 0. 0. 1.]\n",
      " [0. 0. 0. 0. 0. 0. 1. 0.]], Quantum object: dims=[[8], [8]], shape=(8, 8), type='oper', dtype=CSR, isherm=True\n",
      "Qobj data =\n",
      "[[0.+0.j 0.-1.j 0.+0.j 0.+0.j 0.+0.j 0.+0.j 0.+0.j 0.+0.j]\n",
      " [0.+1.j 0.+0.j 0.+0.j 0.+0.j 0.+0.j 0.+0.j 0.+0.j 0.+0.j]\n",
      " [0.+0.j 0.+0.j 0.+0.j 0.-1.j 0.+0.j 0.+0.j 0.+0.j 0.+0.j]\n",
      " [0.+0.j 0.+0.j 0.+1.j 0.+0.j 0.+0.j 0.+0.j 0.+0.j 0.+0.j]\n",
      " [0.+0.j 0.+0.j 0.+0.j 0.+0.j 0.+0.j 0.-1.j 0.+0.j 0.+0.j]\n",
      " [0.+0.j 0.+0.j 0.+0.j 0.+0.j 0.+1.j 0.+0.j 0.+0.j 0.+0.j]\n",
      " [0.+0.j 0.+0.j 0.+0.j 0.+0.j 0.+0.j 0.+0.j 0.+0.j 0.-1.j]\n",
      " [0.+0.j 0.+0.j 0.+0.j 0.+0.j 0.+0.j 0.+0.j 0.+1.j 0.+0.j]]]\n"
     ]
    },
    {
     "name": "stderr",
     "output_type": "stream",
     "text": [
      "2025-04-18 17:18:44.031496: E external/tsl/tsl/util/command_line_flags.cc:108] Couldn't interpret value true:intra_op_parallelism_threads=8 for flag xla_cpu_multi_thread_eigen.\n"
     ]
    }
   ],
   "source": [
    "number_qubits: int = 3\n",
    "dimension: int = 2**number_qubits\n",
    "HS: int = dimension\n",
    "\n",
    "# Creating the Measurement operators (Pauli matrices)\n",
    "\n",
    "pauli = [qeye(2), sigmax(), sigmay(), sigmaz()]\n",
    "pauli_sys = [tensor(*op) for op in product(pauli, repeat=number_qubits)] # using itertools\n",
    "\n",
    "\n",
    "Measu_ope = [Qobj(pauli_sys[i], dims=([[2**number_qubits], [2**number_qubits]])) for i in range(len(pauli_sys))]\n",
    "\n",
    "print(Measu_ope[1:3])\n",
    "\n",
    "\n",
    "#-----------------------------------------------------------------------\n",
    "# It is necesary to transform the measurement operators from a numpy \n",
    "# type to a jax type (jax.np), that because of the jax grad \n",
    "\n",
    "ops_np = [op.full() for op in Measu_ope] # transforming from qutip object to numpy\n",
    "ops_jnp = jnp.asarray(ops_np) # transforming from numpy to jax.np"
   ]
  },
  {
   "cell_type": "markdown",
   "metadata": {},
   "source": [
    "## The ansatz"
   ]
  },
  {
   "cell_type": "markdown",
   "metadata": {},
   "source": [
    "For each one of the GD methods the creation of the ansatz is different, for the specific shape and structure of the ansatz go to the paper or check the other notebooks that shows the ansatz of each case.  "
   ]
  },
  {
   "cell_type": "code",
   "execution_count": 3,
   "metadata": {
    "ExecuteTime": {
     "end_time": "2025-04-17T15:16:50.962311Z",
     "start_time": "2025-04-17T15:16:50.955196Z"
    }
   },
   "outputs": [],
   "source": [
    "\n",
    "def ansatz(kn: int):\n",
    "    \"\"\"\n",
    "    Creates the proper ansatz structure for the different GD methods\n",
    "    \n",
    "    Args: \n",
    "        kn (int) : rank number\n",
    "    \n",
    "    Output:\n",
    "        T_rank : Ansatz GD-Cholesky rank\n",
    "        T_triangular : Ansatz GD-Cholesky triangular\n",
    "        column_ket_pro : Ansatz GD-manifold\n",
    "        ket_f, prob1_array_jnp : Ansatz GD-projective \n",
    "        \n",
    "    \"\"\"\n",
    "    \n",
    "    # T_rank  = arbitrary r x p matrix ansatz for Cholesky\n",
    "    real_part = np.random.rand(kn, dimension)  # Random numbers from a uniform distribution over [0, 1)\n",
    "    imaginary_part = np.random.rand(kn, dimension)  # Same for the imaginary part\n",
    "    guess = real_part + 1j * imaginary_part\n",
    "    T_rank = jnp.asarray(guess)\n",
    "\n",
    "    # T_triangular Lower traingular matrix ansatz for Cholesky\n",
    "    T_triangular = jnp.asarray(rho_cons(np.random.rand(dimension, dimension) + 1j*np.random.rand(dimension, dimension)))\n",
    "\n",
    "    ketl1 = Nkets(kn, HS)   # generate kn random kets with hilbert space HS\n",
    "    ketl1_np = [a.full() for a in ketl1]\n",
    "    ketl2 = [a.full().flatten() for a in ketl1]\n",
    "    ketl2_np = np.asarray(ketl2)\n",
    "    ketl2_jnp = jnp.asarray(ketl2)\n",
    "    ketl1_jnp = jnp.asarray(ketl1_np)\n",
    "    prob1_array = np.random.rand(kn) # create the second list for the random probabilities\n",
    "    prob1_array = softmax(prob1_array)\n",
    "    prob1_array_jnp = jnp.asarray(prob1_array)\n",
    "    mixed_density = 0\n",
    "    for i in range(len(ketl1)): # to create the density matrix\n",
    "        density_i = ketl1[i]*ketl1[i].dag()\n",
    "        mixed_density += prob1_array[i]*density_i\n",
    "    \n",
    "    rho_ran = mixed_density\n",
    "    rho_ran_np = rho_ran.full()\n",
    "\n",
    "    # --- kets for GD proj -------------------------------------\n",
    "    ket_f = ketl1_jnp.flatten()\n",
    "    ket_f = ket_f[:, jnp.newaxis]\n",
    "\n",
    "    # --- column ket for GD manifold ------------------------\n",
    "    prob_sqrt = jnp.sqrt(prob1_array_jnp) \n",
    "    prob1_array_reshaped = prob_sqrt[:, jnp.newaxis]\n",
    "    ket_prob_o = prob1_array_reshaped * ketl2_jnp \n",
    "    ket_prob = ket_prob_o.flatten()\n",
    "    column_ket_pro = ket_prob[:, np.newaxis]\n",
    "\n",
    "    return T_rank, T_triangular, column_ket_pro, ket_f, prob1_array_jnp"
   ]
  },
  {
   "cell_type": "markdown",
   "metadata": {},
   "source": [
    "## Implementing GD\n",
    "\n",
    "For the case of a random density matrix for 3 qubits as the original density matrix (the one we want to reconstruct) created with QuTip $\\rho_{random}$"
   ]
  },
  {
   "cell_type": "code",
   "execution_count": 4,
   "metadata": {
    "ExecuteTime": {
     "end_time": "2025-04-17T15:17:59.904986Z",
     "start_time": "2025-04-17T15:16:55.211376Z"
    }
   },
   "outputs": [
    {
     "name": "stderr",
     "output_type": "stream",
     "text": [
      "100%|██████████| 300/300 [00:00<00:00, 321.62it/s]/300 [00:00<00:00, 514.92it/s]\n",
      "Fidelity GD-chol-rank 0.9997: 100%|██████████| 300/300 [00:00<00:00, 321.10it/s]\n",
      "100%|██████████| 300/300 [00:00<00:00, 523.94it/s]▉| 299/300 [00:00<00:00, 537.81it/s]\n",
      "Fidelity GD-chol-triangular 0.9863: 100%|██████████| 300/300 [00:00<00:00, 522.85it/s]\n",
      "100%|██████████| 300/300 [00:00<00:00, 366.47it/s]300 [00:00<00:00, 461.95it/s]\n",
      "Fidelity GD-manifold 0.9997: 100%|██████████| 300/300 [00:00<00:00, 357.28it/s]\n",
      "100%|██████████| 300/300 [00:00<00:00, 358.65it/s]██▉| 299/300 [00:00<00:00, 494.08it/s]\n",
      "Fidelity GD-manifold-adaptive 0.9966: 100%|██████████| 300/300 [00:00<00:00, 357.75it/s]\n",
      "100%|██████████| 300/300 [00:01<00:00, 214.16it/s]9/300 [00:01<00:00, 312.47it/s]\n",
      "Fidelity GD-projection 0.9999: 100%|██████████| 300/300 [00:01<00:00, 213.76it/s]\n",
      "100%|██████████| 300/300 [00:00<00:00, 606.79it/s]/300 [00:00<00:00, 674.39it/s]\n",
      "Fidelity GD-chol-rank 0.9999: 100%|██████████| 300/300 [00:00<00:00, 605.13it/s]\n",
      "100%|██████████| 300/300 [00:00<00:00, 632.16it/s]▉| 299/300 [00:00<00:00, 705.19it/s]\n",
      "Fidelity GD-chol-triangular 0.9562: 100%|██████████| 300/300 [00:00<00:00, 630.52it/s]\n",
      "100%|██████████| 300/300 [00:00<00:00, 415.40it/s]300 [00:00<00:00, 493.65it/s]\n",
      "Fidelity GD-manifold 0.9996: 100%|██████████| 300/300 [00:00<00:00, 414.39it/s]\n",
      "100%|██████████| 300/300 [00:00<00:00, 435.06it/s]██▉| 299/300 [00:00<00:00, 511.69it/s]\n",
      "Fidelity GD-manifold-adaptive 0.9977: 100%|██████████| 300/300 [00:00<00:00, 433.70it/s]\n",
      "100%|██████████| 300/300 [00:01<00:00, 247.97it/s]9/300 [00:01<00:00, 319.18it/s]\n",
      "Fidelity GD-projection 1.0000: 100%|██████████| 300/300 [00:01<00:00, 247.37it/s]\n",
      "100%|██████████| 300/300 [00:00<00:00, 642.87it/s]/300 [00:00<00:00, 719.30it/s]\n",
      "Fidelity GD-chol-rank 1.0000: 100%|██████████| 300/300 [00:00<00:00, 640.85it/s]\n",
      "100%|██████████| 300/300 [00:00<00:00, 595.24it/s]▉| 299/300 [00:00<00:00, 669.65it/s]\n",
      "Fidelity GD-chol-triangular 0.9671: 100%|██████████| 300/300 [00:00<00:00, 593.74it/s]\n",
      "100%|██████████| 300/300 [00:00<00:00, 440.44it/s]300 [00:00<00:00, 522.36it/s]\n",
      "Fidelity GD-manifold 0.9996: 100%|██████████| 300/300 [00:00<00:00, 439.28it/s]\n",
      "100%|██████████| 300/300 [00:00<00:00, 420.89it/s]██▉| 299/300 [00:00<00:00, 534.92it/s]\n",
      "Fidelity GD-manifold-adaptive 0.9971: 100%|██████████| 300/300 [00:00<00:00, 419.70it/s]\n",
      "100%|██████████| 300/300 [00:01<00:00, 249.02it/s]9/300 [00:01<00:00, 320.95it/s]\n",
      "Fidelity GD-projection 1.0000: 100%|██████████| 300/300 [00:01<00:00, 248.36it/s]\n",
      "100%|██████████| 300/300 [00:00<00:00, 597.48it/s]/300 [00:00<00:00, 638.20it/s]\n",
      "Fidelity GD-chol-rank 0.9999: 100%|██████████| 300/300 [00:00<00:00, 595.86it/s]\n",
      "100%|██████████| 300/300 [00:00<00:00, 636.68it/s]▉| 299/300 [00:00<00:00, 711.92it/s]\n",
      "Fidelity GD-chol-triangular 0.9948: 100%|██████████| 300/300 [00:00<00:00, 635.14it/s]\n",
      "100%|██████████| 300/300 [00:00<00:00, 424.76it/s]300 [00:00<00:00, 530.24it/s]\n",
      "Fidelity GD-manifold 0.9995: 100%|██████████| 300/300 [00:00<00:00, 423.67it/s]\n",
      "100%|██████████| 300/300 [00:00<00:00, 414.18it/s]██▉| 299/300 [00:00<00:00, 502.44it/s]\n",
      "Fidelity GD-manifold-adaptive 0.9972: 100%|██████████| 300/300 [00:00<00:00, 412.92it/s]\n",
      "100%|██████████| 300/300 [00:01<00:00, 246.22it/s]9/300 [00:01<00:00, 301.24it/s]\n",
      "Fidelity GD-projection 1.0000: 100%|██████████| 300/300 [00:01<00:00, 245.70it/s]\n",
      "100%|██████████| 300/300 [00:00<00:00, 605.46it/s]/300 [00:00<00:00, 711.89it/s]\n",
      "Fidelity GD-chol-rank 0.9999: 100%|██████████| 300/300 [00:00<00:00, 604.01it/s]\n",
      "100%|██████████| 300/300 [00:00<00:00, 632.77it/s]▉| 299/300 [00:00<00:00, 705.13it/s]\n",
      "Fidelity GD-chol-triangular 0.9763: 100%|██████████| 300/300 [00:00<00:00, 631.02it/s]\n",
      "100%|██████████| 300/300 [00:00<00:00, 422.74it/s]300 [00:00<00:00, 491.43it/s]\n",
      "Fidelity GD-manifold 0.9996: 100%|██████████| 300/300 [00:00<00:00, 421.71it/s]\n",
      "100%|██████████| 300/300 [00:00<00:00, 386.59it/s]██▉| 299/300 [00:00<00:00, 471.89it/s]\n",
      "Fidelity GD-manifold-adaptive 0.9969: 100%|██████████| 300/300 [00:00<00:00, 385.71it/s]\n",
      "100%|██████████| 300/300 [00:01<00:00, 247.28it/s]9/300 [00:01<00:00, 310.92it/s]\n",
      "Fidelity GD-projection 1.0000: 100%|██████████| 300/300 [00:01<00:00, 246.65it/s]\n",
      "100%|██████████| 300/300 [00:00<00:00, 605.33it/s]/300 [00:00<00:00, 630.37it/s]\n",
      "Fidelity GD-chol-rank 1.0000: 100%|██████████| 300/300 [00:00<00:00, 603.62it/s]\n",
      "100%|██████████| 300/300 [00:00<00:00, 631.13it/s]▉| 299/300 [00:00<00:00, 704.41it/s]\n",
      "Fidelity GD-chol-triangular 0.9740: 100%|██████████| 300/300 [00:00<00:00, 628.98it/s]\n",
      "100%|██████████| 300/300 [00:00<00:00, 418.29it/s]300 [00:00<00:00, 534.15it/s]\n",
      "Fidelity GD-manifold 0.9995: 100%|██████████| 300/300 [00:00<00:00, 417.08it/s]\n",
      "100%|██████████| 300/300 [00:00<00:00, 397.75it/s]██▉| 299/300 [00:00<00:00, 525.59it/s]\n",
      "Fidelity GD-manifold-adaptive 0.9973: 100%|██████████| 300/300 [00:00<00:00, 396.54it/s]\n",
      "100%|██████████| 300/300 [00:01<00:00, 247.36it/s]9/300 [00:01<00:00, 305.62it/s]\n",
      "Fidelity GD-projection 1.0000: 100%|██████████| 300/300 [00:01<00:00, 246.79it/s]\n",
      "100%|██████████| 300/300 [00:00<00:00, 576.95it/s]/300 [00:00<00:00, 664.92it/s]\n",
      "Fidelity GD-chol-rank 0.9999: 100%|██████████| 300/300 [00:00<00:00, 575.29it/s]\n",
      "100%|██████████| 300/300 [00:00<00:00, 576.18it/s]▉| 299/300 [00:00<00:00, 591.08it/s]\n",
      "Fidelity GD-chol-triangular 0.9512: 100%|██████████| 300/300 [00:00<00:00, 574.86it/s]\n",
      "100%|██████████| 300/300 [00:00<00:00, 350.26it/s]300 [00:00<00:00, 453.98it/s]\n",
      "Fidelity GD-manifold 0.9996: 100%|██████████| 300/300 [00:00<00:00, 349.39it/s]\n",
      "100%|██████████| 300/300 [00:00<00:00, 359.26it/s]██▉| 299/300 [00:00<00:00, 435.37it/s]\n",
      "Fidelity GD-manifold-adaptive 0.9976: 100%|██████████| 300/300 [00:00<00:00, 358.15it/s]\n",
      "100%|██████████| 300/300 [00:01<00:00, 212.70it/s]9/300 [00:01<00:00, 251.94it/s]\n",
      "Fidelity GD-projection 1.0000: 100%|██████████| 300/300 [00:01<00:00, 212.03it/s]\n",
      "100%|██████████| 300/300 [00:00<00:00, 516.60it/s]/300 [00:00<00:00, 564.44it/s]\n",
      "Fidelity GD-chol-rank 1.0000: 100%|██████████| 300/300 [00:00<00:00, 515.55it/s]\n",
      "100%|██████████| 300/300 [00:00<00:00, 523.07it/s]▉| 299/300 [00:00<00:00, 590.21it/s]\n",
      "Fidelity GD-chol-triangular 0.9745: 100%|██████████| 300/300 [00:00<00:00, 521.03it/s]\n",
      "100%|██████████| 300/300 [00:00<00:00, 378.73it/s]300 [00:00<00:00, 453.10it/s]\n",
      "Fidelity GD-manifold 0.9996: 100%|██████████| 300/300 [00:00<00:00, 377.83it/s]\n",
      "100%|██████████| 300/300 [00:00<00:00, 361.15it/s]██▉| 299/300 [00:00<00:00, 455.56it/s]\n",
      "Fidelity GD-manifold-adaptive 0.9969: 100%|██████████| 300/300 [00:00<00:00, 360.00it/s]\n",
      "100%|██████████| 300/300 [00:01<00:00, 218.68it/s]9/300 [00:01<00:00, 269.58it/s]\n",
      "Fidelity GD-projection 1.0000: 100%|██████████| 300/300 [00:01<00:00, 218.25it/s]\n",
      "100%|██████████| 300/300 [00:00<00:00, 512.37it/s]/300 [00:00<00:00, 557.82it/s]\n",
      "Fidelity GD-chol-rank 1.0000: 100%|██████████| 300/300 [00:00<00:00, 511.19it/s]\n",
      "100%|██████████| 300/300 [00:00<00:00, 523.65it/s]▉| 299/300 [00:00<00:00, 591.97it/s]\n",
      "Fidelity GD-chol-triangular 0.9847: 100%|██████████| 300/300 [00:00<00:00, 522.24it/s]\n",
      "100%|██████████| 300/300 [00:00<00:00, 321.33it/s]300 [00:00<00:00, 345.41it/s]\n",
      "Fidelity GD-manifold 0.9995: 100%|██████████| 300/300 [00:00<00:00, 320.67it/s]\n",
      "100%|██████████| 300/300 [00:00<00:00, 334.47it/s]██▉| 299/300 [00:00<00:00, 430.46it/s]\n",
      "Fidelity GD-manifold-adaptive 0.9977: 100%|██████████| 300/300 [00:00<00:00, 333.80it/s]\n",
      "100%|██████████| 300/300 [00:01<00:00, 226.10it/s]9/300 [00:01<00:00, 296.96it/s]\n",
      "Fidelity GD-projection 0.9995: 100%|██████████| 300/300 [00:01<00:00, 225.69it/s]\n",
      "100%|██████████| 300/300 [00:00<00:00, 538.17it/s]/300 [00:00<00:00, 653.21it/s]\n",
      "Fidelity GD-chol-rank 0.9998: 100%|██████████| 300/300 [00:00<00:00, 535.50it/s]\n",
      "100%|██████████| 300/300 [00:00<00:00, 544.11it/s]▉| 299/300 [00:00<00:00, 637.79it/s]\n",
      "Fidelity GD-chol-triangular 0.9796: 100%|██████████| 300/300 [00:00<00:00, 542.50it/s]\n",
      "100%|██████████| 300/300 [00:00<00:00, 404.69it/s]300 [00:00<00:00, 491.46it/s]\n",
      "Fidelity GD-manifold 0.9995: 100%|██████████| 300/300 [00:00<00:00, 403.55it/s]\n",
      "100%|██████████| 300/300 [00:00<00:00, 398.56it/s]██▉| 299/300 [00:00<00:00, 484.90it/s]\n",
      "Fidelity GD-manifold-adaptive 0.9968: 100%|██████████| 300/300 [00:00<00:00, 397.44it/s]\n",
      "100%|██████████| 300/300 [00:01<00:00, 220.65it/s]9/300 [00:01<00:00, 282.04it/s]\n",
      "Fidelity GD-projection 1.0000: 100%|██████████| 300/300 [00:01<00:00, 220.10it/s]\n"
     ]
    }
   ],
   "source": [
    "# List to save the values of fidelity and time for the GD methods\n",
    "\n",
    "fid_list_chol_rank, fid_list_chol_triangular, fid_list_mani, fid_list_mani_adaptive, fid_list_proj = [], [], [], [], []\n",
    "time_list_chol_rank, time_list_chol_triangular, time_list_mani, time_list_mani_adaptive, time_list_proj = [], [], [], [], []\n",
    "\n",
    "\n",
    "max_itera: int = 300\n",
    "batch_s = round(0.5*len(ops_jnp)) # The batch size, taking a group of measurement operators \n",
    "\n",
    "# The for is to run all the methods multiple times, and then have an average \n",
    "for i in range(10):  \n",
    "\n",
    "    # creating the original densirty matrix, this with a random rho from QuTip\n",
    "    rho_or = rand_dm(2**number_qubits)\n",
    "    data = qtp.expect(Measu_ope,rho_or)\n",
    "\n",
    "    ##-----------------GD-QST starts ---------------\n",
    "    # define rank of ansatz\n",
    "    rank = 2**number_qubits # maximum rank is 2**N\n",
    "    T_rank, T_triangular, column_ket_pro, ket_f, prob1_array_jnp = ansatz(rank)\n",
    "\n",
    "    # ..........................................................................\n",
    "    # GD-QST-Cholesky-Rank \n",
    "    \n",
    "    rho_gd_chol_rank, f_gd_chol_rank, t_gd_chol_rank, _ = gd_chol_rank(data, rho_or, ops_jnp, T_rank, max_itera, batch_s, \n",
    "                                                            lr=0.5, decay= 0.999,lamb=0, tqdm_off=False)\n",
    "    fid_list_chol_rank.append(f_gd_chol_rank)\n",
    "    time_list_chol_rank.append(t_gd_chol_rank)\n",
    "\n",
    "    #...........................................................................\n",
    "    # GD-QST-Cholesky-triangular\n",
    "    rho_gd_chol_triangular, f_gd_chol_triangular, t_gd_chol_triangular, _ = gd_chol_triangular(data, rho_or, ops_jnp, T_triangular, max_itera, batch_s, \n",
    "                                                            lr=0.5, decay= 0.999,lamb=0, tqdm_off=False)\n",
    "    fid_list_chol_triangular.append(f_gd_chol_triangular)\n",
    "    time_list_chol_triangular.append(t_gd_chol_triangular)\n",
    "\n",
    "    # ...........................................................................\n",
    "    # GD-QST-manifold\n",
    "    rho_gd_mani, f_gd_mani, t_gd_mani, loss_gd_mani = gd_manifold(data, rho_or, ops_jnp, column_ket_pro, max_itera, batch_s, \n",
    "                                                           lr=0.1, decay=0.997, lamb=0, tqdm_off=False)   \n",
    "    fid_list_mani.append(f_gd_mani)\n",
    "    time_list_mani.append(t_gd_mani)\n",
    "             \n",
    "    # ...........................................................................                                  \n",
    "    # GD-QST-manifold-adaptive\n",
    "    rho_gd_mani_adaptive, f_gd_mani_adaptive, t_gd_mani_adaptive, _ = gd_manifold_adaptive(data, rho_or, ops_jnp, column_ket_pro, max_itera, batch_s, \n",
    "                                                            lr=1e-1, boost = 1.08, decay = 0.99, lamb = 0, tqdm_off=False)\n",
    "    fid_list_mani_adaptive.append(f_gd_mani_adaptive)\n",
    "    time_list_mani_adaptive.append(t_gd_mani_adaptive)\n",
    "    \n",
    "    # ...........................................................................\n",
    "    # GD-QST-projection\n",
    "    rho_gd_proj, f_gd_proj, t_gd_proj, loss_gd_proj = gd_project(data, rho_or, ops_jnp, ket_f, prob1_array_jnp, max_itera, batch_s,\n",
    "                                                             lr=1e-1, decay=0.099, lamb=0, tqdm_off=False)\n",
    "    fid_list_proj.append(f_gd_proj)\n",
    "    time_list_proj.append(t_gd_proj)"
   ]
  },
  {
   "cell_type": "markdown",
   "metadata": {},
   "source": [
    "Calculation of the mean value of fidelity and standard deviation. Also for the case of the time of each method."
   ]
  },
  {
   "cell_type": "code",
   "execution_count": 5,
   "metadata": {
    "ExecuteTime": {
     "end_time": "2025-04-18T01:43:41.062256Z",
     "start_time": "2025-04-18T01:43:41.052615Z"
    }
   },
   "outputs": [],
   "source": [
    "fid_list_chol_rank = np.array(fid_list_chol_rank)\n",
    "fid_list_chol_triangular = np.array(fid_list_chol_triangular)\n",
    "fid_list_mani = np.array(fid_list_mani)\n",
    "fid_list_mani_adaptive = np.array(fid_list_mani_adaptive)\n",
    "fid_list_proj = np.array(fid_list_proj)\n",
    "\n",
    "\n",
    "# Compute mean fidelity\n",
    "mean_fid_chol_rank = np.mean(fid_list_chol_rank, axis=0)\n",
    "mean_fid_chol_triangular = np.mean(fid_list_chol_triangular, axis=0)\n",
    "mean_fid_mani = np.mean(fid_list_mani, axis=0)\n",
    "mean_fid_mani_adaptive = np.mean(fid_list_mani_adaptive, axis=0)\n",
    "mean_fid_proj = np.mean(fid_list_proj, axis=0)\n",
    "\n",
    "# Compute standard deviation in the mean fidelity\n",
    "std_fid_chol_rank = np.std(fid_list_chol_rank, axis=0)\n",
    "std_fid_chol_triangular = np.std(fid_list_chol_triangular, axis=0)\n",
    "std_fid_mani = np.std(fid_list_mani, axis=0)\n",
    "std_fid_mani_adaptive = np.std(fid_list_mani_adaptive, axis=0)\n",
    "std_fid_proj = np.std(fid_list_proj, axis=0)\n",
    "\n",
    "\n",
    "########################### Average time ###################\n",
    "\n",
    "time_list_chol_rank = np.array(time_list_chol_rank)\n",
    "time_list_chol_triangular = np.array(time_list_chol_triangular)\n",
    "time_list_mani = np.array(time_list_mani)\n",
    "time_list_mani_adaptive = np.array(time_list_mani_adaptive)\n",
    "time_list_proj = np.array(time_list_proj)\n",
    "\n",
    "# Compute mean fidelity\n",
    "mean_time_chol_rank = np.mean(time_list_chol_rank, axis=0)\n",
    "mean_time_chol_triangular = np.mean(time_list_chol_triangular, axis=0)\n",
    "mean_time_mani = np.mean(time_list_mani, axis=0)\n",
    "mean_time_mani_adaptive = np.mean(time_list_mani_adaptive, axis=0)\n",
    "mean_time_proj = np.mean(time_list_proj, axis=0)\n",
    "\n",
    "# Compute standard deviation in the mean fidelity\n",
    "std_time_chol_rank = np.std(time_list_chol_rank, axis=0)\n",
    "std_time_chol_triangular = np.std(time_list_chol_triangular, axis=0)\n",
    "std_time_mani = np.std(time_list_mani, axis=0)\n",
    "std_time_mani_adaptive = np.std(time_list_mani_adaptive, axis=0)\n",
    "std_time_proj = np.std(time_list_proj, axis=0)\n"
   ]
  },
  {
   "cell_type": "markdown",
   "metadata": {},
   "source": [
    "### Plotting the results"
   ]
  },
  {
   "cell_type": "code",
   "execution_count": 6,
   "metadata": {
    "ExecuteTime": {
     "end_time": "2025-04-18T01:43:45.112332Z",
     "start_time": "2025-04-18T01:43:44.695513Z"
    }
   },
   "outputs": [
    {
     "data": {
      "image/png": "[encoded data removed]",
      "text/plain": [
       "<Figure size 1000x400 with 2 Axes>"
      ]
     },
     "metadata": {},
     "output_type": "display_data"
    }
   ],
   "source": [
    "fig, (ax1,ax2) = plt.subplots(1,2, figsize=(10,4))\n",
    "\n",
    "\n",
    "###-------------Fidelity Vs iterations -------------#######\n",
    "\n",
    "ax1.set_title(\"Iterations vs Fidelity\", fontsize=12)\n",
    "\n",
    "iterations = np.arange(1,len(f_gd_chol_rank)+1)   # total number of iterations\n",
    "\n",
    "ax1.plot(iterations, mean_fid_chol_rank, color='red',label=\"chol_rank\")\n",
    "ax1.fill_between(iterations, mean_fid_chol_rank - std_fid_chol_rank, mean_fid_chol_rank + std_fid_chol_rank, alpha=0.2, color='red')\n",
    "\n",
    "ax1.plot(iterations, mean_fid_chol_triangular, color='blue',label=\"chol_triangular\")\n",
    "ax1.fill_between(iterations, mean_fid_chol_triangular - std_fid_chol_triangular, mean_fid_chol_triangular + std_fid_chol_triangular, alpha=0.2, color='blue')\n",
    "\n",
    "ax1.plot(iterations, mean_fid_mani, color='green',label=\"manifold\")\n",
    "ax1.fill_between(iterations, mean_fid_mani - std_fid_mani, mean_fid_mani + std_fid_mani, alpha=0.2, color='green')\n",
    "\n",
    "ax1.plot(iterations, mean_fid_mani_adaptive, color='purple',label=\"manifold_adaptive\")\n",
    "ax1.fill_between(iterations, mean_fid_mani_adaptive - std_fid_mani_adaptive, mean_fid_mani_adaptive + std_fid_mani_adaptive, alpha=0.2, color='purple')\n",
    "\n",
    "ax1.plot(iterations, mean_fid_proj, color='orange',label=\"projective\")\n",
    "ax1.fill_between(iterations, mean_fid_proj - std_fid_proj, mean_fid_proj + std_fid_proj, alpha=0.2, color='orange')\n",
    "\n",
    "ax1.legend(loc='lower right')\n",
    "ax1.set_xlabel(\"Iterations\")\n",
    "ax1.set_ylabel(\"Fidelity\")\n",
    "\n",
    "\n",
    "###-------------Fidelity Vs time -------------#######\n",
    "\n",
    "ax2.set_title(\"Time vs Fidelity\", fontsize=12)\n",
    "\n",
    "ax2.plot(mean_time_chol_rank, mean_fid_chol_rank, color='red',label=\"chol_rank\")\n",
    "ax2.fill_between(mean_time_chol_rank, mean_fid_chol_rank - std_fid_chol_rank, mean_fid_chol_rank + std_fid_chol_rank, alpha=0.2, color='red')\n",
    "\n",
    "ax2.plot(mean_time_chol_triangular, mean_fid_chol_triangular, color='blue',label=\"chol_triangular\")\n",
    "ax2.fill_between(mean_time_chol_triangular, mean_fid_chol_triangular - std_fid_chol_triangular, mean_fid_chol_triangular + std_fid_chol_triangular, alpha=0.2, color='blue')\n",
    "\n",
    "ax2.plot(mean_time_mani, mean_fid_mani, color='green',label=\"manifold\")\n",
    "ax2.fill_between(mean_time_mani, mean_fid_mani - std_fid_mani, mean_fid_mani + std_fid_mani, alpha=0.2, color='green')\n",
    "\n",
    "ax2.plot(mean_time_mani_adaptive, mean_fid_mani_adaptive, color='purple',label=\"manifold_adaptive\")\n",
    "ax2.fill_between(mean_time_mani_adaptive, mean_fid_mani_adaptive - std_fid_mani_adaptive, mean_fid_mani_adaptive + std_fid_mani_adaptive, alpha=0.2, color='purple')\n",
    "\n",
    "ax2.plot(mean_time_proj, mean_fid_proj, color='orange',label=\"projective\")\n",
    "ax2.fill_between(mean_time_proj, mean_fid_proj - std_fid_proj, mean_fid_proj + std_fid_proj, alpha=0.2, color='orange')\n",
    "\n",
    "\n",
    "ax2.legend(loc='lower right')\n",
    "ax2.set_xlabel(\"Time (sec)\")\n",
    "ax2.set_ylabel(\"Fidelity\")\n",
    "\n",
    "plt.show()\n"
   ]
  },
  {
   "cell_type": "code",
   "execution_count": 7,
   "metadata": {
    "ExecuteTime": {
     "end_time": "2025-04-18T01:43:50.412560Z",
     "start_time": "2025-04-18T01:43:50.408212Z"
    }
   },
   "outputs": [
    {
     "name": "stdout",
     "output_type": "stream",
     "text": [
      "max fidelity (chol_rank) and time in seconds : [0.9997680737539354, 0.4769696474075317]\n",
      "max fidelity (chol_triangular): [0.9796710212780346, 0.4393593788146973]\n",
      "max fidelity (chol_manifold): [0.9995719781279707, 0.6781234741210938]\n",
      "max fidelity (chol_manifold_adaptive): [0.9982533412912575, 0.5935753107070922]\n",
      "max fidelity (chol_proj): [0.9999864432320749, 1.1996059179306031]\n"
     ]
    }
   ],
   "source": [
    "print('max fidelity (chol_rank) and time in seconds :', [np.max(f_gd_chol_rank), mean_time_chol_rank[np.argmax(mean_fid_chol_rank)]])\n",
    "print('max fidelity (chol_triangular):', [np.max(f_gd_chol_triangular), mean_time_chol_triangular[np.argmax(mean_fid_chol_triangular)]])\n",
    "print('max fidelity (chol_manifold):', [np.max(f_gd_mani), mean_time_mani[np.argmax(mean_fid_mani)]])\n",
    "print('max fidelity (chol_manifold_adaptive):', [np.max(f_gd_mani_adaptive), mean_time_mani_adaptive[np.argmax(mean_fid_mani_adaptive)]])\n",
    "print('max fidelity (chol_proj):', [np.max(f_gd_proj), mean_time_proj[np.argmax(mean_fid_proj)]])\n"
   ]
  },
  {
   "cell_type": "markdown",
   "metadata": {},
   "source": [
    "## GHZ state\n",
    "Now let's reconstruct a GHZ state\n",
    "$$ \\frac{|000\\rangle + |111\\rangle}{\\sqrt{2}}$$"
   ]
  },
  {
   "cell_type": "code",
   "execution_count": 8,
   "metadata": {
    "ExecuteTime": {
     "end_time": "2025-04-18T01:43:52.465352Z",
     "start_time": "2025-04-18T01:43:52.460389Z"
    }
   },
   "outputs": [
    {
     "name": "stdout",
     "output_type": "stream",
     "text": [
      "Quantum object: dims=[[8], [1]], shape=(8, 1), type='ket', dtype=Dense\n",
      "Qobj data =\n",
      "[[0.70710678]\n",
      " [0.        ]\n",
      " [0.        ]\n",
      " [0.        ]\n",
      " [0.        ]\n",
      " [0.        ]\n",
      " [0.        ]\n",
      " [0.70710678]]\n"
     ]
    }
   ],
   "source": [
    "# Define the basis states |0> and |1> for a single qubit\n",
    "zero = qtp.basis(2, 0)  # |0>\n",
    "one = qtp.basis(2, 1)   # |1>\n",
    "\n",
    "# Construct the |000> and |111> states for 3 qubits\n",
    "state_000 = qtp.tensor(zero, zero, zero)  # |000>\n",
    "state_111 = qtp.tensor(one, one, one)     # |111>\n",
    "\n",
    "# Create the GHZ state: (|000> + |111>) / sqrt(2)\n",
    "ghz_state = (state_000 + state_111).unit()\n",
    "ghz_state = qtp.Qobj(ghz_state.full(), dims=[[8], [1]])  # Reshape the GHZ state to have dimensions [8]\n",
    "# This reshape is necessary for the function qtp.expect. It will depend of the version of QuTip\n",
    " \n",
    "print(ghz_state)"
   ]
  },
  {
   "cell_type": "code",
   "execution_count": 9,
   "metadata": {
    "ExecuteTime": {
     "end_time": "2025-04-18T01:44:29.536196Z",
     "start_time": "2025-04-18T01:43:55.250002Z"
    }
   },
   "outputs": [
    {
     "name": "stderr",
     "output_type": "stream",
     "text": [
      "100%|██████████| 300/300 [00:00<00:00, 544.13it/s]/300 [00:00<00:00, 610.43it/s]\n",
      "Fidelity GD-chol-rank 1.0000: 100%|██████████| 300/300 [00:00<00:00, 542.61it/s]\n",
      "100%|██████████| 300/300 [00:00<00:00, 658.83it/s]▉| 299/300 [00:00<00:00, 740.73it/s]\n",
      "Fidelity GD-chol-triangular 0.9994: 100%|██████████| 300/300 [00:00<00:00, 656.72it/s]\n",
      "100%|██████████| 300/300 [00:00<00:00, 703.99it/s]300 [00:00<00:00, 745.02it/s]\n",
      "Fidelity GD-manifold 0.9998: 100%|██████████| 300/300 [00:00<00:00, 701.83it/s]\n",
      "100%|██████████| 300/300 [00:00<00:00, 675.86it/s]██▉| 299/300 [00:00<00:00, 791.58it/s]\n",
      "Fidelity GD-manifold-adaptive 0.9980: 100%|██████████| 300/300 [00:00<00:00, 673.97it/s]\n",
      "100%|██████████| 300/300 [00:00<00:00, 565.60it/s]9/300 [00:00<00:00, 635.09it/s]\n",
      "Fidelity GD-projection 1.0000: 100%|██████████| 300/300 [00:00<00:00, 564.01it/s]\n",
      "100%|██████████| 300/300 [00:00<00:00, 661.19it/s]/300 [00:00<00:00, 751.15it/s]\n",
      "Fidelity GD-chol-rank 1.0000: 100%|██████████| 300/300 [00:00<00:00, 658.85it/s]\n",
      "100%|██████████| 300/300 [00:00<00:00, 668.79it/s]▉| 299/300 [00:00<00:00, 759.10it/s]\n",
      "Fidelity GD-chol-triangular 0.9989: 100%|██████████| 300/300 [00:00<00:00, 666.51it/s]\n",
      "100%|██████████| 300/300 [00:00<00:00, 590.86it/s]300 [00:00<00:00, 641.17it/s]\n",
      "Fidelity GD-manifold 0.9998: 100%|██████████| 300/300 [00:00<00:00, 589.24it/s]\n",
      "100%|██████████| 300/300 [00:00<00:00, 576.57it/s]██▉| 299/300 [00:00<00:00, 667.63it/s]\n",
      "Fidelity GD-manifold-adaptive 0.9982: 100%|██████████| 300/300 [00:00<00:00, 574.99it/s]\n",
      "100%|██████████| 300/300 [00:00<00:00, 606.60it/s]9/300 [00:00<00:00, 660.76it/s]\n",
      "Fidelity GD-projection 1.0000: 100%|██████████| 300/300 [00:00<00:00, 604.59it/s]\n",
      "100%|██████████| 300/300 [00:00<00:00, 666.85it/s]/300 [00:00<00:00, 752.68it/s]\n",
      "Fidelity GD-chol-rank 1.0000: 100%|██████████| 300/300 [00:00<00:00, 664.85it/s]\n",
      "100%|██████████| 300/300 [00:00<00:00, 674.32it/s]▉| 299/300 [00:00<00:00, 767.00it/s]\n",
      "Fidelity GD-chol-triangular 0.9995: 100%|██████████| 300/300 [00:00<00:00, 672.37it/s]\n",
      "100%|██████████| 300/300 [00:00<00:00, 733.46it/s]300 [00:00<00:00, 841.22it/s]\n",
      "Fidelity GD-manifold 0.9997: 100%|██████████| 300/300 [00:00<00:00, 731.01it/s]\n",
      "100%|██████████| 300/300 [00:00<00:00, 747.86it/s]███| 300/300 [00:00<00:00, 844.46it/s]\n",
      "Fidelity GD-manifold-adaptive 0.9975: 100%|██████████| 300/300 [00:00<00:00, 745.60it/s]\n",
      "100%|██████████| 300/300 [00:00<00:00, 638.31it/s]9/300 [00:00<00:00, 691.92it/s]\n",
      "Fidelity GD-projection 1.0000: 100%|██████████| 300/300 [00:00<00:00, 636.39it/s]\n",
      "100%|██████████| 300/300 [00:00<00:00, 654.09it/s]/300 [00:00<00:00, 735.88it/s]\n",
      "Fidelity GD-chol-rank 1.0000: 100%|██████████| 300/300 [00:00<00:00, 652.31it/s]\n",
      "100%|██████████| 300/300 [00:00<00:00, 534.51it/s]▉| 299/300 [00:00<00:00, 626.10it/s]\n",
      "Fidelity GD-chol-triangular 0.9995: 100%|██████████| 300/300 [00:00<00:00, 533.24it/s]\n",
      "100%|██████████| 300/300 [00:00<00:00, 666.11it/s]300 [00:00<00:00, 703.59it/s]\n",
      "Fidelity GD-manifold 0.9997: 100%|██████████| 300/300 [00:00<00:00, 664.30it/s]\n",
      "100%|██████████| 300/300 [00:00<00:00, 684.76it/s]██▉| 299/300 [00:00<00:00, 774.04it/s]\n",
      "Fidelity GD-manifold-adaptive 0.9975: 100%|██████████| 300/300 [00:00<00:00, 682.62it/s]\n",
      "100%|██████████| 300/300 [00:00<00:00, 635.29it/s]9/300 [00:00<00:00, 665.48it/s]\n",
      "Fidelity GD-projection 1.0000: 100%|██████████| 300/300 [00:00<00:00, 632.54it/s]\n",
      "100%|██████████| 300/300 [00:00<00:00, 673.00it/s]/300 [00:00<00:00, 762.20it/s]\n",
      "Fidelity GD-chol-rank 1.0000: 100%|██████████| 300/300 [00:00<00:00, 671.43it/s]\n",
      "100%|██████████| 300/300 [00:00<00:00, 655.03it/s]▉| 299/300 [00:00<00:00, 727.51it/s]\n",
      "Fidelity GD-chol-triangular 0.9994: 100%|██████████| 300/300 [00:00<00:00, 653.10it/s]\n",
      "100%|██████████| 300/300 [00:00<00:00, 774.04it/s]300 [00:00<00:00, 810.65it/s]\n",
      "Fidelity GD-manifold 0.9999: 100%|██████████| 300/300 [00:00<00:00, 771.48it/s]\n",
      "100%|██████████| 300/300 [00:00<00:00, 729.45it/s]██▉| 299/300 [00:00<00:00, 827.66it/s]\n",
      "Fidelity GD-manifold-adaptive 0.9988: 100%|██████████| 300/300 [00:00<00:00, 727.20it/s]\n",
      "100%|██████████| 300/300 [00:00<00:00, 657.24it/s]9/300 [00:00<00:00, 704.68it/s]\n",
      "Fidelity GD-projection 1.0000: 100%|██████████| 300/300 [00:00<00:00, 655.11it/s]\n",
      "100%|██████████| 300/300 [00:00<00:00, 680.11it/s]/300 [00:00<00:00, 776.88it/s]\n",
      "Fidelity GD-chol-rank 1.0000: 100%|██████████| 300/300 [00:00<00:00, 678.36it/s]\n",
      "100%|██████████| 300/300 [00:00<00:00, 657.09it/s]▉| 299/300 [00:00<00:00, 745.47it/s]\n",
      "Fidelity GD-chol-triangular 0.9994: 100%|██████████| 300/300 [00:00<00:00, 654.61it/s]\n",
      "100%|██████████| 300/300 [00:00<00:00, 731.80it/s]300 [00:00<00:00, 817.18it/s]\n",
      "Fidelity GD-manifold 0.9998: 100%|██████████| 300/300 [00:00<00:00, 729.64it/s]\n",
      "100%|██████████| 300/300 [00:00<00:00, 731.94it/s]██▉| 299/300 [00:00<00:00, 805.16it/s]\n",
      "Fidelity GD-manifold-adaptive 0.9965: 100%|██████████| 300/300 [00:00<00:00, 729.77it/s]\n",
      "100%|██████████| 300/300 [00:00<00:00, 683.94it/s]9/300 [00:00<00:00, 752.80it/s]\n",
      "Fidelity GD-projection 1.0000: 100%|██████████| 300/300 [00:00<00:00, 681.85it/s]\n",
      "100%|██████████| 300/300 [00:00<00:00, 655.45it/s]/300 [00:00<00:00, 733.40it/s]\n",
      "Fidelity GD-chol-rank 1.0000: 100%|██████████| 300/300 [00:00<00:00, 653.55it/s]\n",
      "100%|██████████| 300/300 [00:00<00:00, 634.46it/s]▉| 299/300 [00:00<00:00, 679.41it/s]\n",
      "Fidelity GD-chol-triangular 0.9995: 100%|██████████| 300/300 [00:00<00:00, 632.52it/s]\n",
      "100%|██████████| 300/300 [00:00<00:00, 655.73it/s]300 [00:00<00:00, 757.68it/s]\n",
      "Fidelity GD-manifold 0.9999: 100%|██████████| 300/300 [00:00<00:00, 653.46it/s]\n",
      "100%|██████████| 300/300 [00:00<00:00, 728.88it/s]██▉| 299/300 [00:00<00:00, 826.12it/s]\n",
      "Fidelity GD-manifold-adaptive 0.9992: 100%|██████████| 300/300 [00:00<00:00, 726.44it/s]\n",
      "100%|██████████| 300/300 [00:00<00:00, 652.81it/s]9/300 [00:00<00:00, 719.95it/s]\n",
      "Fidelity GD-projection 1.0000: 100%|██████████| 300/300 [00:00<00:00, 650.87it/s]\n",
      "100%|██████████| 300/300 [00:00<00:00, 648.18it/s]/300 [00:00<00:00, 717.62it/s]\n",
      "Fidelity GD-chol-rank 1.0000: 100%|██████████| 300/300 [00:00<00:00, 646.43it/s]\n",
      "100%|██████████| 300/300 [00:00<00:00, 646.02it/s]▉| 299/300 [00:00<00:00, 723.32it/s]\n",
      "Fidelity GD-chol-triangular 0.9994: 100%|██████████| 300/300 [00:00<00:00, 644.24it/s]\n",
      "100%|██████████| 300/300 [00:00<00:00, 722.04it/s]300 [00:00<00:00, 781.18it/s]\n",
      "Fidelity GD-manifold 0.9998: 100%|██████████| 300/300 [00:00<00:00, 719.85it/s]\n",
      "100%|██████████| 300/300 [00:00<00:00, 661.41it/s]██▉| 299/300 [00:00<00:00, 714.99it/s]\n",
      "Fidelity GD-manifold-adaptive 0.9950: 100%|██████████| 300/300 [00:00<00:00, 659.57it/s]\n",
      "100%|██████████| 300/300 [00:00<00:00, 524.95it/s]9/300 [00:00<00:00, 603.04it/s]\n",
      "Fidelity GD-projection 1.0000: 100%|██████████| 300/300 [00:00<00:00, 523.49it/s]\n",
      "100%|██████████| 300/300 [00:00<00:00, 633.15it/s]/300 [00:00<00:00, 726.46it/s]\n",
      "Fidelity GD-chol-rank 1.0000: 100%|██████████| 300/300 [00:00<00:00, 631.12it/s]\n",
      "100%|██████████| 300/300 [00:00<00:00, 581.75it/s]▉| 299/300 [00:00<00:00, 642.09it/s]\n",
      "Fidelity GD-chol-triangular 0.9995: 100%|██████████| 300/300 [00:00<00:00, 580.15it/s]\n",
      "100%|██████████| 300/300 [00:00<00:00, 742.28it/s]300 [00:00<00:00, 849.48it/s]\n",
      "Fidelity GD-manifold 0.9998: 100%|██████████| 300/300 [00:00<00:00, 739.70it/s]\n",
      "100%|██████████| 300/300 [00:00<00:00, 723.16it/s]██▉| 299/300 [00:00<00:00, 819.38it/s]\n",
      "Fidelity GD-manifold-adaptive 0.9985: 100%|██████████| 300/300 [00:00<00:00, 720.60it/s]\n",
      "100%|██████████| 300/300 [00:00<00:00, 667.96it/s]9/300 [00:00<00:00, 742.15it/s]\n",
      "Fidelity GD-projection 1.0000: 100%|██████████| 300/300 [00:00<00:00, 665.88it/s]\n",
      "100%|██████████| 300/300 [00:00<00:00, 637.35it/s]/300 [00:00<00:00, 760.74it/s]\n",
      "Fidelity GD-chol-rank 1.0000: 100%|██████████| 300/300 [00:00<00:00, 635.04it/s]\n",
      "100%|██████████| 300/300 [00:00<00:00, 606.43it/s]▉| 299/300 [00:00<00:00, 737.30it/s]\n",
      "Fidelity GD-chol-triangular 0.9995: 100%|██████████| 300/300 [00:00<00:00, 603.22it/s]\n",
      "100%|██████████| 300/300 [00:00<00:00, 748.32it/s]300 [00:00<00:00, 824.59it/s]\n",
      "Fidelity GD-manifold 0.9998: 100%|██████████| 300/300 [00:00<00:00, 744.53it/s]\n",
      "100%|██████████| 300/300 [00:00<00:00, 699.37it/s]██▉| 299/300 [00:00<00:00, 745.11it/s]\n",
      "Fidelity GD-manifold-adaptive 0.9990: 100%|██████████| 300/300 [00:00<00:00, 693.57it/s]\n",
      "100%|██████████| 300/300 [00:00<00:00, 632.17it/s]9/300 [00:00<00:00, 657.75it/s]\n",
      "Fidelity GD-projection 1.0000: 100%|██████████| 300/300 [00:00<00:00, 630.11it/s]\n"
     ]
    }
   ],
   "source": [
    "# List to save the values of fidelity and time for the GD methods\n",
    "\n",
    "fid_list_chol_rank, fid_list_chol_triangular, fid_list_mani, fid_list_mani_adaptive, fid_list_proj = [], [], [], [], []\n",
    "time_list_chol_rank, time_list_chol_triangular, time_list_mani, time_list_mani_adaptive, time_list_proj = [], [], [], [], []\n",
    "\n",
    "\n",
    "max_itera: int = 300\n",
    "batch_s = round(0.5*len(ops_jnp)) # The batch size, taking a group of measurement operators \n",
    "\n",
    "# The for is to run all the methods multiple times, and then have an average \n",
    "for i in range(10):  \n",
    "\n",
    "    # measuring the \n",
    "    rho_or = ghz_state\n",
    "    data = qtp.expect(Measu_ope,rho_or)\n",
    "\n",
    "    ##-----------------GD-QST starts ---------------\n",
    "    # define rank of ansatz\n",
    "    rank = 1 # maximum rank is 2**N\n",
    "    T_rank, T_triangular, column_ket_pro, ket_f, prob1_array_jnp = ansatz(rank)\n",
    "\n",
    "    # ..........................................................................\n",
    "    # GD-QST-Cholesky-Rank \n",
    "    \n",
    "    rho_gd_chol_rank, f_gd_chol_rank, t_gd_chol_rank, _ = gd_chol_rank(data, rho_or, ops_jnp, T_rank, max_itera, batch_s, \n",
    "                                                            lr=0.5, decay= 0.999,lamb=0, tqdm_off=False)\n",
    "    fid_list_chol_rank.append(f_gd_chol_rank)\n",
    "    time_list_chol_rank.append(t_gd_chol_rank)\n",
    "\n",
    "    #...........................................................................\n",
    "    # GD-QST-Cholesky-triangular\n",
    "    rho_gd_chol_triangular, f_gd_chol_triangular, t_gd_chol_triangular, _ = gd_chol_triangular(data, rho_or, ops_jnp, T_triangular, max_itera, batch_s, \n",
    "                                                            lr=0.5, decay= 0.999,lamb=0, tqdm_off=False)\n",
    "    fid_list_chol_triangular.append(f_gd_chol_triangular)\n",
    "    time_list_chol_triangular.append(t_gd_chol_triangular)\n",
    "\n",
    "    # ...........................................................................\n",
    "    # GD-QST-manifold\n",
    "    rho_gd_mani, f_gd_mani, t_gd_mani, loss_gd_mani = gd_manifold(data, rho_or, ops_jnp, column_ket_pro, max_itera, batch_s, \n",
    "                                                           lr=0.1, decay=0.997, lamb=0, tqdm_off=False)   \n",
    "    fid_list_mani.append(f_gd_mani)\n",
    "    time_list_mani.append(t_gd_mani)\n",
    "             \n",
    "    # ...........................................................................                                  \n",
    "    # GD-QST-manifold-adaptive\n",
    "    rho_gd_mani_adaptive, f_gd_mani_adaptive, t_gd_mani_adaptive, _ = gd_manifold_adaptive(data, rho_or, ops_jnp, column_ket_pro, max_itera, batch_s, \n",
    "                                                            lr=1e-1, boost = 1.08, decay = 0.99, lamb = 0, tqdm_off=False)\n",
    "    fid_list_mani_adaptive.append(f_gd_mani_adaptive)\n",
    "    time_list_mani_adaptive.append(t_gd_mani_adaptive)\n",
    "    \n",
    "    # ...........................................................................\n",
    "    # GD-QST-projection\n",
    "    rho_gd_proj, f_gd_proj, t_gd_proj, loss_gd_proj = gd_project(data, rho_or, ops_jnp, ket_f, prob1_array_jnp, max_itera, batch_s,\n",
    "                                                             lr=1e-1, decay=0.099, lamb=0, tqdm_off=False)\n",
    "    fid_list_proj.append(f_gd_proj)\n",
    "    time_list_proj.append(t_gd_proj)"
   ]
  },
  {
   "cell_type": "code",
   "execution_count": 10,
   "metadata": {
    "ExecuteTime": {
     "end_time": "2025-04-18T01:58:48.342126Z",
     "start_time": "2025-04-18T01:58:48.327871Z"
    }
   },
   "outputs": [],
   "source": [
    "fid_list_chol_rank = np.array(fid_list_chol_rank)\n",
    "fid_list_chol_triangular = np.array(fid_list_chol_triangular)\n",
    "fid_list_mani = np.array(fid_list_mani)\n",
    "fid_list_mani_adaptive = np.array(fid_list_mani_adaptive)\n",
    "fid_list_proj = np.array(fid_list_proj)\n",
    "\n",
    "\n",
    "# Compute mean fidelity\n",
    "mean_fid_chol_rank = np.mean(fid_list_chol_rank, axis=0)\n",
    "mean_fid_chol_triangular = np.mean(fid_list_chol_triangular, axis=0)\n",
    "mean_fid_mani = np.mean(fid_list_mani, axis=0)\n",
    "mean_fid_mani_adaptive = np.mean(fid_list_mani_adaptive, axis=0)\n",
    "mean_fid_proj = np.mean(fid_list_proj, axis=0)\n",
    "\n",
    "# Compute standard deviation in the mean fidelity\n",
    "std_fid_chol_rank = np.std(fid_list_chol_rank, axis=0)\n",
    "std_fid_chol_triangular = np.std(fid_list_chol_triangular, axis=0)\n",
    "std_fid_mani = np.std(fid_list_mani, axis=0)\n",
    "std_fid_mani_adaptive = np.std(fid_list_mani_adaptive, axis=0)\n",
    "std_fid_proj = np.std(fid_list_proj, axis=0)\n",
    "\n",
    "\n",
    "########################### Average time ###################\n",
    "\n",
    "time_list_chol_rank = np.array(time_list_chol_rank)\n",
    "time_list_chol_triangular = np.array(time_list_chol_triangular)\n",
    "time_list_mani = np.array(time_list_mani)\n",
    "time_list_mani_adaptive = np.array(time_list_mani_adaptive)\n",
    "time_list_proj = np.array(time_list_proj)\n",
    "\n",
    "# Compute mean fidelity\n",
    "mean_time_chol_rank = np.mean(time_list_chol_rank, axis=0)\n",
    "mean_time_chol_triangular = np.mean(time_list_chol_triangular, axis=0)\n",
    "mean_time_mani = np.mean(time_list_mani, axis=0)\n",
    "mean_time_mani_adaptive = np.mean(time_list_mani_adaptive, axis=0)\n",
    "mean_time_proj = np.mean(time_list_proj, axis=0)\n",
    "\n",
    "# Compute standard deviation in the mean fidelity\n",
    "std_time_chol_rank = np.std(time_list_chol_rank, axis=0)\n",
    "std_time_chol_triangular = np.std(time_list_chol_triangular, axis=0)\n",
    "std_time_mani = np.std(time_list_mani, axis=0)\n",
    "std_time_mani_adaptive = np.std(time_list_mani_adaptive, axis=0)\n",
    "std_time_proj = np.std(time_list_proj, axis=0)"
   ]
  },
  {
   "cell_type": "code",
   "execution_count": 11,
   "metadata": {
    "ExecuteTime": {
     "end_time": "2025-04-18T01:58:51.312983Z",
     "start_time": "2025-04-18T01:58:50.983774Z"
    }
   },
   "outputs": [
    {
     "data": {
      "image/png": "[encoded data removed]",
      "text/plain": [
       "<Figure size 1000x400 with 2 Axes>"
      ]
     },
     "metadata": {},
     "output_type": "display_data"
    }
   ],
   "source": [
    "fig, (ax1,ax2) = plt.subplots(1,2, figsize=(10,4))\n",
    "\n",
    "\n",
    "###-------------Fidelity Vs iterations -------------#######\n",
    "\n",
    "ax1.set_title(\"Iterations vs Fidelity\", fontsize=12)\n",
    "\n",
    "iterations = np.arange(1,len(f_gd_chol_rank)+1)   # total number of iterations\n",
    "\n",
    "ax1.plot(iterations, mean_fid_chol_rank, color='red',label=\"chol_rank\")\n",
    "ax1.fill_between(iterations, mean_fid_chol_rank - std_fid_chol_rank, mean_fid_chol_rank + std_fid_chol_rank, alpha=0.2, color='red')\n",
    "\n",
    "ax1.plot(iterations, mean_fid_chol_triangular, color='blue',label=\"chol_triangular\")\n",
    "ax1.fill_between(iterations, mean_fid_chol_triangular - std_fid_chol_triangular, mean_fid_chol_triangular + std_fid_chol_triangular, alpha=0.2, color='blue')\n",
    "\n",
    "ax1.plot(iterations, mean_fid_mani, color='green',label=\"manifold\")\n",
    "ax1.fill_between(iterations, mean_fid_mani - std_fid_mani, mean_fid_mani + std_fid_mani, alpha=0.2, color='green')\n",
    "\n",
    "ax1.plot(iterations, mean_fid_mani_adaptive, color='purple',label=\"manifold_adaptive\")\n",
    "ax1.fill_between(iterations, mean_fid_mani_adaptive - std_fid_mani_adaptive, mean_fid_mani_adaptive + std_fid_mani_adaptive, alpha=0.2, color='purple')\n",
    "\n",
    "ax1.plot(iterations, mean_fid_proj, color='orange',label=\"projective\")\n",
    "ax1.fill_between(iterations, mean_fid_proj - std_fid_proj, mean_fid_proj + std_fid_proj, alpha=0.2, color='orange')\n",
    "\n",
    "ax1.legend(loc='lower right')\n",
    "ax1.set_xlabel(\"Iterations\")\n",
    "ax1.set_ylabel(\"Fidelity\")\n",
    "\n",
    "\n",
    "###-------------Fidelity Vs time -------------#######\n",
    "\n",
    "ax2.set_title(\"Time vs Fidelity\", fontsize=12)\n",
    "\n",
    "ax2.plot(mean_time_chol_rank, mean_fid_chol_rank, color='red',label=\"chol_rank\")\n",
    "ax2.fill_between(mean_time_chol_rank, mean_fid_chol_rank - std_fid_chol_rank, mean_fid_chol_rank + std_fid_chol_rank, alpha=0.2, color='red')\n",
    "\n",
    "ax2.plot(mean_time_chol_triangular, mean_fid_chol_triangular, color='blue',label=\"chol_triangular\")\n",
    "ax2.fill_between(mean_time_chol_triangular, mean_fid_chol_triangular - std_fid_chol_triangular, mean_fid_chol_triangular + std_fid_chol_triangular, alpha=0.2, color='blue')\n",
    "\n",
    "ax2.plot(mean_time_mani, mean_fid_mani, color='green',label=\"manifold\")\n",
    "ax2.fill_between(mean_time_mani, mean_fid_mani - std_fid_mani, mean_fid_mani + std_fid_mani, alpha=0.2, color='green')\n",
    "\n",
    "ax2.plot(mean_time_mani_adaptive, mean_fid_mani_adaptive, color='purple',label=\"manifold_adaptive\")\n",
    "ax2.fill_between(mean_time_mani_adaptive, mean_fid_mani_adaptive - std_fid_mani_adaptive, mean_fid_mani_adaptive + std_fid_mani_adaptive, alpha=0.2, color='purple')\n",
    "\n",
    "ax2.plot(mean_time_proj, mean_fid_proj, color='orange',label=\"projective\")\n",
    "ax2.fill_between(mean_time_proj, mean_fid_proj - std_fid_proj, mean_fid_proj + std_fid_proj, alpha=0.2, color='orange')\n",
    "\n",
    "\n",
    "ax2.legend(loc='lower right')\n",
    "ax2.set_xlabel(\"Time (sec)\")\n",
    "ax2.set_ylabel(\"Fidelity\")\n",
    "\n",
    "plt.show()\n"
   ]
  },
  {
   "cell_type": "code",
   "execution_count": 12,
   "metadata": {
    "ExecuteTime": {
     "end_time": "2025-04-18T01:59:11.658490Z",
     "start_time": "2025-04-18T01:59:11.654441Z"
    }
   },
   "outputs": [
    {
     "name": "stdout",
     "output_type": "stream",
     "text": [
      "max fidelity (chol_rank) and time in seconds : [1.0000000036067553, 0.39837942123413084]\n",
      "max fidelity (chol_triangular): [0.9994877419001029, 0.4071962833404541]\n",
      "max fidelity (chol_manifold): [0.9999958892274491, 0.3319110870361328]\n",
      "max fidelity (chol_manifold_adaptive): [0.9999230839843988, 0.27896244525909425]\n",
      "max fidelity (chol_proj): [1.0000000034467846, 0.4027601480484009]\n"
     ]
    }
   ],
   "source": [
    "print('max fidelity (chol_rank) and time in seconds :', [np.max(f_gd_chol_rank), mean_time_chol_rank[np.argmax(mean_fid_chol_rank)]])\n",
    "print('max fidelity (chol_triangular):', [np.max(f_gd_chol_triangular), mean_time_chol_triangular[np.argmax(mean_fid_chol_triangular)]])\n",
    "print('max fidelity (chol_manifold):', [np.max(f_gd_mani), mean_time_mani[np.argmax(mean_fid_mani)]])\n",
    "print('max fidelity (chol_manifold_adaptive):', [np.max(f_gd_mani_adaptive), mean_time_mani_adaptive[np.argmax(mean_fid_mani_adaptive)]])\n",
    "print('max fidelity (chol_proj):', [np.max(f_gd_proj), mean_time_proj[np.argmax(mean_fid_proj)]])\n"
   ]
  },
  {
   "cell_type": "code",
   "execution_count": null,
   "metadata": {
    "ExecuteTime": {
     "end_time": "2025-03-15T08:20:14.040151Z",
     "start_time": "2025-03-15T08:20:14.038277Z"
    }
   },
   "outputs": [],
   "source": []
  },
  {
   "cell_type": "code",
   "execution_count": null,
   "metadata": {
    "ExecuteTime": {
     "end_time": "2025-03-15T08:33:59.161093Z",
     "start_time": "2025-03-15T08:33:59.159098Z"
    }
   },
   "outputs": [],
   "source": []
  },
  {
   "cell_type": "code",
   "execution_count": null,
   "metadata": {},
   "outputs": [],
   "source": []
  }
 ],
 "metadata": {
  "kernelspec": {
   "display_name": "my_gd_qst_env",
   "language": "python",
   "name": "python3"
  },
  "language_info": {
   "codemirror_mode": {
    "name": "ipython",
    "version": 3
   },
   "file_extension": ".py",
   "mimetype": "text/x-python",
   "name": "python",
   "nbconvert_exporter": "python",
   "pygments_lexer": "ipython3",
   "version": "3.10.13"
  }
 },
 "nbformat": 4,
 "nbformat_minor": 4
}
