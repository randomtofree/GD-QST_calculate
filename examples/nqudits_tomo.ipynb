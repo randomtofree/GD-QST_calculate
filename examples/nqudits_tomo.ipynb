{
 "cells": [
  {
   "cell_type": "markdown",
   "metadata": {},
   "source": "# Quantum state tomography (QST) with LS"
  },
  {
   "cell_type": "markdown",
   "metadata": {},
   "source": []
  },
  {
   "cell_type": "code",
   "metadata": {
    "ExecuteTime": {
     "end_time": "2025-05-01T19:00:22.969933Z",
     "start_time": "2025-05-01T19:00:20.380323Z"
    }
   },
   "source": [
    "# To call the libraries for the GD-QST\n",
    "import sys\n",
    "sys.path.insert(0, '..')\n",
    "# You have to change the path of the library\n",
    "\n",
    "from qutip import * \n",
    "from itertools import *\n",
    "import jax.numpy as jnp\n",
    "import numpy as np\n",
    "import matplotlib.pyplot as plt\n",
    "#from qutip import basis, tensor\n",
    "\n",
    "from qst_tec.least_square import least_square_qst\n",
    "from qst_tec.compressed_sensing import compressed_sensing_qst\n",
    "from qst_tec.convex_optimization_cvx import cvx_qst\n"
   ],
   "outputs": [],
   "execution_count": 1
  },
  {
   "cell_type": "markdown",
   "metadata": {},
   "source": "### First we will define the number of qudits, the dimension d, and the measurement operators. We will use the Gell-mann matrices.\n"
  },
  {
   "cell_type": "code",
   "metadata": {
    "scrolled": true,
    "ExecuteTime": {
     "end_time": "2025-05-01T19:00:23.209067Z",
     "start_time": "2025-05-01T19:00:23.033359Z"
    }
   },
   "source": [
    "number_qudits: int = 2\n",
    "dims_qudits: int = 4\n",
    "dimension: int = dims_qudits**number_qudits\n",
    "HS: int = dimension\n",
    "\n",
    "# Creating the Measurement operators (Pauli matrices)\n",
    "\n",
    "# computation basis, important for the other methods\n",
    "def qubit_computation_basis(n,d):\n",
    "    basis_states = [basis(d, i) for i in range(d)]\n",
    "    return [tensor(*state) for state in product(basis_states, repeat=n)]\n",
    "\n",
    "computation_basis = qubit_computation_basis(number_qudits, dims_qudits)\n",
    "\n",
    "operator_basis = [Qobj(tensor(computation_basis[i],computation_basis[j].dag()), \n",
    "                dims=([[dimension], [dimension]])) for i in range(len(computation_basis)) for j in range(len(computation_basis))]\n",
    "\n",
    "\n",
    "def gellmann_matrices(d):\n",
    "    matrices = []\n",
    "\n",
    "    # Off-diagonal symmetric matrices: E_ij + E_ji, for 0 <= i < j < d\n",
    "    for i in range(d):\n",
    "        for j in range(i+1, d):\n",
    "            mat = np.zeros((d, d), dtype=complex)\n",
    "            mat[i, j] = 1\n",
    "            mat[j, i] = 1\n",
    "            matrices.append(mat)\n",
    "\n",
    "    # Off-diagonal antisymmetric matrices: -i(E_ij - E_ji)\n",
    "    for i in range(d):\n",
    "        for j in range(i+1, d):\n",
    "            mat = np.zeros((d, d), dtype=complex)\n",
    "            mat[i, j] = -1j\n",
    "            mat[j, i] = 1j\n",
    "            matrices.append(mat)\n",
    "\n",
    "    # Diagonal matrices\n",
    "    for k in range(1, d):\n",
    "        mat = np.zeros((d, d), dtype=complex)\n",
    "        coeff = np.sqrt(2 / (k * (k + 1)))\n",
    "        for i in range(k):\n",
    "            mat[i, i] = 1\n",
    "        mat[k, k] = -k\n",
    "        matrices.append(coeff * mat)\n",
    "\n",
    "    return matrices\n",
    "\n",
    "gellmann = gellmann_matrices(dims_qudits)\n",
    "gellmann_objs = [Qobj(mat, dims=([[dims_qudits], [dims_qudits]])) for mat in gellmann]\n",
    "\n",
    "gellmann_sys = [tensor(*op) for op in product(gellmann_objs, repeat=number_qudits)] # using itertools\n",
    "\n",
    "Measu_ope = [Qobj(gellmann_sys[i], dims=([[dimension], [dimension]])) for i in range(len(gellmann_sys))]\n",
    "\n",
    "print(Measu_ope[1:3])\n",
    "\n",
    "\n",
    "#-----------------------------------------------------------------------\n",
    "# It is necesary to transform the measurement operators from a numpy \n",
    "# type to a jax type (jax.np), that because of the jax grad \n",
    "\n",
    "ops_np = [op.full() for op in Measu_ope] # transforming from qutip object to numpy\n",
    "ops_jnp = jnp.asarray(ops_np) # transforming from numpy to jax.np"
   ],
   "outputs": [
    {
     "name": "stdout",
     "output_type": "stream",
     "text": [
      "[Quantum object: dims=[[16], [16]], shape=(16, 16), type='oper', dtype=Dense, isherm=True\n",
      "Qobj data =\n",
      "[[0. 0. 0. 0. 0. 0. 1. 0. 0. 0. 0. 0. 0. 0. 0. 0.]\n",
      " [0. 0. 0. 0. 0. 0. 0. 0. 0. 0. 0. 0. 0. 0. 0. 0.]\n",
      " [0. 0. 0. 0. 1. 0. 0. 0. 0. 0. 0. 0. 0. 0. 0. 0.]\n",
      " [0. 0. 0. 0. 0. 0. 0. 0. 0. 0. 0. 0. 0. 0. 0. 0.]\n",
      " [0. 0. 1. 0. 0. 0. 0. 0. 0. 0. 0. 0. 0. 0. 0. 0.]\n",
      " [0. 0. 0. 0. 0. 0. 0. 0. 0. 0. 0. 0. 0. 0. 0. 0.]\n",
      " [1. 0. 0. 0. 0. 0. 0. 0. 0. 0. 0. 0. 0. 0. 0. 0.]\n",
      " [0. 0. 0. 0. 0. 0. 0. 0. 0. 0. 0. 0. 0. 0. 0. 0.]\n",
      " [0. 0. 0. 0. 0. 0. 0. 0. 0. 0. 0. 0. 0. 0. 0. 0.]\n",
      " [0. 0. 0. 0. 0. 0. 0. 0. 0. 0. 0. 0. 0. 0. 0. 0.]\n",
      " [0. 0. 0. 0. 0. 0. 0. 0. 0. 0. 0. 0. 0. 0. 0. 0.]\n",
      " [0. 0. 0. 0. 0. 0. 0. 0. 0. 0. 0. 0. 0. 0. 0. 0.]\n",
      " [0. 0. 0. 0. 0. 0. 0. 0. 0. 0. 0. 0. 0. 0. 0. 0.]\n",
      " [0. 0. 0. 0. 0. 0. 0. 0. 0. 0. 0. 0. 0. 0. 0. 0.]\n",
      " [0. 0. 0. 0. 0. 0. 0. 0. 0. 0. 0. 0. 0. 0. 0. 0.]\n",
      " [0. 0. 0. 0. 0. 0. 0. 0. 0. 0. 0. 0. 0. 0. 0. 0.]], Quantum object: dims=[[16], [16]], shape=(16, 16), type='oper', dtype=Dense, isherm=True\n",
      "Qobj data =\n",
      "[[0. 0. 0. 0. 0. 0. 0. 1. 0. 0. 0. 0. 0. 0. 0. 0.]\n",
      " [0. 0. 0. 0. 0. 0. 0. 0. 0. 0. 0. 0. 0. 0. 0. 0.]\n",
      " [0. 0. 0. 0. 0. 0. 0. 0. 0. 0. 0. 0. 0. 0. 0. 0.]\n",
      " [0. 0. 0. 0. 1. 0. 0. 0. 0. 0. 0. 0. 0. 0. 0. 0.]\n",
      " [0. 0. 0. 1. 0. 0. 0. 0. 0. 0. 0. 0. 0. 0. 0. 0.]\n",
      " [0. 0. 0. 0. 0. 0. 0. 0. 0. 0. 0. 0. 0. 0. 0. 0.]\n",
      " [0. 0. 0. 0. 0. 0. 0. 0. 0. 0. 0. 0. 0. 0. 0. 0.]\n",
      " [1. 0. 0. 0. 0. 0. 0. 0. 0. 0. 0. 0. 0. 0. 0. 0.]\n",
      " [0. 0. 0. 0. 0. 0. 0. 0. 0. 0. 0. 0. 0. 0. 0. 0.]\n",
      " [0. 0. 0. 0. 0. 0. 0. 0. 0. 0. 0. 0. 0. 0. 0. 0.]\n",
      " [0. 0. 0. 0. 0. 0. 0. 0. 0. 0. 0. 0. 0. 0. 0. 0.]\n",
      " [0. 0. 0. 0. 0. 0. 0. 0. 0. 0. 0. 0. 0. 0. 0. 0.]\n",
      " [0. 0. 0. 0. 0. 0. 0. 0. 0. 0. 0. 0. 0. 0. 0. 0.]\n",
      " [0. 0. 0. 0. 0. 0. 0. 0. 0. 0. 0. 0. 0. 0. 0. 0.]\n",
      " [0. 0. 0. 0. 0. 0. 0. 0. 0. 0. 0. 0. 0. 0. 0. 0.]\n",
      " [0. 0. 0. 0. 0. 0. 0. 0. 0. 0. 0. 0. 0. 0. 0. 0.]]]\n"
     ]
    }
   ],
   "execution_count": 2
  },
  {
   "cell_type": "markdown",
   "metadata": {},
   "source": [
    "## Implementing LS, CS, and CVX\n",
    "\n",
    "For the case of a random density matrix for 3 qubits as the original density matrix (the one we want to reconstruct) created with QuTip $\\rho_{random}$"
   ]
  },
  {
   "cell_type": "code",
   "metadata": {
    "ExecuteTime": {
     "end_time": "2025-05-01T19:00:24.531557Z",
     "start_time": "2025-05-01T19:00:23.228743Z"
    }
   },
   "source": [
    "\n",
    "max_itera: int = 300\n",
    "batch_s = round(0.5*len(ops_jnp)) #len(ops_jnp)=4**N\n",
    "\n",
    "# creating the original densirty matrix, this with a random rho from QuTip\n",
    "rho_or = rand_dm(dims_qudits**number_qudits)\n",
    "data = expect(Measu_ope,rho_or)\n",
    "\n",
    "\n",
    "#LS-QST\n",
    "rho_ls, f_ls, t_ls = least_square_qst(measurement_ops=Measu_ope, basis_set=operator_basis, B=data, dimension=dimension, rho_ideal=rho_or)\n",
    "\n",
    "#CS-QST\n",
    "rho_cs, f_cs, t_cs = compressed_sensing_qst(measurement_ops=Measu_ope, basis_set=operator_basis, B=data, gamma=0, dimension=dimension, rho_ideal=rho_or)\n",
    "\n",
    "rho_cvx, f_cvx, t_cvx = cvx_qst(measurement_ops=Measu_ope, basis_set=operator_basis, B=data, gamma=0, dimension=dimension, rho_ideal=rho_or)\n",
    "\n"
   ],
   "outputs": [],
   "execution_count": 3
  },
  {
   "cell_type": "markdown",
   "metadata": {},
   "source": [
    "In the cases of LS, CS, and CVX we just have a float value with the value of fidelity, the total time of reconstruction and the reconstructed density matrix. "
   ]
  },
  {
   "cell_type": "code",
   "metadata": {
    "ExecuteTime": {
     "end_time": "2025-05-01T19:00:24.620395Z",
     "start_time": "2025-05-01T19:00:24.615193Z"
    }
   },
   "source": [
    "print('Final fidelity (LS) and average time in seconds :', f_ls, t_ls)\n",
    "print('Final fidelity (CS) and average time in seconds :', f_cs, t_cs)\n",
    "print('Final fidelity (CVX) and average time in seconds :', f_cvx, t_cvx)\n"
   ],
   "outputs": [
    {
     "name": "stdout",
     "output_type": "stream",
     "text": [
      "Final fidelity (LS) and average time in seconds : 0.988585432969769 0.23630595207214355\n",
      "Final fidelity (CS) and average time in seconds : 0.985845683361398 0.8197019100189209\n",
      "Final fidelity (CVX) and average time in seconds : 0.9886511371060647 0.23495078086853027\n"
     ]
    }
   ],
   "execution_count": 4
  },
  {
   "cell_type": "code",
   "metadata": {
    "ExecuteTime": {
     "end_time": "2025-05-01T19:00:24.675433Z",
     "start_time": "2025-05-01T19:00:24.667096Z"
    }
   },
   "source": [
    "print(rho_ls)"
   ],
   "outputs": [
    {
     "name": "stdout",
     "output_type": "stream",
     "text": [
      "Quantum object: dims=[[16], [16]], shape=(16, 16), type='oper', dtype=Dense, isherm=True\n",
      "Qobj data =\n",
      "[[ 5.40825050e-02+0.00000000e+00j  1.70867076e-02-6.41160984e-04j\n",
      "  -2.42632345e-03+4.74019148e-04j  9.22145390e-04+5.53496400e-03j\n",
      "  -8.12753906e-03-1.42729931e-02j -5.86477410e-03-8.70304350e-04j\n",
      "   4.98339234e-03-9.56730483e-03j  5.63228719e-06-1.41758129e-02j\n",
      "  -1.12842853e-02+6.08267073e-03j  4.92396548e-03+4.17677869e-05j\n",
      "   8.18383630e-03+2.16479552e-03j -2.67184019e-03-9.89097408e-03j\n",
      "  -8.86323120e-03+1.07003456e-02j -7.27247864e-03-2.02715969e-03j\n",
      "  -3.60516978e-03+4.82577971e-03j -2.11599797e-03-5.54470968e-03j]\n",
      " [ 1.70867076e-02+6.41160984e-04j  9.87193271e-02+0.00000000e+00j\n",
      "  -3.43810038e-03+1.65530580e-02j  1.43055423e-02+8.71608114e-04j\n",
      "   1.06537546e-02-1.01560567e-02j -9.59083958e-03-6.57192200e-03j\n",
      "  -1.06336320e-02-1.92764733e-02j  1.69757872e-02-1.21595355e-02j\n",
      "   4.86031582e-03+1.58866908e-02j  1.15158871e-02-1.41580681e-03j\n",
      "   9.25404447e-03-9.17855361e-03j  1.50632639e-02+6.81558627e-03j\n",
      "  -1.69025554e-02+7.42071832e-03j -3.95067385e-03-1.50362551e-02j\n",
      "  -1.31543189e-02+1.51936090e-02j -8.77675999e-03+3.16906610e-03j]\n",
      " [-2.42632345e-03-4.74019148e-04j -3.43810038e-03-1.65530580e-02j\n",
      "   4.78856434e-02+0.00000000e+00j -1.22876209e-03-8.86601642e-04j\n",
      "   4.67404058e-03+9.91072504e-03j -1.65074474e-03-3.74120221e-03j\n",
      "   1.18830540e-03+4.34963147e-03j -7.31880339e-03+6.96231458e-03j\n",
      "   3.58882622e-03+5.33709646e-03j  8.70736361e-03-1.03077299e-02j\n",
      "   7.11897973e-03-5.92898594e-03j  7.29235629e-03+1.47589227e-04j\n",
      "  -3.61240823e-03-7.11785545e-03j -1.11083803e-02+6.83251161e-03j\n",
      "  -1.57331778e-03+7.52919193e-03j -2.15424227e-03-5.00024518e-03j]\n",
      " [ 9.22145390e-04-5.53496400e-03j  1.43055423e-02-8.71608114e-04j\n",
      "  -1.22876209e-03+8.86601642e-04j  4.54405698e-02+0.00000000e+00j\n",
      "  -3.26380630e-03-1.19200662e-02j  6.55134932e-03-2.09271991e-04j\n",
      "  -3.85390828e-03-1.41610242e-02j -2.78173868e-03+1.95156355e-02j\n",
      "  -1.84301166e-02-1.61072942e-03j  5.39285238e-03-9.82158658e-03j\n",
      "   1.61008251e-02-2.01878481e-02j  1.47477022e-03+7.78539927e-03j\n",
      "   6.49741452e-03-1.33954745e-03j  5.06811556e-03-6.68381668e-03j\n",
      "  -1.29044300e-02-6.06234603e-03j  2.25496563e-03+9.47465178e-03j]\n",
      " [-8.12753906e-03+1.42729931e-02j  1.06537546e-02+1.01560567e-02j\n",
      "   4.67404058e-03-9.91072504e-03j -3.26380630e-03+1.19200662e-02j\n",
      "   5.34640309e-02+0.00000000e+00j -1.72263051e-04-3.23765086e-03j\n",
      "  -2.01508998e-03-2.13493241e-02j -7.40660650e-03+6.77864852e-03j\n",
      "   8.53030420e-03+1.35665898e-03j  6.75664447e-03+3.78500499e-03j\n",
      "   1.99089911e-02-1.49028135e-03j  1.73411290e-02-9.72204324e-04j\n",
      "   1.23041215e-03-8.68108775e-03j -6.96305989e-03+1.26308312e-02j\n",
      "   3.96895973e-03+3.31940368e-03j  1.72924143e-02+6.05249229e-04j]\n",
      " [-5.86477410e-03+8.70304350e-04j -9.59083958e-03+6.57192200e-03j\n",
      "  -1.65074474e-03+3.74120221e-03j  6.55134932e-03+2.09271991e-04j\n",
      "  -1.72263051e-04+3.23765086e-03j  6.14195089e-02+0.00000000e+00j\n",
      "  -1.90220839e-02-6.59964624e-03j  4.52086760e-03+1.15250165e-02j\n",
      "  -1.31548373e-02+2.02593809e-02j -1.17239210e-02-2.59049731e-02j\n",
      "   6.17548628e-03+2.40531545e-02j -1.90917193e-02-2.95978558e-03j\n",
      "  -3.57947955e-03-1.41250319e-03j -6.80299372e-03+4.10122379e-03j\n",
      "   2.90863482e-03-3.20316893e-02j -4.00851449e-03+6.88365480e-03j]\n",
      " [ 4.98339234e-03+9.56730483e-03j -1.06336320e-02+1.92764733e-02j\n",
      "   1.18830540e-03-4.34963147e-03j -3.85390828e-03+1.41610242e-02j\n",
      "  -2.01508998e-03+2.13493241e-02j -1.90220839e-02+6.59964624e-03j\n",
      "   7.21063608e-02+0.00000000e+00j  2.44261039e-03-1.63662219e-02j\n",
      "  -1.79155350e-02-1.37708500e-02j  1.00884576e-02+1.70277474e-02j\n",
      "   6.53246095e-03+1.73389052e-02j  6.63445085e-05+1.17248489e-02j\n",
      "  -1.00425491e-02-3.27849699e-03j -1.98633766e-03-8.43492834e-03j\n",
      "   9.28151831e-03-5.43636207e-03j -1.71060625e-02+1.60496242e-02j]\n",
      " [ 5.63228719e-06+1.41758129e-02j  1.69757872e-02+1.21595355e-02j\n",
      "  -7.31880339e-03-6.96231458e-03j -2.78173868e-03-1.95156355e-02j\n",
      "  -7.40660650e-03-6.77864852e-03j  4.52086760e-03-1.15250165e-02j\n",
      "   2.44261039e-03+1.63662219e-02j  5.84140804e-02+0.00000000e+00j\n",
      "  -9.43410054e-03+1.79995127e-02j -7.35288001e-03-3.33694899e-03j\n",
      "  -8.42427920e-03+1.64616087e-04j -1.57045647e-03+5.44614315e-03j\n",
      "  -3.02678896e-03-7.25991973e-03j  4.13432514e-03-1.59644450e-02j\n",
      "  -9.95019559e-03+5.34397544e-05j -2.35722312e-02-6.48264764e-03j]\n",
      " [-1.12842853e-02-6.08267073e-03j  4.86031582e-03-1.58866908e-02j\n",
      "   3.58882622e-03-5.33709646e-03j -1.84301166e-02+1.61072942e-03j\n",
      "   8.53030420e-03-1.35665898e-03j -1.31548373e-02-2.02593809e-02j\n",
      "  -1.79155350e-02+1.37708500e-02j -9.43410054e-03-1.79995127e-02j\n",
      "   6.36312310e-02+0.00000000e+00j -2.05460516e-02+1.61043370e-02j\n",
      "   2.29729759e-03-8.69756004e-03j  6.86540562e-03+9.68269459e-03j\n",
      "  -1.25800061e-02+2.81119308e-03j  3.12886642e-03+6.40015382e-03j\n",
      "  -5.20411268e-04+4.90395113e-03j  1.58699732e-02+1.85152616e-02j]\n",
      " [ 4.92396548e-03-4.17677869e-05j  1.15158871e-02+1.41580681e-03j\n",
      "   8.70736361e-03+1.03077299e-02j  5.39285238e-03+9.82158658e-03j\n",
      "   6.75664447e-03-3.78500499e-03j -1.17239210e-02+2.59049731e-02j\n",
      "   1.00884576e-02-1.70277474e-02j -7.35288001e-03+3.33694899e-03j\n",
      "  -2.05460516e-02-1.61043370e-02j  5.76959670e-02+0.00000000e+00j\n",
      "  -1.67708820e-03-1.04415914e-02j  2.88786953e-03-2.28632753e-02j\n",
      "  -2.59810143e-03-2.85194788e-03j -1.51689653e-02-3.66174570e-04j\n",
      "   2.90701060e-03+1.43246989e-03j -3.32953311e-03-2.51851171e-02j]\n",
      " [ 8.18383630e-03-2.16479552e-03j  9.25404447e-03+9.17855361e-03j\n",
      "   7.11897973e-03+5.92898594e-03j  1.61008251e-02+2.01878481e-02j\n",
      "   1.99089911e-02+1.49028135e-03j  6.17548628e-03-2.40531545e-02j\n",
      "   6.53246095e-03-1.73389052e-02j -8.42427920e-03-1.64616087e-04j\n",
      "   2.29729759e-03+8.69756004e-03j -1.67708820e-03+1.04415914e-02j\n",
      "   6.37156746e-02+0.00000000e+00j  9.25556084e-03+9.00164792e-03j\n",
      "   2.86256530e-03+9.17748079e-04j -5.26845603e-04+3.60551918e-03j\n",
      "  -1.72966648e-02-2.73574267e-03j -3.53224389e-03+8.21002824e-03j]\n",
      " [-2.67184019e-03+9.89097408e-03j  1.50632639e-02-6.81558627e-03j\n",
      "   7.29235629e-03-1.47589227e-04j  1.47477022e-03-7.78539927e-03j\n",
      "   1.73411290e-02+9.72204324e-04j -1.90917193e-02+2.95978558e-03j\n",
      "   6.63445085e-05-1.17248489e-02j -1.57045647e-03-5.44614315e-03j\n",
      "   6.86540562e-03-9.68269459e-03j  2.88786953e-03+2.28632753e-02j\n",
      "   9.25556084e-03-9.00164792e-03j  7.18194962e-02+0.00000000e+00j\n",
      "  -6.74609131e-03-1.08192276e-02j -1.37708183e-02-1.16247252e-02j\n",
      "  -2.64823115e-02+1.46426986e-02j  2.02637703e-02-5.08289395e-03j]\n",
      " [-8.86323120e-03-1.07003456e-02j -1.69025554e-02-7.42071832e-03j\n",
      "  -3.61240823e-03+7.11785545e-03j  6.49741452e-03+1.33954745e-03j\n",
      "   1.23041215e-03+8.68108775e-03j -3.57947955e-03+1.41250319e-03j\n",
      "  -1.00425491e-02+3.27849699e-03j -3.02678896e-03+7.25991973e-03j\n",
      "  -1.25800061e-02-2.81119308e-03j -2.59810143e-03+2.85194788e-03j\n",
      "   2.86256530e-03-9.17748079e-04j -6.74609131e-03+1.08192276e-02j\n",
      "   5.13941632e-02+0.00000000e+00j  7.57848192e-03-3.41072167e-03j\n",
      "   1.48268699e-03+9.54487271e-03j  1.14153334e-02-8.29416028e-03j]\n",
      " [-7.27247864e-03+2.02715969e-03j -3.95067385e-03+1.50362551e-02j\n",
      "  -1.11083803e-02-6.83251161e-03j  5.06811556e-03+6.68381668e-03j\n",
      "  -6.96305989e-03-1.26308312e-02j -6.80299372e-03-4.10122379e-03j\n",
      "  -1.98633766e-03+8.43492834e-03j  4.13432514e-03+1.59644450e-02j\n",
      "   3.12886642e-03-6.40015382e-03j -1.51689653e-02+3.66174570e-04j\n",
      "  -5.26845603e-04-3.60551918e-03j -1.37708183e-02+1.16247252e-02j\n",
      "   7.57848192e-03+3.41072167e-03j  4.32847227e-02+0.00000000e+00j\n",
      "   8.02343258e-03-5.64833738e-03j -1.39664549e-02-4.16298753e-03j]\n",
      " [-3.60516978e-03-4.82577971e-03j -1.31543189e-02-1.51936090e-02j\n",
      "  -1.57331778e-03-7.52919193e-03j -1.29044300e-02+6.06234603e-03j\n",
      "   3.96895973e-03-3.31940368e-03j  2.90863482e-03+3.20316893e-02j\n",
      "   9.28151831e-03+5.43636207e-03j -9.95019559e-03-5.34397544e-05j\n",
      "  -5.20411268e-04-4.90395113e-03j  2.90701060e-03-1.43246989e-03j\n",
      "  -1.72966648e-02+2.73574267e-03j -2.64823115e-02-1.46426986e-02j\n",
      "   1.48268699e-03-9.54487271e-03j  8.02343258e-03+5.64833738e-03j\n",
      "   7.81784218e-02+0.00000000e+00j -1.58726819e-02+8.65535796e-04j]\n",
      " [-2.11599797e-03+5.54470968e-03j -8.77675999e-03-3.16906610e-03j\n",
      "  -2.15424227e-03+5.00024518e-03j  2.25496563e-03-9.47465178e-03j\n",
      "   1.72924143e-02-6.05249229e-04j -4.00851449e-03-6.88365480e-03j\n",
      "  -1.71060625e-02-1.60496242e-02j -2.35722312e-02+6.48264764e-03j\n",
      "   1.58699732e-02-1.85152616e-02j -3.32953311e-03+2.51851171e-02j\n",
      "  -3.53224389e-03-8.21002824e-03j  2.02637703e-02+5.08289395e-03j\n",
      "   1.14153334e-02+8.29416028e-03j -1.39664549e-02+4.16298753e-03j\n",
      "  -1.58726819e-02-8.65535796e-04j  7.87482971e-02+0.00000000e+00j]]\n"
     ]
    }
   ],
   "execution_count": 5
  },
  {
   "cell_type": "code",
   "metadata": {
    "jupyter": {
     "is_executing": true
    },
    "ExecuteTime": {
     "start_time": "2025-05-01T19:00:24.727385Z"
    }
   },
   "source": [
    "# Get the density matrix as numpy array\n",
    "rho_matrix = rho_ls.full()\n",
    "\n",
    "# Create figure with two subplots side by side\n",
    "fig, (ax1, ax2) = plt.subplots(1, 2, figsize=(15, 6))\n",
    "\n",
    "# Plot absolute values\n",
    "im1 = ax1.imshow(np.abs(rho_matrix), cmap='viridis')\n",
    "ax1.set_title('Absolute Values')\n",
    "ax1.set_xlabel('Column Index')\n",
    "ax1.set_ylabel('Row Index')\n",
    "plt.colorbar(im1, ax=ax1)\n",
    "\n",
    "# Plot real and imaginary parts\n",
    "im2 = ax2.imshow(np.real(rho_matrix), cmap='RdBu_r')\n",
    "ax2.set_title('Real Part')\n",
    "ax2.set_xlabel('Column Index')\n",
    "ax2.set_ylabel('Row Index')\n",
    "plt.colorbar(im2, ax=ax2)\n",
    "\n",
    "plt.tight_layout()\n",
    "plt.show()\n",
    "\n",
    "# Create another figure for imaginary part\n",
    "plt.figure(figsize=(8, 6))\n",
    "im3 = plt.imshow(np.imag(rho_matrix), cmap='RdBu_r')\n",
    "plt.title('Imaginary Part')\n",
    "plt.xlabel('Column Index')\n",
    "plt.ylabel('Row Index')\n",
    "plt.colorbar(im3)\n",
    "plt.show()"
   ],
   "outputs": [
    {
     "data": {
      "text/plain": [
       "<Figure size 1500x600 with 4 Axes>"
      ],
      "image/png": "[encoded data removed]"
     },
     "metadata": {},
     "output_type": "display_data"
    }
   ],
   "execution_count": null
  }
 ],
 "metadata": {
  "kernelspec": {
   "display_name": "Python 3 (ipykernel)",
   "language": "python",
   "name": "python3"
  },
  "language_info": {
   "codemirror_mode": {
    "name": "ipython",
    "version": 3
   },
   "file_extension": ".py",
   "mimetype": "text/x-python",
   "name": "python",
   "nbconvert_exporter": "python",
   "pygments_lexer": "ipython3",
   "version": "3.10.13"
  }
 },
 "nbformat": 4,
 "nbformat_minor": 4
}
