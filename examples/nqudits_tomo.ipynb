{
 "cells": [
  {
   "cell_type": "markdown",
   "metadata": {},
   "source": "# Quantum state tomography (QST) with LS"
  },
  {
   "cell_type": "markdown",
   "metadata": {},
   "source": []
  },
  {
   "cell_type": "code",
   "metadata": {
    "ExecuteTime": {
     "end_time": "2025-05-11T04:25:54.579201Z",
     "start_time": "2025-05-11T04:25:51.384328Z"
    }
   },
   "source": [
    "# To call the libraries for the GD-QST\n",
    "import sys\n",
    "sys.path.insert(0, '..')\n",
    "# You have to change the path of the library\n",
    "\n",
    "from qutip import * \n",
    "from itertools import *\n",
    "import jax.numpy as jnp\n",
    "import numpy as np\n",
    "import matplotlib.pyplot as plt\n",
    "#from qutip import basis, tensor\n",
    "\n",
    "from qst_tec.least_square import least_square_qst\n",
    "from qst_tec.compressed_sensing import compressed_sensing_qst\n",
    "from qst_tec.convex_optimization_cvx import cvx_qst\n"
   ],
   "outputs": [],
   "execution_count": 1
  },
  {
   "cell_type": "markdown",
   "metadata": {},
   "source": "### First we will define the number of qudits, the dimension d, and the measurement operators. We will use the Gell-mann matrices.\n"
  },
  {
   "cell_type": "code",
   "metadata": {
    "scrolled": true,
    "ExecuteTime": {
     "end_time": "2025-05-11T04:25:54.740893Z",
     "start_time": "2025-05-11T04:25:54.590807Z"
    }
   },
   "source": [
    "number_qudits: int = 2\n",
    "dims_qudits: int = 4\n",
    "dimension: int = dims_qudits**number_qudits\n",
    "HS: int = dimension\n",
    "\n",
    "# Creating the Measurement operators (Pauli matrices)\n",
    "\n",
    "# computation basis, important for the other methods\n",
    "def qubit_computation_basis(n,d):\n",
    "    basis_states = [basis(d, i) for i in range(d)]\n",
    "    return [tensor(*state) for state in product(basis_states, repeat=n)]\n",
    "\n",
    "computation_basis = qubit_computation_basis(number_qudits, dims_qudits)\n",
    "\n",
    "operator_basis = [Qobj(tensor(computation_basis[i],computation_basis[j].dag()), \n",
    "                dims=([[dimension], [dimension]])) for i in range(len(computation_basis)) for j in range(len(computation_basis))]\n",
    "\n",
    "\n",
    "def gellmann_matrices(d):\n",
    "    matrices = []\n",
    "\n",
    "    # Off-diagonal symmetric matrices: E_ij + E_ji, for 0 <= i < j < d\n",
    "    for i in range(d):\n",
    "        for j in range(i+1, d):\n",
    "            mat = np.zeros((d, d), dtype=complex)\n",
    "            mat[i, j] = 1\n",
    "            mat[j, i] = 1\n",
    "            matrices.append(mat)\n",
    "\n",
    "    # Off-diagonal antisymmetric matrices: -i(E_ij - E_ji)\n",
    "    for i in range(d):\n",
    "        for j in range(i+1, d):\n",
    "            mat = np.zeros((d, d), dtype=complex)\n",
    "            mat[i, j] = -1j\n",
    "            mat[j, i] = 1j\n",
    "            matrices.append(mat)\n",
    "\n",
    "    # Diagonal matrices\n",
    "    for k in range(1, d):\n",
    "        mat = np.zeros((d, d), dtype=complex)\n",
    "        coeff = np.sqrt(2 / (k * (k + 1)))\n",
    "        for i in range(k):\n",
    "            mat[i, i] = 1\n",
    "        mat[k, k] = -k\n",
    "        matrices.append(coeff * mat)\n",
    "\n",
    "    return matrices\n",
    "\n",
    "identity_op = qeye(dims_qudits)\n",
    "gellmann = [identity_op]+gellmann_matrices(dims_qudits)\n",
    "gellmann_objs = [Qobj(mat, dims=([[dims_qudits], [dims_qudits]])) for mat in gellmann]\n",
    "\n",
    "gellmann_sys = [tensor(*op) for op in product(gellmann_objs, repeat=number_qudits)] # using itertools\n",
    "\n",
    "Measu_ope = [Qobj(gellmann_sys[i], dims=([[dimension], [dimension]])) for i in range(len(gellmann_sys))]\n",
    "\n",
    "print(Measu_ope[1:3])\n",
    "\n",
    "\n",
    "#-----------------------------------------------------------------------\n",
    "# It is necesary to transform the measurement operators from a numpy \n",
    "# type to a jax type (jax.np), that because of the jax grad \n",
    "\n",
    "ops_np = [op.full() for op in Measu_ope] # transforming from qutip object to numpy\n",
    "ops_jnp = jnp.asarray(ops_np) # transforming from numpy to jax.np"
   ],
   "outputs": [
    {
     "name": "stdout",
     "output_type": "stream",
     "text": [
      "[Quantum object: dims=[[16], [16]], shape=(16, 16), type='oper', dtype=Dense, isherm=True\n",
      "Qobj data =\n",
      "[[0. 1. 0. 0. 0. 0. 0. 0. 0. 0. 0. 0. 0. 0. 0. 0.]\n",
      " [1. 0. 0. 0. 0. 0. 0. 0. 0. 0. 0. 0. 0. 0. 0. 0.]\n",
      " [0. 0. 0. 0. 0. 0. 0. 0. 0. 0. 0. 0. 0. 0. 0. 0.]\n",
      " [0. 0. 0. 0. 0. 0. 0. 0. 0. 0. 0. 0. 0. 0. 0. 0.]\n",
      " [0. 0. 0. 0. 0. 1. 0. 0. 0. 0. 0. 0. 0. 0. 0. 0.]\n",
      " [0. 0. 0. 0. 1. 0. 0. 0. 0. 0. 0. 0. 0. 0. 0. 0.]\n",
      " [0. 0. 0. 0. 0. 0. 0. 0. 0. 0. 0. 0. 0. 0. 0. 0.]\n",
      " [0. 0. 0. 0. 0. 0. 0. 0. 0. 0. 0. 0. 0. 0. 0. 0.]\n",
      " [0. 0. 0. 0. 0. 0. 0. 0. 0. 1. 0. 0. 0. 0. 0. 0.]\n",
      " [0. 0. 0. 0. 0. 0. 0. 0. 1. 0. 0. 0. 0. 0. 0. 0.]\n",
      " [0. 0. 0. 0. 0. 0. 0. 0. 0. 0. 0. 0. 0. 0. 0. 0.]\n",
      " [0. 0. 0. 0. 0. 0. 0. 0. 0. 0. 0. 0. 0. 0. 0. 0.]\n",
      " [0. 0. 0. 0. 0. 0. 0. 0. 0. 0. 0. 0. 0. 1. 0. 0.]\n",
      " [0. 0. 0. 0. 0. 0. 0. 0. 0. 0. 0. 0. 1. 0. 0. 0.]\n",
      " [0. 0. 0. 0. 0. 0. 0. 0. 0. 0. 0. 0. 0. 0. 0. 0.]\n",
      " [0. 0. 0. 0. 0. 0. 0. 0. 0. 0. 0. 0. 0. 0. 0. 0.]], Quantum object: dims=[[16], [16]], shape=(16, 16), type='oper', dtype=Dense, isherm=True\n",
      "Qobj data =\n",
      "[[0. 0. 1. 0. 0. 0. 0. 0. 0. 0. 0. 0. 0. 0. 0. 0.]\n",
      " [0. 0. 0. 0. 0. 0. 0. 0. 0. 0. 0. 0. 0. 0. 0. 0.]\n",
      " [1. 0. 0. 0. 0. 0. 0. 0. 0. 0. 0. 0. 0. 0. 0. 0.]\n",
      " [0. 0. 0. 0. 0. 0. 0. 0. 0. 0. 0. 0. 0. 0. 0. 0.]\n",
      " [0. 0. 0. 0. 0. 0. 1. 0. 0. 0. 0. 0. 0. 0. 0. 0.]\n",
      " [0. 0. 0. 0. 0. 0. 0. 0. 0. 0. 0. 0. 0. 0. 0. 0.]\n",
      " [0. 0. 0. 0. 1. 0. 0. 0. 0. 0. 0. 0. 0. 0. 0. 0.]\n",
      " [0. 0. 0. 0. 0. 0. 0. 0. 0. 0. 0. 0. 0. 0. 0. 0.]\n",
      " [0. 0. 0. 0. 0. 0. 0. 0. 0. 0. 1. 0. 0. 0. 0. 0.]\n",
      " [0. 0. 0. 0. 0. 0. 0. 0. 0. 0. 0. 0. 0. 0. 0. 0.]\n",
      " [0. 0. 0. 0. 0. 0. 0. 0. 1. 0. 0. 0. 0. 0. 0. 0.]\n",
      " [0. 0. 0. 0. 0. 0. 0. 0. 0. 0. 0. 0. 0. 0. 0. 0.]\n",
      " [0. 0. 0. 0. 0. 0. 0. 0. 0. 0. 0. 0. 0. 0. 1. 0.]\n",
      " [0. 0. 0. 0. 0. 0. 0. 0. 0. 0. 0. 0. 0. 0. 0. 0.]\n",
      " [0. 0. 0. 0. 0. 0. 0. 0. 0. 0. 0. 0. 1. 0. 0. 0.]\n",
      " [0. 0. 0. 0. 0. 0. 0. 0. 0. 0. 0. 0. 0. 0. 0. 0.]]]\n"
     ]
    }
   ],
   "execution_count": 2
  },
  {
   "metadata": {},
   "cell_type": "markdown",
   "source": [
    "## Explicit Measurement for dimension=4\n",
    "\n",
    "for the general case, it is no easy to calculate the MUB"
   ]
  },
  {
   "metadata": {
    "ExecuteTime": {
     "end_time": "2025-05-11T04:25:54.855499Z",
     "start_time": "2025-05-11T04:25:54.830774Z"
    }
   },
   "cell_type": "code",
   "source": [
    "\n",
    "# Basic computational basis states\n",
    "EE = basis(4, 0)  # |1000⟩\n",
    "SS = basis(4, 1)  # |0100⟩\n",
    "WW = basis(4, 2)  # |0010⟩\n",
    "NN = basis(4, 3)  # |0001⟩\n",
    "\n",
    "# Superposition states with 1/√2 factor\n",
    "ES = (basis(4, 0) + basis(4, 1))/np.sqrt(2)          # (|1000⟩ + |0100⟩)/√2\n",
    "SE = (basis(4, 0) + 1j*basis(4, 1))/np.sqrt(2)       # (|1000⟩ + i|0100⟩)/√2\n",
    "EW = (basis(4, 0) + basis(4, 2))/np.sqrt(2)          # (|1000⟩ + |0010⟩)/√2\n",
    "WE = (basis(4, 0) + 1j*basis(4, 2))/np.sqrt(2)       # (|1000⟩ + i|0010⟩)/√2\n",
    "SW = (basis(4, 1) + basis(4, 2))/np.sqrt(2)          # (|0100⟩ + |0010⟩)/√2\n",
    "WS = (basis(4, 1) + 1j*basis(4, 2))/np.sqrt(2)       # (|0100⟩ + i|0010⟩)/√2\n",
    "EN = (basis(4, 0) + basis(4, 3))/np.sqrt(2)          # (|1000⟩ + |0001⟩)/√2\n",
    "NE = (basis(4, 0) + 1j*basis(4, 3))/np.sqrt(2)       # (|1000⟩ + i|0001⟩)/√2\n",
    "SN = (basis(4, 1) + basis(4, 3))/np.sqrt(2)          # (|0100⟩ + |0001⟩)/√2\n",
    "NS = (basis(4, 1) + 1j*basis(4, 3))/np.sqrt(2)       # (|0100⟩ + i|0001⟩)/√2\n",
    "WN = (basis(4, 2) + basis(4, 3))/np.sqrt(2)          # (|0010⟩ + |0001⟩)/√2\n",
    "NW = (basis(4, 2) + 1j*basis(4, 3))/np.sqrt(2)       # (|0010⟩ + i|0001⟩)/√2\n",
    "states_sets= [EE, SS, WW, NN, ES, SE, EW, WE, SW, WS, EN, NE, SN, NS, WN, NW]\n",
    "projections_sets= [tensor(*state) for state in product(states_sets, repeat=2)]\n",
    "\n",
    "Measu_ope = [Qobj(tensor(projections_sets[i],projections_sets[i].dag()),\n",
    "                dims=([[dimension], [dimension]])) for i in range(len(projections_sets)) ]\n",
    "\n",
    "\n",
    "print(Measu_ope[1:3])\n",
    "\n",
    "\n",
    "#-----------------------------------------------------------------------\n",
    "# It is necesary to transform the measurement operators from a numpy\n",
    "# type to a jax type (jax.np), that because of the jax grad\n",
    "\n",
    "ops_np = [op.full() for op in Measu_ope] # transforming from qutip object to numpy\n",
    "ops_jnp = jnp.asarray(ops_np) # transforming from numpy to jax.np"
   ],
   "outputs": [
    {
     "name": "stdout",
     "output_type": "stream",
     "text": [
      "[Quantum object: dims=[[16], [16]], shape=(16, 16), type='oper', dtype=Dense, isherm=True\n",
      "Qobj data =\n",
      "[[0. 0. 0. 0. 0. 0. 0. 0. 0. 0. 0. 0. 0. 0. 0. 0.]\n",
      " [0. 1. 0. 0. 0. 0. 0. 0. 0. 0. 0. 0. 0. 0. 0. 0.]\n",
      " [0. 0. 0. 0. 0. 0. 0. 0. 0. 0. 0. 0. 0. 0. 0. 0.]\n",
      " [0. 0. 0. 0. 0. 0. 0. 0. 0. 0. 0. 0. 0. 0. 0. 0.]\n",
      " [0. 0. 0. 0. 0. 0. 0. 0. 0. 0. 0. 0. 0. 0. 0. 0.]\n",
      " [0. 0. 0. 0. 0. 0. 0. 0. 0. 0. 0. 0. 0. 0. 0. 0.]\n",
      " [0. 0. 0. 0. 0. 0. 0. 0. 0. 0. 0. 0. 0. 0. 0. 0.]\n",
      " [0. 0. 0. 0. 0. 0. 0. 0. 0. 0. 0. 0. 0. 0. 0. 0.]\n",
      " [0. 0. 0. 0. 0. 0. 0. 0. 0. 0. 0. 0. 0. 0. 0. 0.]\n",
      " [0. 0. 0. 0. 0. 0. 0. 0. 0. 0. 0. 0. 0. 0. 0. 0.]\n",
      " [0. 0. 0. 0. 0. 0. 0. 0. 0. 0. 0. 0. 0. 0. 0. 0.]\n",
      " [0. 0. 0. 0. 0. 0. 0. 0. 0. 0. 0. 0. 0. 0. 0. 0.]\n",
      " [0. 0. 0. 0. 0. 0. 0. 0. 0. 0. 0. 0. 0. 0. 0. 0.]\n",
      " [0. 0. 0. 0. 0. 0. 0. 0. 0. 0. 0. 0. 0. 0. 0. 0.]\n",
      " [0. 0. 0. 0. 0. 0. 0. 0. 0. 0. 0. 0. 0. 0. 0. 0.]\n",
      " [0. 0. 0. 0. 0. 0. 0. 0. 0. 0. 0. 0. 0. 0. 0. 0.]], Quantum object: dims=[[16], [16]], shape=(16, 16), type='oper', dtype=Dense, isherm=True\n",
      "Qobj data =\n",
      "[[0. 0. 0. 0. 0. 0. 0. 0. 0. 0. 0. 0. 0. 0. 0. 0.]\n",
      " [0. 0. 0. 0. 0. 0. 0. 0. 0. 0. 0. 0. 0. 0. 0. 0.]\n",
      " [0. 0. 1. 0. 0. 0. 0. 0. 0. 0. 0. 0. 0. 0. 0. 0.]\n",
      " [0. 0. 0. 0. 0. 0. 0. 0. 0. 0. 0. 0. 0. 0. 0. 0.]\n",
      " [0. 0. 0. 0. 0. 0. 0. 0. 0. 0. 0. 0. 0. 0. 0. 0.]\n",
      " [0. 0. 0. 0. 0. 0. 0. 0. 0. 0. 0. 0. 0. 0. 0. 0.]\n",
      " [0. 0. 0. 0. 0. 0. 0. 0. 0. 0. 0. 0. 0. 0. 0. 0.]\n",
      " [0. 0. 0. 0. 0. 0. 0. 0. 0. 0. 0. 0. 0. 0. 0. 0.]\n",
      " [0. 0. 0. 0. 0. 0. 0. 0. 0. 0. 0. 0. 0. 0. 0. 0.]\n",
      " [0. 0. 0. 0. 0. 0. 0. 0. 0. 0. 0. 0. 0. 0. 0. 0.]\n",
      " [0. 0. 0. 0. 0. 0. 0. 0. 0. 0. 0. 0. 0. 0. 0. 0.]\n",
      " [0. 0. 0. 0. 0. 0. 0. 0. 0. 0. 0. 0. 0. 0. 0. 0.]\n",
      " [0. 0. 0. 0. 0. 0. 0. 0. 0. 0. 0. 0. 0. 0. 0. 0.]\n",
      " [0. 0. 0. 0. 0. 0. 0. 0. 0. 0. 0. 0. 0. 0. 0. 0.]\n",
      " [0. 0. 0. 0. 0. 0. 0. 0. 0. 0. 0. 0. 0. 0. 0. 0.]\n",
      " [0. 0. 0. 0. 0. 0. 0. 0. 0. 0. 0. 0. 0. 0. 0. 0.]]]\n"
     ]
    }
   ],
   "execution_count": 3
  },
  {
   "metadata": {},
   "cell_type": "markdown",
   "source": [
    "## Implementing LS, CS, and CVX\n",
    "\n",
    "For the case of a random density matrix for 3 qubits as the original density matrix (the one we want to reconstruct) created with QuTip $\\rho_{random}$"
   ]
  },
  {
   "metadata": {
    "ExecuteTime": {
     "end_time": "2025-05-11T04:25:57.036816Z",
     "start_time": "2025-05-11T04:25:54.889308Z"
    }
   },
   "cell_type": "code",
   "source": [
    "\n",
    "max_itera: int = 100\n",
    "batch_s = round(0.5*len(ops_jnp)) #len(ops_jnp)=4**N\n",
    "\n",
    "# creating the original densirty matrix, this with a random rho from QuTip\n",
    "rho_or = rand_dm(dims_qudits**number_qudits)\n",
    "poisson_photon_numbers=1000;\n",
    "data = expect(Measu_ope,rho_or)\n",
    "\n",
    "\n",
    "#LS-QST\n",
    "rho_ls, f_ls, t_ls = least_square_qst(measurement_ops=Measu_ope, basis_set=operator_basis, B=data, dimension=dimension, rho_ideal=rho_or)\n",
    "\n",
    "#CS-QST\n",
    "rho_cs, f_cs, t_cs = compressed_sensing_qst(measurement_ops=Measu_ope, basis_set=operator_basis, B=data, gamma=0, dimension=dimension, rho_ideal=rho_or)\n",
    "\n",
    "rho_cvx, f_cvx, t_cvx = cvx_qst(measurement_ops=Measu_ope, basis_set=operator_basis, B=data, gamma=0, dimension=dimension, rho_ideal=rho_or)\n",
    "\n"
   ],
   "outputs": [],
   "execution_count": 4
  },
  {
   "metadata": {
    "ExecuteTime": {
     "end_time": "2025-05-11T04:25:57.113828Z",
     "start_time": "2025-05-11T04:25:57.101165Z"
    }
   },
   "cell_type": "code",
   "source": [
    "print('Final fidelity (LS) and average time in seconds :', f_ls, t_ls)\n",
    "print('Final fidelity (CS) and average time in seconds :', f_cs, t_cs)\n",
    "print('Final fidelity (CVX) and average time in seconds :', f_cvx, t_cvx)\n"
   ],
   "outputs": [
    {
     "name": "stdout",
     "output_type": "stream",
     "text": [
      "Final fidelity (LS) and average time in seconds : 0.9999998967929913 0.2736968994140625\n",
      "Final fidelity (CS) and average time in seconds : 0.9999984642114939 1.5318450927734375\n",
      "Final fidelity (CVX) and average time in seconds : 0.9999989131719403 0.3001289367675781\n"
     ]
    }
   ],
   "execution_count": 5
  },
  {
   "metadata": {
    "ExecuteTime": {
     "end_time": "2025-05-11T04:25:57.163143Z",
     "start_time": "2025-05-11T04:25:57.157167Z"
    }
   },
   "cell_type": "code",
   "source": "print(rho_ls)",
   "outputs": [
    {
     "name": "stdout",
     "output_type": "stream",
     "text": [
      "Quantum object: dims=[[16], [16]], shape=(16, 16), type='oper', dtype=Dense, isherm=True\n",
      "Qobj data =\n",
      "[[ 5.49662170e-02+0.00000000e+00j -2.49948321e-03-2.97789472e-03j\n",
      "  -2.93512894e-03-1.44678294e-02j  7.42275830e-03+1.53980920e-02j\n",
      "  -3.33514840e-03+4.47802944e-03j -1.16921817e-02-6.77432258e-03j\n",
      "  -9.88101712e-03-1.19822403e-02j -1.24214371e-02+1.77046033e-02j\n",
      "   1.10053816e-02-3.88439659e-03j  3.26794804e-03+1.72206709e-03j\n",
      "   1.30323134e-02+7.01382204e-03j  1.24463213e-02+1.58271597e-02j\n",
      "  -3.97667982e-03+4.89158764e-03j -1.64847775e-02-1.29972936e-02j\n",
      "   1.08051145e-02-1.08639430e-02j  5.75764782e-03+1.15525673e-02j]\n",
      " [-2.49948321e-03+2.97789472e-03j  3.59650750e-02+0.00000000e+00j\n",
      "   4.50952933e-03-3.34546272e-03j -1.28562040e-02-5.61759844e-03j\n",
      "  -8.77291388e-03-2.86486611e-04j  2.82672814e-03-1.02831246e-03j\n",
      "   1.28704936e-02-1.21689164e-02j -3.21939277e-03-8.83137755e-03j\n",
      "  -1.28243820e-02+1.25575681e-03j -4.11667350e-03+5.06551583e-03j\n",
      "  -1.49923817e-03+1.08837684e-02j  4.86272290e-03+9.88916925e-03j\n",
      "   1.05719701e-02-8.89755997e-04j -1.29214485e-02+2.56580484e-03j\n",
      "   4.75329182e-03-2.64769002e-05j  8.18672112e-03+1.18308325e-02j]\n",
      " [-2.93512894e-03+1.44678294e-02j  4.50952933e-03+3.34546272e-03j\n",
      "   3.64471295e-02+0.00000000e+00j -2.03537121e-04-1.23783540e-02j\n",
      "  -1.06653033e-02+1.33527932e-03j -1.32723133e-02+2.43291451e-04j\n",
      "   2.51783983e-02+1.31719317e-03j  9.35741848e-03+6.67626426e-03j\n",
      "   1.06325656e-04+2.53904262e-03j  8.63213787e-03-3.56377364e-03j\n",
      "  -6.42336638e-03+6.00709558e-03j -2.24964579e-02+2.68281685e-03j\n",
      "   4.24580538e-03-1.60097263e-02j -1.58475572e-03+2.62350200e-03j\n",
      "   3.22834238e-03+1.34619267e-02j -7.90067183e-03-7.97704377e-03j]\n",
      " [ 7.42275830e-03-1.53980920e-02j -1.28562040e-02+5.61759844e-03j\n",
      "  -2.03537121e-04+1.23783540e-02j  1.01646331e-01+0.00000000e+00j\n",
      "  -9.48574285e-03-2.40174154e-03j  2.54892383e-02+4.55016873e-03j\n",
      "  -5.61174366e-03+1.58499310e-02j  9.14550998e-03+2.04843046e-02j\n",
      "   5.06950685e-03-2.52390097e-03j -7.27910682e-03+4.78642975e-03j\n",
      "  -2.08305019e-03-9.62342855e-04j -8.68884028e-03-1.09600968e-02j\n",
      "   4.91843200e-03-2.39318675e-02j -2.33388939e-02+9.37893712e-03j\n",
      "   1.26068717e-02-7.35144204e-04j -1.17227954e-02+2.05612884e-02j]\n",
      " [-3.33514840e-03-4.47802944e-03j -8.77291388e-03+2.86486611e-04j\n",
      "  -1.06653033e-02-1.33527932e-03j -9.48574285e-03+2.40174154e-03j\n",
      "   6.15635546e-02+0.00000000e+00j -9.02865225e-03-1.95329404e-02j\n",
      "  -5.06031096e-03+8.24515885e-03j  1.15539144e-03+3.59962390e-03j\n",
      "   1.53782992e-02-2.41267274e-04j -1.75434209e-03-7.52745812e-03j\n",
      "  -6.74087605e-03+1.64542403e-04j -8.83575914e-04+1.40556932e-02j\n",
      "  -4.80884108e-03-4.38757446e-03j  3.61267720e-02+6.43789985e-03j\n",
      "   6.39878642e-03-1.16304466e-03j  6.83980039e-03-9.43739092e-03j]\n",
      " [-1.16921817e-02+6.77432258e-03j  2.82672814e-03+1.02831246e-03j\n",
      "  -1.32723133e-02-2.43291451e-04j  2.54892383e-02-4.55016873e-03j\n",
      "  -9.02865225e-03+1.95329404e-02j  7.53882537e-02+0.00000000e+00j\n",
      "  -2.79622261e-03-1.62202033e-02j  4.79992762e-03-1.96749232e-02j\n",
      "   2.22881385e-03-5.37701478e-03j -1.57841339e-02-2.93238939e-03j\n",
      "   6.16861276e-05-4.00999255e-03j -1.41649698e-02+1.93488833e-03j\n",
      "   6.16599996e-03-1.40704726e-02j -1.82251405e-02-1.94506605e-04j\n",
      "  -8.59842891e-03-3.00358903e-03j -7.79646043e-03+2.27874388e-02j]\n",
      " [-9.88101712e-03+1.19822403e-02j  1.28704936e-02+1.21689164e-02j\n",
      "   2.51783983e-02-1.31719317e-03j -5.61174366e-03-1.58499310e-02j\n",
      "  -5.06031096e-03-8.24515885e-03j -2.79622261e-03+1.62202033e-02j\n",
      "   6.73824637e-02+0.00000000e+00j  2.20150774e-02+4.00835968e-03j\n",
      "   4.45811235e-03-3.96663138e-03j  4.49255442e-03-9.80571439e-03j\n",
      "  -2.87035118e-03+8.80253884e-03j -2.71756627e-02+1.20833057e-02j\n",
      "   2.36245670e-02-6.48526392e-03j -2.19209460e-03-1.71698100e-02j\n",
      "   2.50557886e-02+2.70257226e-03j  3.70292686e-03-1.33162118e-03j]\n",
      " [-1.24214371e-02-1.77046033e-02j -3.21939277e-03+8.83137755e-03j\n",
      "   9.35741848e-03-6.67626426e-03j  9.14550998e-03-2.04843046e-02j\n",
      "   1.15539144e-03-3.59962390e-03j  4.79992762e-03+1.96749232e-02j\n",
      "   2.20150774e-02-4.00835968e-03j  5.88600738e-02+0.00000000e+00j\n",
      "   7.69028983e-03+2.50249508e-03j -1.71395276e-02-1.49626094e-02j\n",
      "  -6.26808848e-03-6.32859854e-03j -3.01588233e-02+3.42880774e-03j\n",
      "   7.83530480e-03-1.37629761e-02j  1.20669957e-03-2.41409560e-03j\n",
      "   6.81627375e-04+9.04004668e-04j -8.69797102e-03-9.36277116e-03j]\n",
      " [ 1.10053816e-02+3.88439659e-03j -1.28243820e-02-1.25575681e-03j\n",
      "   1.06325656e-04-2.53904262e-03j  5.06950685e-03+2.52390097e-03j\n",
      "   1.53782992e-02+2.41267274e-04j  2.22881385e-03+5.37701478e-03j\n",
      "   4.45811235e-03+3.96663138e-03j  7.69028983e-03-2.50249508e-03j\n",
      "   4.39519966e-02+0.00000000e+00j -1.80048461e-03-3.35277939e-03j\n",
      "   3.91013178e-03-4.68891399e-03j -1.43087238e-02+1.22720008e-02j\n",
      "  -9.65814745e-03-5.20521203e-03j  1.16242936e-02-1.40716638e-02j\n",
      "   1.26678072e-02-2.97904651e-03j -8.97049719e-03+8.34613737e-03j]\n",
      " [ 3.26794804e-03-1.72206709e-03j -4.11667350e-03-5.06551583e-03j\n",
      "   8.63213787e-03+3.56377364e-03j -7.27910682e-03-4.78642975e-03j\n",
      "  -1.75434209e-03+7.52745812e-03j -1.57841339e-02+2.93238939e-03j\n",
      "   4.49255442e-03+9.80571439e-03j -1.71395276e-02+1.49626094e-02j\n",
      "  -1.80048461e-03+3.35277939e-03j  3.26978473e-02+0.00000000e+00j\n",
      "   1.38851230e-02+6.93692732e-03j  7.11854431e-03-8.92887511e-03j\n",
      "   8.43171491e-03+7.76944778e-03j  1.02182552e-02+1.00179619e-02j\n",
      "   6.68742260e-04-2.64301476e-03j -5.51745856e-03-1.19354961e-02j]\n",
      " [ 1.30323134e-02-7.01382204e-03j -1.49923817e-03-1.08837684e-02j\n",
      "  -6.42336638e-03-6.00709558e-03j -2.08305019e-03+9.62342855e-04j\n",
      "  -6.74087605e-03-1.64542403e-04j  6.16861276e-05+4.00999255e-03j\n",
      "  -2.87035118e-03-8.80253884e-03j -6.26808848e-03+6.32859854e-03j\n",
      "   3.91013178e-03+4.68891399e-03j  1.38851230e-02-6.93692732e-03j\n",
      "   5.19266320e-02+0.00000000e+00j  1.00196767e-02-1.27987394e-02j\n",
      "   1.55363212e-02-3.67801457e-03j  2.99184135e-03-1.61918645e-02j\n",
      "  -1.43194668e-02-5.06153082e-03j  4.28284031e-03+1.56048320e-03j]\n",
      " [ 1.24463213e-02-1.58271597e-02j  4.86272290e-03-9.88916925e-03j\n",
      "  -2.24964579e-02-2.68281685e-03j -8.68884028e-03+1.09600968e-02j\n",
      "  -8.83575914e-04-1.40556932e-02j -1.41649698e-02-1.93488833e-03j\n",
      "  -2.71756627e-02-1.20833057e-02j -3.01588233e-02-3.42880774e-03j\n",
      "  -1.43087238e-02-1.22720008e-02j  7.11854431e-03+8.92887511e-03j\n",
      "   1.00196767e-02+1.27987394e-02j  6.84381228e-02+0.00000000e+00j\n",
      "  -1.18037370e-02+1.24277996e-02j -5.07910783e-03+4.62152816e-03j\n",
      "  -3.94463060e-03-2.64958077e-02j  7.03807551e-03+1.10755699e-02j]\n",
      " [-3.97667982e-03-4.89158764e-03j  1.05719701e-02+8.89755997e-04j\n",
      "   4.24580538e-03+1.60097263e-02j  4.91843200e-03+2.39318675e-02j\n",
      "  -4.80884108e-03+4.38757446e-03j  6.16599996e-03+1.40704726e-02j\n",
      "   2.36245670e-02+6.48526392e-03j  7.83530480e-03+1.37629761e-02j\n",
      "  -9.65814745e-03+5.20521203e-03j  8.43171491e-03-7.76944778e-03j\n",
      "   1.55363212e-02+3.67801457e-03j -1.18037370e-02-1.24277996e-02j\n",
      "   7.85197098e-02+0.00000000e+00j -1.79662368e-02-5.85144915e-03j\n",
      "  -9.98493378e-04+1.32138625e-03j -2.51244563e-03-1.36629819e-02j]\n",
      " [-1.64847775e-02+1.29972936e-02j -1.29214485e-02-2.56580484e-03j\n",
      "  -1.58475572e-03-2.62350200e-03j -2.33388939e-02-9.37893712e-03j\n",
      "   3.61267720e-02-6.43789985e-03j -1.82251405e-02+1.94506605e-04j\n",
      "  -2.19209460e-03+1.71698100e-02j  1.20669957e-03+2.41409560e-03j\n",
      "   1.16242936e-02+1.40716638e-02j  1.02182552e-02-1.00179619e-02j\n",
      "   2.99184135e-03+1.61918645e-02j -5.07910783e-03-4.62152816e-03j\n",
      "  -1.79662368e-02+5.85144915e-03j  7.57628563e-02+0.00000000e+00j\n",
      "   3.94791773e-03+1.91487791e-03j -6.53600813e-03-1.38746693e-03j]\n",
      " [ 1.08051145e-02+1.08639430e-02j  4.75329182e-03+2.64769002e-05j\n",
      "   3.22834238e-03-1.34619267e-02j  1.26068717e-02+7.35144204e-04j\n",
      "   6.39878642e-03+1.16304466e-03j -8.59842891e-03+3.00358903e-03j\n",
      "   2.50557886e-02-2.70257226e-03j  6.81627375e-04-9.04004668e-04j\n",
      "   1.26678072e-02+2.97904651e-03j  6.68742260e-04+2.64301476e-03j\n",
      "  -1.43194668e-02+5.06153082e-03j -3.94463060e-03+2.64958077e-02j\n",
      "  -9.98493378e-04-1.32138625e-03j  3.94791773e-03-1.91487791e-03j\n",
      "   7.54888970e-02+0.00000000e+00j -3.61420224e-03+2.09478357e-02j]\n",
      " [ 5.75764782e-03-1.15525673e-02j  8.18672112e-03-1.18308325e-02j\n",
      "  -7.90067183e-03+7.97704377e-03j -1.17227954e-02-2.05612884e-02j\n",
      "   6.83980039e-03+9.43739092e-03j -7.79646043e-03-2.27874388e-02j\n",
      "   3.70292686e-03+1.33162118e-03j -8.69797102e-03+9.36277116e-03j\n",
      "  -8.97049719e-03-8.34613737e-03j -5.51745856e-03+1.19354961e-02j\n",
      "   4.28284031e-03-1.56048320e-03j  7.03807551e-03-1.10755699e-02j\n",
      "  -2.51244563e-03+1.36629819e-02j -6.53600813e-03+1.38746693e-03j\n",
      "  -3.61420224e-03-2.09478357e-02j  8.09947995e-02+0.00000000e+00j]]\n"
     ]
    }
   ],
   "execution_count": 6
  },
  {
   "metadata": {
    "ExecuteTime": {
     "end_time": "2025-05-11T04:25:57.625359Z",
     "start_time": "2025-05-11T04:25:57.257129Z"
    }
   },
   "cell_type": "code",
   "source": [
    "# Get the density matrix as numpy array\n",
    "rho_matrix = rho_ls.full()\n",
    "\n",
    "# Create figure with two subplots side by side\n",
    "fig, (ax1, ax2) = plt.subplots(1, 2, figsize=(15, 6))\n",
    "\n",
    "# Plot absolute values\n",
    "im1 = ax1.imshow(np.abs(rho_matrix), cmap='viridis')\n",
    "ax1.set_title('Absolute Values')\n",
    "ax1.set_xlabel('Column Index')\n",
    "ax1.set_ylabel('Row Index')\n",
    "plt.colorbar(im1, ax=ax1)\n",
    "\n",
    "# Plot real and imaginary parts\n",
    "im2 = ax2.imshow(np.real(rho_matrix), cmap='RdBu_r')\n",
    "ax2.set_title('Real Part')\n",
    "ax2.set_xlabel('Column Index')\n",
    "ax2.set_ylabel('Row Index')\n",
    "plt.colorbar(im2, ax=ax2)\n",
    "\n",
    "plt.tight_layout()\n",
    "plt.show()\n",
    "\n",
    "# Create another figure for imaginary part\n",
    "plt.figure(figsize=(8, 6))\n",
    "im3 = plt.imshow(np.imag(rho_matrix), cmap='RdBu_r')\n",
    "plt.title('Imaginary Part')\n",
    "plt.xlabel('Column Index')\n",
    "plt.ylabel('Row Index')\n",
    "plt.colorbar(im3)\n",
    "plt.show()"
   ],
   "outputs": [
    {
     "data": {
      "text/plain": [
       "<Figure size 1500x600 with 4 Axes>"
      ],
      "image/png": "[encoded data removed]"
     },
     "metadata": {},
     "output_type": "display_data"
    },
    {
     "data": {
      "text/plain": [
       "<Figure size 800x600 with 2 Axes>"
      ],
      "image/png": "[encoded data removed]"
     },
     "metadata": {},
     "output_type": "display_data"
    }
   ],
   "execution_count": 7
  }
 ],
 "metadata": {
  "kernelspec": {
   "display_name": "Python 3 (ipykernel)",
   "language": "python",
   "name": "python3"
  },
  "language_info": {
   "codemirror_mode": {
    "name": "ipython",
    "version": 3
   },
   "file_extension": ".py",
   "mimetype": "text/x-python",
   "name": "python",
   "nbconvert_exporter": "python",
   "pygments_lexer": "ipython3",
   "version": "3.10.13"
  }
 },
 "nbformat": 4,
 "nbformat_minor": 4
}
