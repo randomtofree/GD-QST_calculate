{
 "cells": [
  {
   "cell_type": "markdown",
   "metadata": {},
   "source": "# Quantum state tomography (QST) with LS"
  },
  {
   "cell_type": "markdown",
   "metadata": {},
   "source": []
  },
  {
   "cell_type": "code",
   "metadata": {
    "ExecuteTime": {
     "end_time": "2025-05-02T07:13:16.545349Z",
     "start_time": "2025-05-02T07:13:16.541583Z"
    }
   },
   "source": [
    "# To call the libraries for the GD-QST\n",
    "import sys\n",
    "sys.path.insert(0, '..')\n",
    "# You have to change the path of the library\n",
    "\n",
    "from qutip import * \n",
    "from itertools import *\n",
    "import jax.numpy as jnp\n",
    "import numpy as np\n",
    "import matplotlib.pyplot as plt\n",
    "#from qutip import basis, tensor\n",
    "\n",
    "from qst_tec.least_square import least_square_qst\n",
    "from qst_tec.compressed_sensing import compressed_sensing_qst\n",
    "from qst_tec.convex_optimization_cvx import cvx_qst\n"
   ],
   "outputs": [],
   "execution_count": 54
  },
  {
   "cell_type": "markdown",
   "metadata": {},
   "source": "### First we will define the number of qudits, the dimension d, and the measurement operators. We will use the Gell-mann matrices.\n"
  },
  {
   "cell_type": "code",
   "metadata": {
    "scrolled": true,
    "ExecuteTime": {
     "end_time": "2025-05-02T07:13:16.641586Z",
     "start_time": "2025-05-02T07:13:16.608932Z"
    }
   },
   "source": [
    "number_qudits: int = 2\n",
    "dims_qudits: int = 4\n",
    "dimension: int = dims_qudits**number_qudits\n",
    "HS: int = dimension\n",
    "\n",
    "# Creating the Measurement operators (Pauli matrices)\n",
    "\n",
    "# computation basis, important for the other methods\n",
    "def qubit_computation_basis(n,d):\n",
    "    basis_states = [basis(d, i) for i in range(d)]\n",
    "    return [tensor(*state) for state in product(basis_states, repeat=n)]\n",
    "\n",
    "computation_basis = qubit_computation_basis(number_qudits, dims_qudits)\n",
    "\n",
    "operator_basis = [Qobj(tensor(computation_basis[i],computation_basis[j].dag()), \n",
    "                dims=([[dimension], [dimension]])) for i in range(len(computation_basis)) for j in range(len(computation_basis))]\n",
    "\n",
    "\n",
    "def gellmann_matrices(d):\n",
    "    matrices = []\n",
    "\n",
    "    # Off-diagonal symmetric matrices: E_ij + E_ji, for 0 <= i < j < d\n",
    "    for i in range(d):\n",
    "        for j in range(i+1, d):\n",
    "            mat = np.zeros((d, d), dtype=complex)\n",
    "            mat[i, j] = 1\n",
    "            mat[j, i] = 1\n",
    "            matrices.append(mat)\n",
    "\n",
    "    # Off-diagonal antisymmetric matrices: -i(E_ij - E_ji)\n",
    "    for i in range(d):\n",
    "        for j in range(i+1, d):\n",
    "            mat = np.zeros((d, d), dtype=complex)\n",
    "            mat[i, j] = -1j\n",
    "            mat[j, i] = 1j\n",
    "            matrices.append(mat)\n",
    "\n",
    "    # Diagonal matrices\n",
    "    for k in range(1, d):\n",
    "        mat = np.zeros((d, d), dtype=complex)\n",
    "        coeff = np.sqrt(2 / (k * (k + 1)))\n",
    "        for i in range(k):\n",
    "            mat[i, i] = 1\n",
    "        mat[k, k] = -k\n",
    "        matrices.append(coeff * mat)\n",
    "\n",
    "    return matrices\n",
    "\n",
    "identity_op = qeye(dims_qudits)\n",
    "gellmann = [identity_op]+gellmann_matrices(dims_qudits)\n",
    "gellmann_objs = [Qobj(mat, dims=([[dims_qudits], [dims_qudits]])) for mat in gellmann]\n",
    "\n",
    "gellmann_sys = [tensor(*op) for op in product(gellmann_objs, repeat=number_qudits)] # using itertools\n",
    "\n",
    "Measu_ope = [Qobj(gellmann_sys[i], dims=([[dimension], [dimension]])) for i in range(len(gellmann_sys))]\n",
    "\n",
    "print(Measu_ope[1:3])\n",
    "\n",
    "\n",
    "#-----------------------------------------------------------------------\n",
    "# It is necesary to transform the measurement operators from a numpy \n",
    "# type to a jax type (jax.np), that because of the jax grad \n",
    "\n",
    "ops_np = [op.full() for op in Measu_ope] # transforming from qutip object to numpy\n",
    "ops_jnp = jnp.asarray(ops_np) # transforming from numpy to jax.np"
   ],
   "outputs": [
    {
     "name": "stdout",
     "output_type": "stream",
     "text": [
      "[Quantum object: dims=[[16], [16]], shape=(16, 16), type='oper', dtype=Dense, isherm=True\n",
      "Qobj data =\n",
      "[[0. 1. 0. 0. 0. 0. 0. 0. 0. 0. 0. 0. 0. 0. 0. 0.]\n",
      " [1. 0. 0. 0. 0. 0. 0. 0. 0. 0. 0. 0. 0. 0. 0. 0.]\n",
      " [0. 0. 0. 0. 0. 0. 0. 0. 0. 0. 0. 0. 0. 0. 0. 0.]\n",
      " [0. 0. 0. 0. 0. 0. 0. 0. 0. 0. 0. 0. 0. 0. 0. 0.]\n",
      " [0. 0. 0. 0. 0. 1. 0. 0. 0. 0. 0. 0. 0. 0. 0. 0.]\n",
      " [0. 0. 0. 0. 1. 0. 0. 0. 0. 0. 0. 0. 0. 0. 0. 0.]\n",
      " [0. 0. 0. 0. 0. 0. 0. 0. 0. 0. 0. 0. 0. 0. 0. 0.]\n",
      " [0. 0. 0. 0. 0. 0. 0. 0. 0. 0. 0. 0. 0. 0. 0. 0.]\n",
      " [0. 0. 0. 0. 0. 0. 0. 0. 0. 1. 0. 0. 0. 0. 0. 0.]\n",
      " [0. 0. 0. 0. 0. 0. 0. 0. 1. 0. 0. 0. 0. 0. 0. 0.]\n",
      " [0. 0. 0. 0. 0. 0. 0. 0. 0. 0. 0. 0. 0. 0. 0. 0.]\n",
      " [0. 0. 0. 0. 0. 0. 0. 0. 0. 0. 0. 0. 0. 0. 0. 0.]\n",
      " [0. 0. 0. 0. 0. 0. 0. 0. 0. 0. 0. 0. 0. 1. 0. 0.]\n",
      " [0. 0. 0. 0. 0. 0. 0. 0. 0. 0. 0. 0. 1. 0. 0. 0.]\n",
      " [0. 0. 0. 0. 0. 0. 0. 0. 0. 0. 0. 0. 0. 0. 0. 0.]\n",
      " [0. 0. 0. 0. 0. 0. 0. 0. 0. 0. 0. 0. 0. 0. 0. 0.]], Quantum object: dims=[[16], [16]], shape=(16, 16), type='oper', dtype=Dense, isherm=True\n",
      "Qobj data =\n",
      "[[0. 0. 1. 0. 0. 0. 0. 0. 0. 0. 0. 0. 0. 0. 0. 0.]\n",
      " [0. 0. 0. 0. 0. 0. 0. 0. 0. 0. 0. 0. 0. 0. 0. 0.]\n",
      " [1. 0. 0. 0. 0. 0. 0. 0. 0. 0. 0. 0. 0. 0. 0. 0.]\n",
      " [0. 0. 0. 0. 0. 0. 0. 0. 0. 0. 0. 0. 0. 0. 0. 0.]\n",
      " [0. 0. 0. 0. 0. 0. 1. 0. 0. 0. 0. 0. 0. 0. 0. 0.]\n",
      " [0. 0. 0. 0. 0. 0. 0. 0. 0. 0. 0. 0. 0. 0. 0. 0.]\n",
      " [0. 0. 0. 0. 1. 0. 0. 0. 0. 0. 0. 0. 0. 0. 0. 0.]\n",
      " [0. 0. 0. 0. 0. 0. 0. 0. 0. 0. 0. 0. 0. 0. 0. 0.]\n",
      " [0. 0. 0. 0. 0. 0. 0. 0. 0. 0. 1. 0. 0. 0. 0. 0.]\n",
      " [0. 0. 0. 0. 0. 0. 0. 0. 0. 0. 0. 0. 0. 0. 0. 0.]\n",
      " [0. 0. 0. 0. 0. 0. 0. 0. 1. 0. 0. 0. 0. 0. 0. 0.]\n",
      " [0. 0. 0. 0. 0. 0. 0. 0. 0. 0. 0. 0. 0. 0. 0. 0.]\n",
      " [0. 0. 0. 0. 0. 0. 0. 0. 0. 0. 0. 0. 0. 0. 1. 0.]\n",
      " [0. 0. 0. 0. 0. 0. 0. 0. 0. 0. 0. 0. 0. 0. 0. 0.]\n",
      " [0. 0. 0. 0. 0. 0. 0. 0. 0. 0. 0. 0. 1. 0. 0. 0.]\n",
      " [0. 0. 0. 0. 0. 0. 0. 0. 0. 0. 0. 0. 0. 0. 0. 0.]]]\n"
     ]
    }
   ],
   "execution_count": 55
  },
  {
   "metadata": {},
   "cell_type": "markdown",
   "source": [
    "## Explicit Measurement for dimension=4\n",
    "\n",
    "for the general case, it is no easy to calculate the MUB"
   ]
  },
  {
   "metadata": {
    "ExecuteTime": {
     "end_time": "2025-05-02T07:13:16.792266Z",
     "start_time": "2025-05-02T07:13:16.767742Z"
    }
   },
   "cell_type": "code",
   "source": [
    "\n",
    "# Basic computational basis states\n",
    "EE = basis(4, 0)  # |1000⟩\n",
    "SS = basis(4, 1)  # |0100⟩\n",
    "WW = basis(4, 2)  # |0010⟩\n",
    "NN = basis(4, 3)  # |0001⟩\n",
    "\n",
    "# Superposition states with 1/√2 factor\n",
    "ES = (basis(4, 0) + basis(4, 1))/np.sqrt(2)          # (|1000⟩ + |0100⟩)/√2\n",
    "SE = (basis(4, 0) + 1j*basis(4, 1))/np.sqrt(2)       # (|1000⟩ + i|0100⟩)/√2\n",
    "EW = (basis(4, 0) + basis(4, 2))/np.sqrt(2)          # (|1000⟩ + |0010⟩)/√2\n",
    "WE = (basis(4, 0) + 1j*basis(4, 2))/np.sqrt(2)       # (|1000⟩ + i|0010⟩)/√2\n",
    "SW = (basis(4, 1) + basis(4, 2))/np.sqrt(2)          # (|0100⟩ + |0010⟩)/√2\n",
    "WS = (basis(4, 1) + 1j*basis(4, 2))/np.sqrt(2)       # (|0100⟩ + i|0010⟩)/√2\n",
    "EN = (basis(4, 0) + basis(4, 3))/np.sqrt(2)          # (|1000⟩ + |0001⟩)/√2\n",
    "NE = (basis(4, 0) + 1j*basis(4, 3))/np.sqrt(2)       # (|1000⟩ + i|0001⟩)/√2\n",
    "SN = (basis(4, 1) + basis(4, 3))/np.sqrt(2)          # (|0100⟩ + |0001⟩)/√2\n",
    "NS = (basis(4, 1) + 1j*basis(4, 3))/np.sqrt(2)       # (|0100⟩ + i|0001⟩)/√2\n",
    "WN = (basis(4, 2) + basis(4, 3))/np.sqrt(2)          # (|0010⟩ + |0001⟩)/√2\n",
    "NW = (basis(4, 2) + 1j*basis(4, 3))/np.sqrt(2)       # (|0010⟩ + i|0001⟩)/√2\n",
    "states_sets= [EE, SS, WW, NN, ES, SE, EW, WE, SW, WS, EN, NE, SN, NS, WN, NW]\n",
    "projections_sets= [tensor(*state) for state in product(states_sets, repeat=2)]\n",
    "\n",
    "Measu_ope = [Qobj(tensor(projections_sets[i],projections_sets[i].dag()),\n",
    "                dims=([[dimension], [dimension]])) for i in range(len(projections_sets)) ]\n",
    "\n",
    "\n",
    "print(Measu_ope[1:3])\n",
    "\n",
    "\n",
    "#-----------------------------------------------------------------------\n",
    "# It is necesary to transform the measurement operators from a numpy\n",
    "# type to a jax type (jax.np), that because of the jax grad\n",
    "\n",
    "ops_np = [op.full() for op in Measu_ope] # transforming from qutip object to numpy\n",
    "ops_jnp = jnp.asarray(ops_np) # transforming from numpy to jax.np"
   ],
   "outputs": [
    {
     "name": "stdout",
     "output_type": "stream",
     "text": [
      "[Quantum object: dims=[[16], [16]], shape=(16, 16), type='oper', dtype=Dense, isherm=True\n",
      "Qobj data =\n",
      "[[0. 0. 0. 0. 0. 0. 0. 0. 0. 0. 0. 0. 0. 0. 0. 0.]\n",
      " [0. 1. 0. 0. 0. 0. 0. 0. 0. 0. 0. 0. 0. 0. 0. 0.]\n",
      " [0. 0. 0. 0. 0. 0. 0. 0. 0. 0. 0. 0. 0. 0. 0. 0.]\n",
      " [0. 0. 0. 0. 0. 0. 0. 0. 0. 0. 0. 0. 0. 0. 0. 0.]\n",
      " [0. 0. 0. 0. 0. 0. 0. 0. 0. 0. 0. 0. 0. 0. 0. 0.]\n",
      " [0. 0. 0. 0. 0. 0. 0. 0. 0. 0. 0. 0. 0. 0. 0. 0.]\n",
      " [0. 0. 0. 0. 0. 0. 0. 0. 0. 0. 0. 0. 0. 0. 0. 0.]\n",
      " [0. 0. 0. 0. 0. 0. 0. 0. 0. 0. 0. 0. 0. 0. 0. 0.]\n",
      " [0. 0. 0. 0. 0. 0. 0. 0. 0. 0. 0. 0. 0. 0. 0. 0.]\n",
      " [0. 0. 0. 0. 0. 0. 0. 0. 0. 0. 0. 0. 0. 0. 0. 0.]\n",
      " [0. 0. 0. 0. 0. 0. 0. 0. 0. 0. 0. 0. 0. 0. 0. 0.]\n",
      " [0. 0. 0. 0. 0. 0. 0. 0. 0. 0. 0. 0. 0. 0. 0. 0.]\n",
      " [0. 0. 0. 0. 0. 0. 0. 0. 0. 0. 0. 0. 0. 0. 0. 0.]\n",
      " [0. 0. 0. 0. 0. 0. 0. 0. 0. 0. 0. 0. 0. 0. 0. 0.]\n",
      " [0. 0. 0. 0. 0. 0. 0. 0. 0. 0. 0. 0. 0. 0. 0. 0.]\n",
      " [0. 0. 0. 0. 0. 0. 0. 0. 0. 0. 0. 0. 0. 0. 0. 0.]], Quantum object: dims=[[16], [16]], shape=(16, 16), type='oper', dtype=Dense, isherm=True\n",
      "Qobj data =\n",
      "[[0. 0. 0. 0. 0. 0. 0. 0. 0. 0. 0. 0. 0. 0. 0. 0.]\n",
      " [0. 0. 0. 0. 0. 0. 0. 0. 0. 0. 0. 0. 0. 0. 0. 0.]\n",
      " [0. 0. 1. 0. 0. 0. 0. 0. 0. 0. 0. 0. 0. 0. 0. 0.]\n",
      " [0. 0. 0. 0. 0. 0. 0. 0. 0. 0. 0. 0. 0. 0. 0. 0.]\n",
      " [0. 0. 0. 0. 0. 0. 0. 0. 0. 0. 0. 0. 0. 0. 0. 0.]\n",
      " [0. 0. 0. 0. 0. 0. 0. 0. 0. 0. 0. 0. 0. 0. 0. 0.]\n",
      " [0. 0. 0. 0. 0. 0. 0. 0. 0. 0. 0. 0. 0. 0. 0. 0.]\n",
      " [0. 0. 0. 0. 0. 0. 0. 0. 0. 0. 0. 0. 0. 0. 0. 0.]\n",
      " [0. 0. 0. 0. 0. 0. 0. 0. 0. 0. 0. 0. 0. 0. 0. 0.]\n",
      " [0. 0. 0. 0. 0. 0. 0. 0. 0. 0. 0. 0. 0. 0. 0. 0.]\n",
      " [0. 0. 0. 0. 0. 0. 0. 0. 0. 0. 0. 0. 0. 0. 0. 0.]\n",
      " [0. 0. 0. 0. 0. 0. 0. 0. 0. 0. 0. 0. 0. 0. 0. 0.]\n",
      " [0. 0. 0. 0. 0. 0. 0. 0. 0. 0. 0. 0. 0. 0. 0. 0.]\n",
      " [0. 0. 0. 0. 0. 0. 0. 0. 0. 0. 0. 0. 0. 0. 0. 0.]\n",
      " [0. 0. 0. 0. 0. 0. 0. 0. 0. 0. 0. 0. 0. 0. 0. 0.]\n",
      " [0. 0. 0. 0. 0. 0. 0. 0. 0. 0. 0. 0. 0. 0. 0. 0.]]]\n"
     ]
    }
   ],
   "execution_count": 56
  },
  {
   "metadata": {},
   "cell_type": "markdown",
   "source": [
    "## Implementing LS, CS, and CVX\n",
    "\n",
    "For the case of a random density matrix for 3 qubits as the original density matrix (the one we want to reconstruct) created with QuTip $\\rho_{random}$"
   ]
  },
  {
   "metadata": {
    "ExecuteTime": {
     "end_time": "2025-05-02T07:13:18.858280Z",
     "start_time": "2025-05-02T07:13:16.820556Z"
    }
   },
   "cell_type": "code",
   "source": [
    "\n",
    "max_itera: int = 100\n",
    "batch_s = round(0.5*len(ops_jnp)) #len(ops_jnp)=4**N\n",
    "\n",
    "# creating the original densirty matrix, this with a random rho from QuTip\n",
    "rho_or = rand_dm(dims_qudits**number_qudits)\n",
    "poisson_photon_numbers=1000;\n",
    "data = expect(Measu_ope,rho_or)\n",
    "\n",
    "\n",
    "#LS-QST\n",
    "rho_ls, f_ls, t_ls = least_square_qst(measurement_ops=Measu_ope, basis_set=operator_basis, B=data, dimension=dimension, rho_ideal=rho_or)\n",
    "\n",
    "#CS-QST\n",
    "rho_cs, f_cs, t_cs = compressed_sensing_qst(measurement_ops=Measu_ope, basis_set=operator_basis, B=data, gamma=0, dimension=dimension, rho_ideal=rho_or)\n",
    "\n",
    "rho_cvx, f_cvx, t_cvx = cvx_qst(measurement_ops=Measu_ope, basis_set=operator_basis, B=data, gamma=0, dimension=dimension, rho_ideal=rho_or)\n",
    "\n"
   ],
   "outputs": [],
   "execution_count": 57
  },
  {
   "metadata": {
    "ExecuteTime": {
     "end_time": "2025-05-02T07:13:18.951783Z",
     "start_time": "2025-05-02T07:13:18.940631Z"
    }
   },
   "cell_type": "code",
   "source": [
    "print('Final fidelity (LS) and average time in seconds :', f_ls, t_ls)\n",
    "print('Final fidelity (CS) and average time in seconds :', f_cs, t_cs)\n",
    "print('Final fidelity (CVX) and average time in seconds :', f_cvx, t_cvx)\n"
   ],
   "outputs": [
    {
     "name": "stdout",
     "output_type": "stream",
     "text": [
      "Final fidelity (LS) and average time in seconds : 0.9999785156588703 0.3007340431213379\n",
      "Final fidelity (CS) and average time in seconds : 0.9999795613224517 1.4346599578857422\n",
      "Final fidelity (CVX) and average time in seconds : 0.9999763782711908 0.29727792739868164\n"
     ]
    }
   ],
   "execution_count": 58
  },
  {
   "metadata": {
    "ExecuteTime": {
     "end_time": "2025-05-02T07:13:19.018342Z",
     "start_time": "2025-05-02T07:13:19.012614Z"
    }
   },
   "cell_type": "code",
   "source": "print(rho_ls)",
   "outputs": [
    {
     "name": "stdout",
     "output_type": "stream",
     "text": [
      "Quantum object: dims=[[16], [16]], shape=(16, 16), type='oper', dtype=Dense, isherm=True\n",
      "Qobj data =\n",
      "[[ 0.06862538+0.00000000e+00j  0.01590448+1.05535323e-02j\n",
      "  -0.00012204-1.44340708e-02j -0.00261661+7.82441972e-03j\n",
      "   0.0043088 -3.32608039e-03j  0.00024859+1.38167186e-02j\n",
      "   0.0089806 -1.35050691e-03j  0.01428532-2.46494833e-02j\n",
      "  -0.0049093 +4.31889922e-03j  0.01010362-2.77187064e-02j\n",
      "   0.00548032-2.58546328e-02j  0.00546694-3.09254129e-03j\n",
      "  -0.0073291 +6.60692174e-03j -0.01080586+5.38582777e-03j\n",
      "  -0.00166523+9.60258356e-03j  0.00090524+5.04309630e-03j]\n",
      " [ 0.01590448-1.05535323e-02j  0.04509389+0.00000000e+00j\n",
      "   0.01410329-7.16473099e-03j  0.01703531-3.53460682e-03j\n",
      "   0.02591637-1.50497875e-03j  0.01442243+1.23000926e-02j\n",
      "  -0.00804381-1.03638964e-02j -0.01330345-8.26879779e-03j\n",
      "   0.01310175-1.82913517e-03j -0.01610007-1.08420919e-02j\n",
      "  -0.0037672 -1.40224941e-02j  0.00352176+6.29302560e-03j\n",
      "   0.00413202+2.43636061e-03j -0.0061286 -9.95787446e-03j\n",
      "   0.00520398+7.47841546e-03j -0.01992786+7.19346611e-03j]\n",
      " [-0.00012204+1.44340708e-02j  0.01410329+7.16473099e-03j\n",
      "   0.05333335+0.00000000e+00j  0.00923477-7.59323874e-03j\n",
      "   0.0029987 +5.17447762e-03j -0.00052746-1.03561573e-02j\n",
      "  -0.00319765-4.11484503e-03j  0.01375757+1.34719751e-02j\n",
      "  -0.00033616-5.16246481e-04j -0.02286633-4.48875421e-03j\n",
      "  -0.01340012+3.50009274e-03j  0.01041214+1.05473949e-02j\n",
      "   0.01186661-4.55049937e-03j  0.00937561-9.31007056e-03j\n",
      "  -0.01002838+2.58845126e-03j -0.00866777+6.93363706e-03j]\n",
      " [-0.00261661-7.82441972e-03j  0.01703531+3.53460682e-03j\n",
      "   0.00923477+7.59323874e-03j  0.05180769+0.00000000e+00j\n",
      "   0.00459765+4.24687320e-03j  0.00829804+3.42375657e-03j\n",
      "   0.00595233+9.85824112e-03j -0.01143264-1.49995091e-02j\n",
      "   0.00495646-8.12607260e-03j -0.01427824-3.06793056e-02j\n",
      "  -0.01632626-6.41331796e-03j -0.00256169-1.65482581e-02j\n",
      "  -0.0038741 -2.87133537e-03j -0.00944745-1.27358731e-02j\n",
      "   0.00295054+1.39271199e-02j -0.00516166+6.65478802e-03j]\n",
      " [ 0.0043088 +3.32608039e-03j  0.02591637+1.50497875e-03j\n",
      "   0.0029987 -5.17447762e-03j  0.00459765-4.24687320e-03j\n",
      "   0.07734819+0.00000000e+00j  0.01526675-2.44789454e-02j\n",
      "  -0.0074739 +2.52714543e-03j -0.00928467-5.40589634e-03j\n",
      "   0.01021856-1.58416096e-02j -0.0204066 +3.20845879e-03j\n",
      "   0.00476476-1.13074397e-02j  0.02438881+1.22823337e-02j\n",
      "   0.01200013-6.96721091e-04j -0.01016982+1.99277214e-03j\n",
      "   0.00340608-8.38515292e-03j  0.00190662-7.04551718e-04j]\n",
      " [ 0.00024859-1.38167186e-02j  0.01442243-1.23000926e-02j\n",
      "  -0.00052746+1.03561573e-02j  0.00829804-3.42375657e-03j\n",
      "   0.01526675+2.44789454e-02j  0.07992709+0.00000000e+00j\n",
      "  -0.02217907+1.84582690e-03j -0.00898074-9.38180078e-06j\n",
      "   0.00336972-1.61169846e-02j -0.02285262-2.02811737e-02j\n",
      "  -0.00431597+5.03604407e-03j  0.00014889+1.78611117e-02j\n",
      "   0.00544312+1.16877676e-02j -0.00652981-2.39296665e-02j\n",
      "   0.02118468-8.47573273e-03j -0.00238864+2.44264240e-02j]\n",
      " [ 0.0089806 +1.35050691e-03j -0.00804381+1.03638964e-02j\n",
      "  -0.00319765+4.11484503e-03j  0.00595233-9.85824112e-03j\n",
      "  -0.0074739 -2.52714543e-03j -0.02217907-1.84582690e-03j\n",
      "   0.03861774+0.00000000e+00j  0.00666937-9.69666705e-03j\n",
      "   0.00040724+1.19467849e-02j  0.00598531-1.72344106e-02j\n",
      "   0.00303282+6.33290519e-03j -0.00074647-9.93172123e-03j\n",
      "  -0.00689931-3.59608316e-05j -0.00852323+1.36428409e-02j\n",
      "  -0.00552329+7.53494169e-03j -0.00065193-7.32201737e-03j]\n",
      " [ 0.01428532+2.46494833e-02j -0.01330345+8.26879779e-03j\n",
      "   0.01375757-1.34719751e-02j -0.01143264+1.49995091e-02j\n",
      "  -0.00928467+5.40589634e-03j -0.00898074+9.38180078e-06j\n",
      "   0.00666937+9.69666705e-03j  0.08613436+0.00000000e+00j\n",
      "  -0.00473248+5.26513120e-03j  0.01897022+1.39815111e-03j\n",
      "  -0.01604332+6.04143877e-04j  0.02400897+7.48435243e-03j\n",
      "   0.00033236-1.71546793e-02j  0.00595391-1.42300149e-02j\n",
      "  -0.0196047 +1.57554773e-02j  0.01515699-1.21720051e-02j]\n",
      " [-0.0049093 -4.31889922e-03j  0.01310175+1.82913517e-03j\n",
      "  -0.00033616+5.16246481e-04j  0.00495646+8.12607260e-03j\n",
      "   0.01021856+1.58416096e-02j  0.00336972+1.61169846e-02j\n",
      "   0.00040724-1.19467849e-02j -0.00473248-5.26513120e-03j\n",
      "   0.06515557+0.00000000e+00j -0.00497641-1.44722517e-02j\n",
      "   0.01462618+6.67814825e-04j  0.0032125 -6.60926748e-03j\n",
      "  -0.00710774-1.07285205e-02j  0.00141419-6.68306772e-03j\n",
      "   0.0043296 +1.93770006e-02j -0.00640775-1.21042112e-03j]\n",
      " [ 0.01010362+2.77187064e-02j -0.01610007+1.08420919e-02j\n",
      "  -0.02286633+4.48875421e-03j -0.01427824+3.06793056e-02j\n",
      "  -0.0204066 -3.20845879e-03j -0.02285262+2.02811737e-02j\n",
      "   0.00598531+1.72344106e-02j  0.01897022-1.39815111e-03j\n",
      "  -0.00497641+1.44722517e-02j  0.07966121+0.00000000e+00j\n",
      "   0.02463516-8.91987592e-03j -0.00324721+4.10736426e-03j\n",
      "  -0.01114617-2.13486888e-03j -0.00490836-5.49999687e-04j\n",
      "  -0.01994516-1.42980814e-02j -0.00165912-5.06765769e-03j]\n",
      " [ 0.00548032+2.58546328e-02j -0.0037672 +1.40224941e-02j\n",
      "  -0.01340012-3.50009274e-03j -0.01632626+6.41331796e-03j\n",
      "   0.00476476+1.13074397e-02j -0.00431597-5.03604407e-03j\n",
      "   0.00303282-6.33290519e-03j -0.01604332-6.04143877e-04j\n",
      "   0.01462618-6.67814825e-04j  0.02463516+8.91987592e-03j\n",
      "   0.0833178 +0.00000000e+00j -0.01331131-2.09483412e-03j\n",
      "  -0.01510406+5.36174167e-03j -0.00751648+6.70493307e-03j\n",
      "   0.00894015-2.72096636e-02j  0.00332627+6.34742047e-03j]\n",
      " [ 0.00546694+3.09254129e-03j  0.00352176-6.29302560e-03j\n",
      "   0.01041214-1.05473949e-02j -0.00256169+1.65482581e-02j\n",
      "   0.02438881-1.22823337e-02j  0.00014889-1.78611117e-02j\n",
      "  -0.00074647+9.93172123e-03j  0.02400897-7.48435243e-03j\n",
      "   0.0032125 +6.60926748e-03j -0.00324721-4.10736426e-03j\n",
      "  -0.01331131+2.09483412e-03j  0.05816103+0.00000000e+00j\n",
      "   0.00960147-1.43384803e-02j  0.00519548-3.21658237e-03j\n",
      "  -0.02347329+1.90064885e-02j -0.00408399+1.19860538e-03j]\n",
      " [-0.0073291 -6.60692174e-03j  0.00413202-2.43636061e-03j\n",
      "   0.01186661+4.55049937e-03j -0.0038741 +2.87133537e-03j\n",
      "   0.01200013+6.96721091e-04j  0.00544312-1.16877676e-02j\n",
      "  -0.00689931+3.59608316e-05j  0.00033236+1.71546793e-02j\n",
      "  -0.00710774+1.07285205e-02j -0.01114617+2.13486888e-03j\n",
      "  -0.01510406-5.36174167e-03j  0.00960147+1.43384803e-02j\n",
      "   0.03773213+0.00000000e+00j  0.00968774+5.70088532e-03j\n",
      "  -0.0102851 -1.25713595e-03j  0.00578402+2.14041137e-03j]\n",
      " [-0.01080586-5.38582777e-03j -0.0061286 +9.95787446e-03j\n",
      "   0.00937561+9.31007056e-03j -0.00944745+1.27358731e-02j\n",
      "  -0.01016982-1.99277214e-03j -0.00652981+2.39296665e-02j\n",
      "  -0.00852323-1.36428409e-02j  0.00595391+1.42300149e-02j\n",
      "   0.00141419+6.68306772e-03j -0.00490836+5.49999687e-04j\n",
      "  -0.00751648-6.70493307e-03j  0.00519548+3.21658237e-03j\n",
      "   0.00968774-5.70088532e-03j  0.05237075+0.00000000e+00j\n",
      "  -0.00572725+8.06966140e-03j -0.0052514 -1.66900029e-02j]\n",
      " [-0.00166523-9.60258356e-03j  0.00520398-7.47841546e-03j\n",
      "  -0.01002838-2.58845126e-03j  0.00295054-1.39271199e-02j\n",
      "   0.00340608+8.38515292e-03j  0.02118468+8.47573273e-03j\n",
      "  -0.00552329-7.53494169e-03j -0.0196047 -1.57554773e-02j\n",
      "   0.0043296 -1.93770006e-02j -0.01994516+1.42980814e-02j\n",
      "   0.00894015+2.72096636e-02j -0.02347329-1.90064885e-02j\n",
      "  -0.0102851 +1.25713595e-03j -0.00572725-8.06966140e-03j\n",
      "   0.07227875+0.00000000e+00j -0.01173179+8.02649276e-03j]\n",
      " [ 0.00090524-5.04309630e-03j -0.01992786-7.19346611e-03j\n",
      "  -0.00866777-6.93363706e-03j -0.00516166-6.65478802e-03j\n",
      "   0.00190662+7.04551718e-04j -0.00238864-2.44264240e-02j\n",
      "  -0.00065193+7.32201737e-03j  0.01515699+1.21720051e-02j\n",
      "  -0.00640775+1.21042112e-03j -0.00165912+5.06765769e-03j\n",
      "   0.00332627-6.34742047e-03j -0.00408399-1.19860538e-03j\n",
      "   0.00578402-2.14041137e-03j -0.0052514 +1.66900029e-02j\n",
      "  -0.01173179-8.02649276e-03j  0.05043506+0.00000000e+00j]]\n"
     ]
    }
   ],
   "execution_count": 59
  },
  {
   "metadata": {
    "ExecuteTime": {
     "end_time": "2025-05-02T07:13:19.402525Z",
     "start_time": "2025-05-02T07:13:19.074482Z"
    }
   },
   "cell_type": "code",
   "source": [
    "# Get the density matrix as numpy array\n",
    "rho_matrix = rho_ls.full()\n",
    "\n",
    "# Create figure with two subplots side by side\n",
    "fig, (ax1, ax2) = plt.subplots(1, 2, figsize=(15, 6))\n",
    "\n",
    "# Plot absolute values\n",
    "im1 = ax1.imshow(np.abs(rho_matrix), cmap='viridis')\n",
    "ax1.set_title('Absolute Values')\n",
    "ax1.set_xlabel('Column Index')\n",
    "ax1.set_ylabel('Row Index')\n",
    "plt.colorbar(im1, ax=ax1)\n",
    "\n",
    "# Plot real and imaginary parts\n",
    "im2 = ax2.imshow(np.real(rho_matrix), cmap='RdBu_r')\n",
    "ax2.set_title('Real Part')\n",
    "ax2.set_xlabel('Column Index')\n",
    "ax2.set_ylabel('Row Index')\n",
    "plt.colorbar(im2, ax=ax2)\n",
    "\n",
    "plt.tight_layout()\n",
    "plt.show()\n",
    "\n",
    "# Create another figure for imaginary part\n",
    "plt.figure(figsize=(8, 6))\n",
    "im3 = plt.imshow(np.imag(rho_matrix), cmap='RdBu_r')\n",
    "plt.title('Imaginary Part')\n",
    "plt.xlabel('Column Index')\n",
    "plt.ylabel('Row Index')\n",
    "plt.colorbar(im3)\n",
    "plt.show()"
   ],
   "outputs": [
    {
     "data": {
      "text/plain": [
       "<Figure size 1500x600 with 4 Axes>"
      ],
      "image/png": "[encoded data removed]"
     },
     "metadata": {},
     "output_type": "display_data"
    },
    {
     "data": {
      "text/plain": [
       "<Figure size 800x600 with 2 Axes>"
      ],
      "image/png": "[encoded data removed]"
     },
     "metadata": {},
     "output_type": "display_data"
    }
   ],
   "execution_count": 60
  }
 ],
 "metadata": {
  "kernelspec": {
   "display_name": "Python 3 (ipykernel)",
   "language": "python",
   "name": "python3"
  },
  "language_info": {
   "codemirror_mode": {
    "name": "ipython",
    "version": 3
   },
   "file_extension": ".py",
   "mimetype": "text/x-python",
   "name": "python",
   "nbconvert_exporter": "python",
   "pygments_lexer": "ipython3",
   "version": "3.10.13"
  }
 },
 "nbformat": 4,
 "nbformat_minor": 4
}
