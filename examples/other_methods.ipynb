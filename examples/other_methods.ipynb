{
 "cells": [
  {
   "cell_type": "markdown",
   "metadata": {},
   "source": [
    "# Quantum state tomography (QST) with LS, CS and CVX"
   ]
  },
  {
   "cell_type": "markdown",
   "metadata": {},
   "source": []
  },
  {
   "cell_type": "code",
   "metadata": {
    "ExecuteTime": {
     "end_time": "2025-04-21T11:34:28.161218Z",
     "start_time": "2025-04-21T11:34:28.155018Z"
    }
   },
   "source": [
    "# To call the libraries for the GD-QST\n",
    "import sys\n",
    "sys.path.insert(0, '..')\n",
    "# You have to change the path of the library \n",
    "import os\n",
    "\n",
    "from qutip import * \n",
    "from itertools import *\n",
    "import jax.numpy as jnp\n",
    "import numpy as np\n",
    "import matplotlib.pyplot as plt \n",
    "import qutip as qtp\n",
    "#from qutip import basis, tensor\n",
    "\n",
    "from qst_tec.least_square import least_square_qst\n",
    "from qst_tec.compressed_sensing import compressed_sensing_qst\n",
    "from qst_tec.convex_optimization_cvx import cvx_qst\n",
    "\n",
    "import time\n"
   ],
   "outputs": [],
   "execution_count": 8
  },
  {
   "cell_type": "markdown",
   "metadata": {},
   "source": [
    "### First we will define the number of qubits and the measurement operators. We will use the Pauli matrices.\n"
   ]
  },
  {
   "cell_type": "code",
   "metadata": {
    "scrolled": true,
    "ExecuteTime": {
     "end_time": "2025-04-21T11:34:28.208996Z",
     "start_time": "2025-04-21T11:34:28.195080Z"
    }
   },
   "source": [
    "number_qubits: int = 3\n",
    "dimension: int = 2**number_qubits\n",
    "HS: int = dimension\n",
    "\n",
    "# Creating the Measurement operators (Pauli matrices)\n",
    "\n",
    "# computation basis, important for the other methods\n",
    "def qubit_computation_basis(n):\n",
    "    basis_states = [basis(2, i) for i in range(2)]\n",
    "    return [tensor(*state) for state in product(basis_states, repeat=n)]\n",
    "\n",
    "computation_basis = qubit_computation_basis(number_qubits)\n",
    "\n",
    "operator_basis = [Qobj(tensor(computation_basis[i],computation_basis[j].dag()), \n",
    "                dims=([[2**number_qubits], [2**number_qubits]])) for i in range(len(computation_basis)) for j in range(len(computation_basis))]\n",
    "\n",
    "pauli = [qeye(2), sigmax(), sigmay(), sigmaz()]\n",
    "pauli_sys = [tensor(*op) for op in product(pauli, repeat=number_qubits)] # using itertools\n",
    "\n",
    "Measu_ope = [Qobj(pauli_sys[i], dims=([[2**number_qubits], [2**number_qubits]])) for i in range(len(pauli_sys))]\n",
    "\n",
    "print(Measu_ope[1:3])\n",
    "\n",
    "\n",
    "#-----------------------------------------------------------------------\n",
    "# It is necesary to transform the measurement operators from a numpy \n",
    "# type to a jax type (jax.np), that because of the jax grad \n",
    "\n",
    "ops_np = [op.full() for op in Measu_ope] # transforming from qutip object to numpy\n",
    "ops_jnp = jnp.asarray(ops_np) # transforming from numpy to jax.np"
   ],
   "outputs": [
    {
     "name": "stdout",
     "output_type": "stream",
     "text": [
      "[Quantum object: dims=[[8], [8]], shape=(8, 8), type='oper', dtype=CSR, isherm=True\n",
      "Qobj data =\n",
      "[[0. 1. 0. 0. 0. 0. 0. 0.]\n",
      " [1. 0. 0. 0. 0. 0. 0. 0.]\n",
      " [0. 0. 0. 1. 0. 0. 0. 0.]\n",
      " [0. 0. 1. 0. 0. 0. 0. 0.]\n",
      " [0. 0. 0. 0. 0. 1. 0. 0.]\n",
      " [0. 0. 0. 0. 1. 0. 0. 0.]\n",
      " [0. 0. 0. 0. 0. 0. 0. 1.]\n",
      " [0. 0. 0. 0. 0. 0. 1. 0.]], Quantum object: dims=[[8], [8]], shape=(8, 8), type='oper', dtype=CSR, isherm=True\n",
      "Qobj data =\n",
      "[[0.+0.j 0.-1.j 0.+0.j 0.+0.j 0.+0.j 0.+0.j 0.+0.j 0.+0.j]\n",
      " [0.+1.j 0.+0.j 0.+0.j 0.+0.j 0.+0.j 0.+0.j 0.+0.j 0.+0.j]\n",
      " [0.+0.j 0.+0.j 0.+0.j 0.-1.j 0.+0.j 0.+0.j 0.+0.j 0.+0.j]\n",
      " [0.+0.j 0.+0.j 0.+1.j 0.+0.j 0.+0.j 0.+0.j 0.+0.j 0.+0.j]\n",
      " [0.+0.j 0.+0.j 0.+0.j 0.+0.j 0.+0.j 0.-1.j 0.+0.j 0.+0.j]\n",
      " [0.+0.j 0.+0.j 0.+0.j 0.+0.j 0.+1.j 0.+0.j 0.+0.j 0.+0.j]\n",
      " [0.+0.j 0.+0.j 0.+0.j 0.+0.j 0.+0.j 0.+0.j 0.+0.j 0.-1.j]\n",
      " [0.+0.j 0.+0.j 0.+0.j 0.+0.j 0.+0.j 0.+0.j 0.+1.j 0.+0.j]]]\n"
     ]
    }
   ],
   "execution_count": 9
  },
  {
   "cell_type": "markdown",
   "metadata": {},
   "source": [
    "## Implementing LS, CS, and CVX\n",
    "\n",
    "For the case of a random density matrix for 3 qubits as the original density matrix (the one we want to reconstruct) created with QuTip $\\rho_{random}$"
   ]
  },
  {
   "cell_type": "code",
   "metadata": {
    "ExecuteTime": {
     "end_time": "2025-04-21T11:34:28.363315Z",
     "start_time": "2025-04-21T11:34:28.228607Z"
    }
   },
   "source": [
    "\n",
    "max_itera: int = 300\n",
    "batch_s = round(0.5*len(ops_jnp)) #len(ops_jnp)=4**N\n",
    "\n",
    "# creating the original densirty matrix, this with a random rho from QuTip\n",
    "rho_or = rand_dm(2**number_qubits)\n",
    "data = qtp.expect(Measu_ope,rho_or)\n",
    "\n",
    "\n",
    "#LS-QST\n",
    "rho_ls, f_ls, t_ls = least_square_qst(measurement_ops=Measu_ope, basis_set=operator_basis, B=data, dimension=2**number_qubits, rho_ideal=rho_or)\n",
    "\n",
    "#CS-QST\n",
    "rho_cs, f_cs, t_cs = compressed_sensing_qst(measurement_ops=Measu_ope, basis_set=operator_basis, B=data, gamma=0, dimension=2**number_qubits, rho_ideal=rho_or)\n",
    "\n",
    "rho_cvx, f_cvx, t_cvx = cvx_qst(measurement_ops=Measu_ope, basis_set=operator_basis, B=data, gamma=0, dimension=2**number_qubits, rho_ideal=rho_or)\n",
    "\n"
   ],
   "outputs": [],
   "execution_count": 10
  },
  {
   "cell_type": "markdown",
   "metadata": {},
   "source": [
    "In the cases of LS, CS, and CVX we just have a float value with the value of fidelity, the total time of reconstruction and the reconstructed density matrix. "
   ]
  },
  {
   "cell_type": "code",
   "metadata": {
    "ExecuteTime": {
     "end_time": "2025-04-21T11:34:28.394476Z",
     "start_time": "2025-04-21T11:34:28.389493Z"
    }
   },
   "source": [
    "print('Final fidelity (LS) and average time in seconds :', f_ls, t_ls)\n",
    "print('Final fidelity (CS) and average time in seconds :', f_cs, t_cs)\n",
    "print('Final fidelity (CVX) and average time in seconds :', f_cvx, t_cvx)\n"
   ],
   "outputs": [
    {
     "name": "stdout",
     "output_type": "stream",
     "text": [
      "Final fidelity (LS) and average time in seconds : 0.9999999986495418 0.028412818908691406\n",
      "Final fidelity (CS) and average time in seconds : 0.9999999994062132 0.06327390670776367\n",
      "Final fidelity (CVX) and average time in seconds : 0.9999999999998194 0.0380859375\n"
     ]
    }
   ],
   "execution_count": 11
  },
  {
   "cell_type": "code",
   "metadata": {
    "ExecuteTime": {
     "end_time": "2025-04-21T11:34:28.438167Z",
     "start_time": "2025-04-21T11:34:28.433082Z"
    }
   },
   "source": [
    "print(rho_ls)"
   ],
   "outputs": [
    {
     "name": "stdout",
     "output_type": "stream",
     "text": [
      "Quantum object: dims=[[8], [8]], shape=(8, 8), type='oper', dtype=Dense, isherm=True\n",
      "Qobj data =\n",
      "[[ 0.15727637+0.j          0.0197209 -0.02519004j  0.03980829-0.0061778j\n",
      "   0.00717159-0.0244281j  -0.02595271+0.07866587j -0.01402301-0.04464789j\n",
      "   0.00899325-0.02922716j  0.01203279-0.06665354j]\n",
      " [ 0.0197209 +0.02519004j  0.15863635+0.j          0.00668831-0.04143068j\n",
      "  -0.00793422+0.05959453j -0.02078111+0.01240021j -0.00221101-0.02269768j\n",
      "  -0.01224415+0.02997325j -0.05255589+0.00869165j]\n",
      " [ 0.03980829+0.0061778j   0.00668831+0.04143068j  0.04743772+0.j\n",
      "  -0.00341492-0.01160369j -0.01243138+0.0319273j   0.00383296-0.03921568j\n",
      "  -0.02683753-0.02562274j -0.00554237-0.04422718j]\n",
      " [ 0.00717159+0.0244281j  -0.00793422-0.05959453j -0.00341492+0.01160369j\n",
      "   0.07676134+0.j         -0.02820645+0.01734911j  0.02669118-0.02920314j\n",
      "   0.01244106-0.0028239j   0.01404043+0.01528321j]\n",
      " [-0.02595271-0.07866587j -0.02078111-0.01240021j -0.01243138-0.0319273j\n",
      "  -0.02820645-0.01734911j  0.17972553+0.j         -0.0552516 +0.06891911j\n",
      "  -0.01216291-0.00917404j -0.01939645+0.05756233j]\n",
      " [-0.01402301+0.04464789j -0.00221101+0.02269768j  0.00383296+0.03921568j\n",
      "   0.02669118+0.02920314j -0.0552516 -0.06891911j  0.14886814+0.j\n",
      "  -0.0103001 -0.01966524j  0.00666917-0.00934765j]\n",
      " [ 0.00899325+0.02922716j -0.01224415-0.02997325j -0.02683753+0.02562274j\n",
      "   0.01244106+0.0028239j  -0.01216291+0.00917404j -0.0103001 +0.01966524j\n",
      "   0.09883165+0.j          0.04320494+0.04207412j]\n",
      " [ 0.01203279+0.06665354j -0.05255589-0.00869165j -0.00554237+0.04422718j\n",
      "   0.01404043-0.01528321j -0.01939645-0.05756233j  0.00666917+0.00934765j\n",
      "   0.04320494-0.04207412j  0.13246291+0.j        ]]\n"
     ]
    }
   ],
   "execution_count": 12
  },
  {
   "cell_type": "code",
   "metadata": {
    "ExecuteTime": {
     "end_time": "2025-04-21T11:34:28.478712Z",
     "start_time": "2025-04-21T11:34:28.475221Z"
    }
   },
   "source": [],
   "outputs": [],
   "execution_count": null
  }
 ],
 "metadata": {
  "kernelspec": {
   "display_name": "Python 3 (ipykernel)",
   "language": "python",
   "name": "python3"
  },
  "language_info": {
   "codemirror_mode": {
    "name": "ipython",
    "version": 3
   },
   "file_extension": ".py",
   "mimetype": "text/x-python",
   "name": "python",
   "nbconvert_exporter": "python",
   "pygments_lexer": "ipython3",
   "version": "3.10.13"
  }
 },
 "nbformat": 4,
 "nbformat_minor": 4
}
