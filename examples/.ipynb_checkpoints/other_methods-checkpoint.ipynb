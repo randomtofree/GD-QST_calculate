{
 "cells": [
  {
   "cell_type": "markdown",
   "metadata": {},
   "source": [
    "# Quantum state tomography (QST) with LS, CS and CVX"
   ]
  },
  {
   "cell_type": "markdown",
   "metadata": {},
   "source": []
  },
  {
   "cell_type": "code",
   "execution_count": 40,
   "metadata": {},
   "outputs": [],
   "source": [
    "# To call the libraries for the GD-QST\n",
    "import sys\n",
    "sys.path.insert(0, '..')\n",
    "# You have to change the path of the library \n",
    "import os\n",
    "\n",
    "from qutip import * \n",
    "from itertools import *\n",
    "import numpy as np\n",
    "import matplotlib.pyplot as plt \n",
    "import qutip as qtp\n",
    "#from qutip import basis, tensor\n",
    "\n",
    "from qst_tec.least_square import least_square_qst\n",
    "from qst_tec.compressed_sensing import compressed_sensing_qst\n",
    "from qst_tec.convex_optimization_cvx import cvx_qst\n",
    "\n",
    "import time\n"
   ]
  },
  {
   "cell_type": "markdown",
   "metadata": {},
   "source": [
    "### First we will define the number of qubits and the measurement operators. We will use the Pauli matrices.\n"
   ]
  },
  {
   "cell_type": "code",
   "execution_count": 41,
   "metadata": {},
   "outputs": [
    {
     "name": "stdout",
     "output_type": "stream",
     "text": [
      "[Quantum object: dims=[[8], [8]], shape=(8, 8), type='oper', isherm=True\n",
      "Qobj data =\n",
      "[[0. 1. 0. 0. 0. 0. 0. 0.]\n",
      " [1. 0. 0. 0. 0. 0. 0. 0.]\n",
      " [0. 0. 0. 1. 0. 0. 0. 0.]\n",
      " [0. 0. 1. 0. 0. 0. 0. 0.]\n",
      " [0. 0. 0. 0. 0. 1. 0. 0.]\n",
      " [0. 0. 0. 0. 1. 0. 0. 0.]\n",
      " [0. 0. 0. 0. 0. 0. 0. 1.]\n",
      " [0. 0. 0. 0. 0. 0. 1. 0.]], Quantum object: dims=[[8], [8]], shape=(8, 8), type='oper', isherm=True\n",
      "Qobj data =\n",
      "[[0.+0.j 0.-1.j 0.+0.j 0.+0.j 0.+0.j 0.+0.j 0.+0.j 0.+0.j]\n",
      " [0.+1.j 0.+0.j 0.+0.j 0.+0.j 0.+0.j 0.+0.j 0.+0.j 0.+0.j]\n",
      " [0.+0.j 0.+0.j 0.+0.j 0.-1.j 0.+0.j 0.+0.j 0.+0.j 0.+0.j]\n",
      " [0.+0.j 0.+0.j 0.+1.j 0.+0.j 0.+0.j 0.+0.j 0.+0.j 0.+0.j]\n",
      " [0.+0.j 0.+0.j 0.+0.j 0.+0.j 0.+0.j 0.-1.j 0.+0.j 0.+0.j]\n",
      " [0.+0.j 0.+0.j 0.+0.j 0.+0.j 0.+1.j 0.+0.j 0.+0.j 0.+0.j]\n",
      " [0.+0.j 0.+0.j 0.+0.j 0.+0.j 0.+0.j 0.+0.j 0.+0.j 0.-1.j]\n",
      " [0.+0.j 0.+0.j 0.+0.j 0.+0.j 0.+0.j 0.+0.j 0.+1.j 0.+0.j]]]\n"
     ]
    }
   ],
   "source": [
    "number_qubits: int = 3\n",
    "dimension: int = 2**number_qubits\n",
    "HS: int = dimension\n",
    "\n",
    "# Creating the Measurement operators (Pauli matrices)\n",
    "\n",
    "# computation basis, important for the other methods\n",
    "def qubit_computation_basis(n):\n",
    "    basis_states = [basis(2, i) for i in range(2)]\n",
    "    return [tensor(*state) for state in product(basis_states, repeat=n)]\n",
    "\n",
    "computation_basis = qubit_computation_basis(number_qubits)\n",
    "\n",
    "operator_basis = [Qobj(tensor(computation_basis[i],computation_basis[j].dag()), \n",
    "                dims=([[2**number_qubits], [2**number_qubits]])) for i in range(len(computation_basis)) for j in range(len(computation_basis))]\n",
    "\n",
    "pauli = [qeye(2), sigmax(), sigmay(), sigmaz()]\n",
    "pauli_sys = [tensor(*op) for op in product(pauli, repeat=number_qubits)] # using itertools\n",
    "\n",
    "Measu_ope = [Qobj(pauli_sys[i], dims=([[2**number_qubits], [2**number_qubits]])) for i in range(len(pauli_sys))]\n",
    "\n",
    "print(Measu_ope[1:3])\n",
    "\n",
    "\n",
    "#-----------------------------------------------------------------------\n",
    "# It is necesary to transform the measurement operators from a numpy \n",
    "# type to a jax type (jax.np), that because of the jax grad \n",
    "\n",
    "ops_np = [op.full() for op in Measu_ope] # transforming from qutip object to numpy\n",
    "ops_jnp = jnp.asarray(ops_np) # transforming from numpy to jax.np"
   ]
  },
  {
   "cell_type": "markdown",
   "metadata": {},
   "source": [
    "## Implementing LS, CS, and CVX\n",
    "\n",
    "For the case of a random density matrix for 3 qubits as the original density matrix (the one we want to reconstruct) created with QuTip $\\rho_{random}$"
   ]
  },
  {
   "cell_type": "code",
   "execution_count": 42,
   "metadata": {},
   "outputs": [],
   "source": [
    "\n",
    "max_itera: int = 300\n",
    "batch_s = round(0.5*len(ops_jnp)) #len(ops_jnp)=4**N\n",
    "\n",
    "# creating the original densirty matrix, this with a random rho from QuTip\n",
    "rho_or = rand_dm(2**number_qubits)\n",
    "data = qtp.expect(Measu_ope,rho_or)\n",
    "\n",
    "\n",
    "#LS-QST\n",
    "rho_ls, f_ls, t_ls = least_square_qst(measurement_ops=Measu_ope, basis_set=operator_basis, B=data, dimension=2**number_qubits, rho_ideal=rho_or)\n",
    "\n",
    "#CS-QST\n",
    "rho_cs, f_cs, t_cs = compressed_sensing_qst(measurement_ops=Measu_ope, basis_set=operator_basis, B=data, gamma=0, dimension=2**number_qubits, rho_ideal=rho_or)\n",
    "\n",
    "rho_cvx, f_cvx, t_cvx = cvx_qst(measurement_ops=Measu_ope, basis_set=operator_basis, B=data, gamma=0, dimension=2**number_qubits, rho_ideal=rho_or)\n",
    "\n"
   ]
  },
  {
   "cell_type": "markdown",
   "metadata": {},
   "source": [
    "In the cases of LS, CS, and CVX we just have a float value with the value of fidelity, the total time of reconstruction and the reconstructed density matrix. "
   ]
  },
  {
   "cell_type": "code",
   "execution_count": 43,
   "metadata": {},
   "outputs": [
    {
     "name": "stdout",
     "output_type": "stream",
     "text": [
      "Final fidelity (LS) and average time in seconds : 0.9999999800543798 0.09454917907714844\n",
      "Final fidelity (CS) and average time in seconds : 0.9999999996685098 0.11144757270812988\n",
      "Final fidelity (CVX) and average time in seconds : 0.9999999999996464 0.05239248275756836\n"
     ]
    }
   ],
   "source": [
    "print('Final fidelity (LS) and average time in seconds :', f_ls, t_ls)\n",
    "print('Final fidelity (CS) and average time in seconds :', f_cs, t_cs)\n",
    "print('Final fidelity (CVX) and average time in seconds :', f_cvx, t_cvx)\n"
   ]
  },
  {
   "cell_type": "code",
   "execution_count": 44,
   "metadata": {},
   "outputs": [
    {
     "name": "stdout",
     "output_type": "stream",
     "text": [
      "Quantum object: dims=[[8], [8]], shape=(8, 8), type='oper', isherm=True\n",
      "Qobj data =\n",
      "[[ 0.232854  +0.j         -0.0657598 +0.02759441j  0.0242637 +0.00755835j\n",
      "  -0.0044518 +0.07482037j -0.03451106+0.02977795j  0.01486211+0.04133913j\n",
      "   0.03077553-0.01350539j -0.00935112+0.06625973j]\n",
      " [-0.0657598 -0.02759441j  0.10713609+0.j         -0.0092679 -0.0151969j\n",
      "   0.00838573+0.01562986j  0.02880862-0.03950405j -0.02122689-0.01395049j\n",
      "  -0.00870109+0.02183851j -0.01793418+0.01776394j]\n",
      " [ 0.0242637 -0.00755835j -0.0092679 +0.0151969j   0.10567716+0.j\n",
      "  -0.02327196-0.02225311j -0.01698099-0.0026105j   0.0605151 +0.02355181j\n",
      "   0.00440198-0.0475387j   0.02685588-0.00101278j]\n",
      " [-0.0044518 -0.07482037j  0.00838573-0.01562986j -0.02327196+0.02225311j\n",
      "   0.0988422 +0.j         -0.00556328-0.00828518j  0.04084065+0.02315615j\n",
      "   0.00937139-0.00296617j  0.03044136-0.00049055j]\n",
      " [-0.03451106-0.02977795j  0.02880862+0.03950405j -0.01698099+0.0026105j\n",
      "  -0.00556328+0.00828518j  0.0856197 +0.j         -0.02556546+0.00690152j\n",
      "  -0.0056141 +0.03192274j -0.01418921+0.02532178j]\n",
      " [ 0.01486211-0.04133913j -0.02122689+0.01395049j  0.0605151 -0.02355181j\n",
      "   0.04084065-0.02315615j -0.02556546-0.00690152j  0.14397175+0.j\n",
      "  -0.01390934-0.03591834j  0.06216419-0.04841216j]\n",
      " [ 0.03077553+0.01350539j -0.00870109-0.02183851j  0.00440198+0.0475387j\n",
      "   0.00937139+0.00296617j -0.0056141 -0.03192274j -0.01390934+0.03591834j\n",
      "   0.10482338+0.j          0.0366204 +0.02802077j]\n",
      " [-0.00935112-0.06625973j -0.01793418-0.01776394j  0.02685588+0.00101278j\n",
      "   0.03044136+0.00049055j -0.01418921-0.02532178j  0.06216419+0.04841216j\n",
      "   0.0366204 -0.02802077j  0.12107567+0.j        ]]\n"
     ]
    }
   ],
   "source": [
    "print(rho_ls)"
   ]
  },
  {
   "cell_type": "code",
   "execution_count": null,
   "metadata": {},
   "outputs": [],
   "source": []
  }
 ],
 "metadata": {
  "kernelspec": {
   "display_name": "tensorc",
   "language": "python",
   "name": "python3"
  },
  "language_info": {
   "codemirror_mode": {
    "name": "ipython",
    "version": 3
   },
   "file_extension": ".py",
   "mimetype": "text/x-python",
   "name": "python",
   "nbconvert_exporter": "python",
   "pygments_lexer": "ipython3",
   "version": "3.10.13"
  }
 },
 "nbformat": 4,
 "nbformat_minor": 2
}
